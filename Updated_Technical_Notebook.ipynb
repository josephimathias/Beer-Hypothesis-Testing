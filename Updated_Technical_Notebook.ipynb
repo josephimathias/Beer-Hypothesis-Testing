{
 "cells": [
  {
   "cell_type": "markdown",
   "metadata": {},
   "source": [
    "# Hypothesis Testing on Beer Data\n",
    "This notebook explores different facets of beer, including brewing location, bitterness, and alcohol content. We use this data to generate and test hypotheses."
   ]
  },
  {
   "cell_type": "markdown",
   "metadata": {},
   "source": [
    "## BreweryDB Data\n",
    "### Loading the dataset\n",
    "The data for this first test wass pulled from [BreweryDB](https://www.brewerydb.com/developers/apps) by API. The data was saved as a CSV."
   ]
  },
  {
   "cell_type": "code",
   "execution_count": 1,
   "metadata": {},
   "outputs": [],
   "source": [
    "# Data analysis packages:\n",
    "import pandas as pd\n",
    "import numpy as np\n",
    "\n",
    "# Visualization packages:\n",
    "import seaborn as sns\n",
    "sns.set_style('darkgrid')\n",
    "import matplotlib.pyplot as plt\n",
    "%matplotlib inline\n",
    "%load_ext autoreload\n",
    "\n",
    "## Loading the dataset\n",
    "beers = pd.read_csv('data/dirty_data.csv')"
   ]
  },
  {
   "cell_type": "markdown",
   "metadata": {},
   "source": [
    "### Understanding the data"
   ]
  },
  {
   "cell_type": "markdown",
   "metadata": {},
   "source": [
    "In order to define the hypotheses, we first need to know what information is available in the dataset."
   ]
  },
  {
   "cell_type": "code",
   "execution_count": 2,
   "metadata": {
    "scrolled": false
   },
   "outputs": [
    {
     "name": "stdout",
     "output_type": "stream",
     "text": [
      "This dataset has 508400 samples. and 20 columns\n"
     ]
    },
    {
     "data": {
      "text/html": [
       "<div>\n",
       "<style scoped>\n",
       "    .dataframe tbody tr th:only-of-type {\n",
       "        vertical-align: middle;\n",
       "    }\n",
       "\n",
       "    .dataframe tbody tr th {\n",
       "        vertical-align: top;\n",
       "    }\n",
       "\n",
       "    .dataframe thead th {\n",
       "        text-align: right;\n",
       "    }\n",
       "</style>\n",
       "<table border=\"1\" class=\"dataframe\">\n",
       "  <thead>\n",
       "    <tr style=\"text-align: right;\">\n",
       "      <th></th>\n",
       "      <th>Unnamed: 0</th>\n",
       "      <th>id</th>\n",
       "      <th>name</th>\n",
       "      <th>name_display</th>\n",
       "      <th>abv</th>\n",
       "      <th>gravity</th>\n",
       "      <th>ibu</th>\n",
       "      <th>organic</th>\n",
       "      <th>retired</th>\n",
       "      <th>style_name</th>\n",
       "      <th>...</th>\n",
       "      <th>updated</th>\n",
       "      <th>ibu_min</th>\n",
       "      <th>ibu_max</th>\n",
       "      <th>abv_min</th>\n",
       "      <th>abv_max</th>\n",
       "      <th>srm_min</th>\n",
       "      <th>srm_max</th>\n",
       "      <th>fg_min</th>\n",
       "      <th>fg_max</th>\n",
       "      <th>og_min</th>\n",
       "    </tr>\n",
       "  </thead>\n",
       "  <tbody>\n",
       "    <tr>\n",
       "      <th>0</th>\n",
       "      <td>0</td>\n",
       "      <td>c4f2KE</td>\n",
       "      <td>'Murican Pilsner</td>\n",
       "      <td>'Murican Pilsner</td>\n",
       "      <td>5.5</td>\n",
       "      <td>NaN</td>\n",
       "      <td>NaN</td>\n",
       "      <td>N</td>\n",
       "      <td>N</td>\n",
       "      <td>American-Style Pilsener</td>\n",
       "      <td>...</td>\n",
       "      <td>2018-11-02 02:15:14</td>\n",
       "      <td>25.0</td>\n",
       "      <td>40.0</td>\n",
       "      <td>5.0</td>\n",
       "      <td>6.0</td>\n",
       "      <td>3.0</td>\n",
       "      <td>6.0</td>\n",
       "      <td>1.012</td>\n",
       "      <td>1.018</td>\n",
       "      <td>1.045</td>\n",
       "    </tr>\n",
       "    <tr>\n",
       "      <th>1</th>\n",
       "      <td>1</td>\n",
       "      <td>zTTWa2</td>\n",
       "      <td>11.5° PLATO</td>\n",
       "      <td>11.5° PLATO</td>\n",
       "      <td>4.5</td>\n",
       "      <td>1.046</td>\n",
       "      <td>35.0</td>\n",
       "      <td>N</td>\n",
       "      <td>N</td>\n",
       "      <td>Session India Pale Ale</td>\n",
       "      <td>...</td>\n",
       "      <td>2018-11-02 02:15:14</td>\n",
       "      <td>NaN</td>\n",
       "      <td>NaN</td>\n",
       "      <td>NaN</td>\n",
       "      <td>NaN</td>\n",
       "      <td>NaN</td>\n",
       "      <td>NaN</td>\n",
       "      <td>NaN</td>\n",
       "      <td>NaN</td>\n",
       "      <td>NaN</td>\n",
       "    </tr>\n",
       "    <tr>\n",
       "      <th>2</th>\n",
       "      <td>2</td>\n",
       "      <td>zfP2fK</td>\n",
       "      <td>12th Of Never</td>\n",
       "      <td>12th Of Never</td>\n",
       "      <td>5.5</td>\n",
       "      <td>1.050</td>\n",
       "      <td>45.0</td>\n",
       "      <td>N</td>\n",
       "      <td>N</td>\n",
       "      <td>American-Style Pale Ale</td>\n",
       "      <td>...</td>\n",
       "      <td>2018-11-02 02:15:14</td>\n",
       "      <td>30.0</td>\n",
       "      <td>42.0</td>\n",
       "      <td>4.5</td>\n",
       "      <td>5.6</td>\n",
       "      <td>6.0</td>\n",
       "      <td>14.0</td>\n",
       "      <td>1.008</td>\n",
       "      <td>1.014</td>\n",
       "      <td>1.044</td>\n",
       "    </tr>\n",
       "    <tr>\n",
       "      <th>3</th>\n",
       "      <td>3</td>\n",
       "      <td>xwYSL2</td>\n",
       "      <td>15th Anniversary Ale</td>\n",
       "      <td>15th Anniversary Ale</td>\n",
       "      <td>NaN</td>\n",
       "      <td>NaN</td>\n",
       "      <td>NaN</td>\n",
       "      <td>N</td>\n",
       "      <td>N</td>\n",
       "      <td>Extra Special Bitter</td>\n",
       "      <td>...</td>\n",
       "      <td>2018-11-02 02:15:14</td>\n",
       "      <td>30.0</td>\n",
       "      <td>45.0</td>\n",
       "      <td>4.8</td>\n",
       "      <td>5.8</td>\n",
       "      <td>8.0</td>\n",
       "      <td>14.0</td>\n",
       "      <td>1.010</td>\n",
       "      <td>1.016</td>\n",
       "      <td>1.046</td>\n",
       "    </tr>\n",
       "    <tr>\n",
       "      <th>4</th>\n",
       "      <td>4</td>\n",
       "      <td>UJGpVS</td>\n",
       "      <td>16 So Fine Red Wheat Wine</td>\n",
       "      <td>16 So Fine Red Wheat Wine</td>\n",
       "      <td>11.0</td>\n",
       "      <td>NaN</td>\n",
       "      <td>NaN</td>\n",
       "      <td>N</td>\n",
       "      <td>N</td>\n",
       "      <td>American-Style Wheat Wine Ale</td>\n",
       "      <td>...</td>\n",
       "      <td>2018-11-02 02:15:14</td>\n",
       "      <td>45.0</td>\n",
       "      <td>85.0</td>\n",
       "      <td>8.4</td>\n",
       "      <td>12.0</td>\n",
       "      <td>8.0</td>\n",
       "      <td>15.0</td>\n",
       "      <td>1.024</td>\n",
       "      <td>1.032</td>\n",
       "      <td>1.088</td>\n",
       "    </tr>\n",
       "  </tbody>\n",
       "</table>\n",
       "<p>5 rows × 21 columns</p>\n",
       "</div>"
      ],
      "text/plain": [
       "   Unnamed: 0      id                       name               name_display  \\\n",
       "0           0  c4f2KE           'Murican Pilsner           'Murican Pilsner   \n",
       "1           1  zTTWa2                11.5° PLATO                11.5° PLATO   \n",
       "2           2  zfP2fK              12th Of Never              12th Of Never   \n",
       "3           3  xwYSL2       15th Anniversary Ale       15th Anniversary Ale   \n",
       "4           4  UJGpVS  16 So Fine Red Wheat Wine  16 So Fine Red Wheat Wine   \n",
       "\n",
       "    abv  gravity   ibu organic retired                     style_name   ...    \\\n",
       "0   5.5      NaN   NaN       N       N        American-Style Pilsener   ...     \n",
       "1   4.5    1.046  35.0       N       N         Session India Pale Ale   ...     \n",
       "2   5.5    1.050  45.0       N       N        American-Style Pale Ale   ...     \n",
       "3   NaN      NaN   NaN       N       N           Extra Special Bitter   ...     \n",
       "4  11.0      NaN   NaN       N       N  American-Style Wheat Wine Ale   ...     \n",
       "\n",
       "               updated ibu_min  ibu_max  abv_min  abv_max  srm_min  srm_max  \\\n",
       "0  2018-11-02 02:15:14    25.0     40.0      5.0      6.0      3.0      6.0   \n",
       "1  2018-11-02 02:15:14     NaN      NaN      NaN      NaN      NaN      NaN   \n",
       "2  2018-11-02 02:15:14    30.0     42.0      4.5      5.6      6.0     14.0   \n",
       "3  2018-11-02 02:15:14    30.0     45.0      4.8      5.8      8.0     14.0   \n",
       "4  2018-11-02 02:15:14    45.0     85.0      8.4     12.0      8.0     15.0   \n",
       "\n",
       "   fg_min  fg_max  og_min  \n",
       "0   1.012   1.018   1.045  \n",
       "1     NaN     NaN     NaN  \n",
       "2   1.008   1.014   1.044  \n",
       "3   1.010   1.016   1.046  \n",
       "4   1.024   1.032   1.088  \n",
       "\n",
       "[5 rows x 21 columns]"
      ]
     },
     "execution_count": 2,
     "metadata": {},
     "output_type": "execute_result"
    }
   ],
   "source": [
    "## Printing the number of samples in the dataset:\n",
    "print('This dataset has {0} samples.'.format(len(beers)), 'and {} columns'.format(len(beers.columns)-1))\n",
    "\n",
    "## Show first five rows:\n",
    "beers.head()"
   ]
  },
  {
   "cell_type": "code",
   "execution_count": 48,
   "metadata": {},
   "outputs": [
    {
     "name": "stdout",
     "output_type": "stream",
     "text": [
      "20th Street Ale Crystal    10168\n",
      "420 Extra Pale Ale         10168\n",
      "2017 Beer Camp             10168\n",
      "A Beer Named Sue           10168\n",
      "Alpha Dog Imperial IPA     10168\n",
      "Name: name, dtype: int64\n"
     ]
    }
   ],
   "source": [
    "print(beers.name.value_counts().head())"
   ]
  },
  {
   "cell_type": "markdown",
   "metadata": {},
   "source": [
    "## New Beer Dataset\n",
    "The dataset that we pulled using the BreweryDB API was sandbox data and contained dummy information that was not appropriate for analysis.\n",
    "\n",
    "We chose a new dataset that covered the same information."
   ]
  },
  {
   "cell_type": "markdown",
   "metadata": {},
   "source": [
    "### Loading the Dataset and Understanding the Data"
   ]
  },
  {
   "cell_type": "code",
   "execution_count": 3,
   "metadata": {},
   "outputs": [
    {
     "data": {
      "text/html": [
       "<div>\n",
       "<style scoped>\n",
       "    .dataframe tbody tr th:only-of-type {\n",
       "        vertical-align: middle;\n",
       "    }\n",
       "\n",
       "    .dataframe tbody tr th {\n",
       "        vertical-align: top;\n",
       "    }\n",
       "\n",
       "    .dataframe thead th {\n",
       "        text-align: right;\n",
       "    }\n",
       "</style>\n",
       "<table border=\"1\" class=\"dataframe\">\n",
       "  <thead>\n",
       "    <tr style=\"text-align: right;\">\n",
       "      <th></th>\n",
       "      <th>Unnamed: 0</th>\n",
       "      <th>beer_id</th>\n",
       "      <th>abv</th>\n",
       "      <th>ibu</th>\n",
       "      <th>id</th>\n",
       "      <th>beer_name</th>\n",
       "      <th>style</th>\n",
       "      <th>brewery_id</th>\n",
       "      <th>ounces</th>\n",
       "      <th>brewery_name</th>\n",
       "      <th>city</th>\n",
       "      <th>state</th>\n",
       "    </tr>\n",
       "  </thead>\n",
       "  <tbody>\n",
       "    <tr>\n",
       "      <th>0</th>\n",
       "      <td>0</td>\n",
       "      <td>0</td>\n",
       "      <td>0.050</td>\n",
       "      <td>NaN</td>\n",
       "      <td>1436</td>\n",
       "      <td>Pub Beer</td>\n",
       "      <td>American Pale Lager</td>\n",
       "      <td>408</td>\n",
       "      <td>12.0</td>\n",
       "      <td>10 Barrel Brewing Company</td>\n",
       "      <td>Bend</td>\n",
       "      <td>OR</td>\n",
       "    </tr>\n",
       "    <tr>\n",
       "      <th>1</th>\n",
       "      <td>1</td>\n",
       "      <td>1</td>\n",
       "      <td>0.066</td>\n",
       "      <td>NaN</td>\n",
       "      <td>2265</td>\n",
       "      <td>Devil's Cup</td>\n",
       "      <td>American Pale Ale (APA)</td>\n",
       "      <td>177</td>\n",
       "      <td>12.0</td>\n",
       "      <td>18th Street Brewery</td>\n",
       "      <td>Gary</td>\n",
       "      <td>IN</td>\n",
       "    </tr>\n",
       "    <tr>\n",
       "      <th>2</th>\n",
       "      <td>2</td>\n",
       "      <td>2</td>\n",
       "      <td>0.071</td>\n",
       "      <td>NaN</td>\n",
       "      <td>2264</td>\n",
       "      <td>Rise of the Phoenix</td>\n",
       "      <td>American IPA</td>\n",
       "      <td>177</td>\n",
       "      <td>12.0</td>\n",
       "      <td>18th Street Brewery</td>\n",
       "      <td>Gary</td>\n",
       "      <td>IN</td>\n",
       "    </tr>\n",
       "    <tr>\n",
       "      <th>3</th>\n",
       "      <td>3</td>\n",
       "      <td>3</td>\n",
       "      <td>0.090</td>\n",
       "      <td>NaN</td>\n",
       "      <td>2263</td>\n",
       "      <td>Sinister</td>\n",
       "      <td>American Double / Imperial IPA</td>\n",
       "      <td>177</td>\n",
       "      <td>12.0</td>\n",
       "      <td>18th Street Brewery</td>\n",
       "      <td>Gary</td>\n",
       "      <td>IN</td>\n",
       "    </tr>\n",
       "    <tr>\n",
       "      <th>4</th>\n",
       "      <td>4</td>\n",
       "      <td>4</td>\n",
       "      <td>0.075</td>\n",
       "      <td>NaN</td>\n",
       "      <td>2262</td>\n",
       "      <td>Sex and Candy</td>\n",
       "      <td>American IPA</td>\n",
       "      <td>177</td>\n",
       "      <td>12.0</td>\n",
       "      <td>18th Street Brewery</td>\n",
       "      <td>Gary</td>\n",
       "      <td>IN</td>\n",
       "    </tr>\n",
       "  </tbody>\n",
       "</table>\n",
       "</div>"
      ],
      "text/plain": [
       "   Unnamed: 0  beer_id    abv  ibu    id            beer_name  \\\n",
       "0           0        0  0.050  NaN  1436             Pub Beer   \n",
       "1           1        1  0.066  NaN  2265          Devil's Cup   \n",
       "2           2        2  0.071  NaN  2264  Rise of the Phoenix   \n",
       "3           3        3  0.090  NaN  2263             Sinister   \n",
       "4           4        4  0.075  NaN  2262        Sex and Candy   \n",
       "\n",
       "                            style  brewery_id  ounces  \\\n",
       "0             American Pale Lager         408    12.0   \n",
       "1         American Pale Ale (APA)         177    12.0   \n",
       "2                    American IPA         177    12.0   \n",
       "3  American Double / Imperial IPA         177    12.0   \n",
       "4                    American IPA         177    12.0   \n",
       "\n",
       "                brewery_name  city state  \n",
       "0  10 Barrel Brewing Company  Bend    OR  \n",
       "1        18th Street Brewery  Gary    IN  \n",
       "2        18th Street Brewery  Gary    IN  \n",
       "3        18th Street Brewery  Gary    IN  \n",
       "4        18th Street Brewery  Gary    IN  "
      ]
     },
     "execution_count": 3,
     "metadata": {},
     "output_type": "execute_result"
    }
   ],
   "source": [
    "brewery = pd.read_csv('data/beer_and_brewery.csv')\n",
    "brewery.head()"
   ]
  },
  {
   "cell_type": "markdown",
   "metadata": {},
   "source": [
    "## Hypothesis 1: ABV/IBU of beers brewed in Colorado and beers brewed in California\n",
    "In this test, we compare beers brewed in two states to see if there is a significant difference between their ABVs.\n",
    "\n",
    "According to [TheDenverChannel](https://www.thedenverchannel.com/money/consumer/colorado-grocers-can-offer-full-strength-beer-on-jan-1), prior to 2019, beer sold at Colorado grocery and convenience stores ws limited to 3.2% alcohol by weight, or 4% ABV. To find beer with higher alcohol content — typically known as full-strength beer — you had to shop at liquor stores.\n",
    "\n",
    "You can view other laws by state [here](https://www.legalbeer.com/liquor-laws-by-state)."
   ]
  },
  {
   "cell_type": "code",
   "execution_count": 4,
   "metadata": {},
   "outputs": [
    {
     "name": "stdout",
     "output_type": "stream",
     "text": [
      "Sample Alcohol by Volume (ABV) mean in Colorado 0.063\n",
      "Sample Alcohol by Volume (ABV) variance in Colorado 0.00021\n",
      "---------------------------------\n",
      "Sample Alcohol by Volume (ABV) mean in California 0.061\n",
      "Sample Alcohol by Volume (ABV) variance in Colorado 0.00023\n"
     ]
    }
   ],
   "source": [
    "# Hypothesis question: what is the difference in ABV between CO and CA\n",
    "CO_brewery = brewery[brewery.state == 'CO']['abv']\n",
    "CA_brewery = brewery[brewery.state == 'CA']['abv']\n",
    "CO_brewery = CO_brewery[~np.isnan(CO_brewery)]\n",
    "CA_brewery = CA_brewery[~np.isnan(CA_brewery)]\n",
    "print('Sample Alcohol by Volume (ABV) mean in Colorado', round(CO_brewery.mean(), 3))\n",
    "print('Sample Alcohol by Volume (ABV) variance in Colorado', round(CO_brewery.var(), 5))\n",
    "print(\"---------------------------------\")\n",
    "print('Sample Alcohol by Volume (ABV) mean in California', round(CA_brewery.mean(), 3))\n",
    "print('Sample Alcohol by Volume (ABV) variance in Colorado', round(CA_brewery.var(), 5))"
   ]
  },
  {
   "cell_type": "markdown",
   "metadata": {},
   "source": [
    "### 1.1. Set Null Hypotheses\n",
    "\n",
    "The null hypothesis is there is no difference in Alcohol By Volume between beers brewed in Colorado and beers brewed in California.\n",
    "\n",
    ">**$H_{0}$: The mean ABV difference between Colorado beers and California beers is zero. i.e. $H_{0} = H_{1}$**\n",
    "\n",
    "### 1.2. Set Alternative Hypothesis\n",
    "\n",
    ">**$H_{1}$ (2-tailed): The mean difference between Colorado and California beers is different.**"
   ]
  },
  {
   "cell_type": "markdown",
   "metadata": {},
   "source": [
    "### 1.3. Choose the Significance Level\n",
    "The significance level ($\\alpha$) is the probability of rejecting the null hypothesis when it is actually true. The general significance level of 0.05 or 5% risk is used for this hypothesis testing."
   ]
  },
  {
   "cell_type": "markdown",
   "metadata": {},
   "source": [
    "### 1.4. Choose A Test\n",
    "The Central Limit Theory states that as the number of samples increases, the distribution of sample means follows a normal distribution.\n",
    "\n",
    "This allows us to perform a two-sample t-test.\n"
   ]
  },
  {
   "cell_type": "markdown",
   "metadata": {},
   "source": [
    "\n",
    "### 1.5. Calculate Test Statistic\n",
    "We know that the variance is equal in these samples.\n",
    "we can calculate the two-sample t-statistic like so:\n",
    "\n",
    "$$\\large t = \\frac{\\bar{x}_{1} - \\bar{x}_{2}}{\\sqrt{s^{2}_{p} (\\frac{1}{n_{1}} + \\frac{1}{n_{2}}) }    }  $$\n",
    "\n",
    "Where $s^{2}_{p}$ is the pooled sample variance, calculated as:\n",
    "\n",
    "$$\\large s^{2}_{p}  = \\frac{(n_{1} -1)s^{2}_{1} +  (n_{2} -1)s^{2}_{2}}{n_{1} + n_{2} - 2}  $$\n",
    "\n",
    "Where $s^{2}_{1}$ and $s^{2}_{2}$ are the variances for each sample given by the formula \n",
    "$$ \\large s^{2} = \\frac{\\sum_{i=1}^{n}(x_{i} - \\bar{x})^{2}}{n-1} $$"
   ]
  },
  {
   "cell_type": "code",
   "execution_count": 5,
   "metadata": {},
   "outputs": [
    {
     "name": "stdout",
     "output_type": "stream",
     "text": [
      "Null hypothesis is True with t-statistic =  1.5843 , critical t-value =  1.9655 and p-value =  0.0569\n",
      "The groups contain 250 and  182 observations. Means are:  0.0634 and 0.0611 respectivelly\n"
     ]
    }
   ],
   "source": [
    "import test_moduls  as test\n",
    "t_stat = test.twosample_tstatistic(CO_brewery, CA_brewery)"
   ]
  },
  {
   "cell_type": "markdown",
   "metadata": {},
   "source": [
    "### 1.6. Interpret the Result"
   ]
  },
  {
   "cell_type": "code",
   "execution_count": 6,
   "metadata": {},
   "outputs": [
    {
     "data": {
      "image/png": "[encoded data removed]",
      "text/plain": [
       "<Figure size 720x360 with 1 Axes>"
      ]
     },
     "metadata": {},
     "output_type": "display_data"
    }
   ],
   "source": [
    "import visualization\n",
    "import numpy as np\n",
    "visualization.visualize_t(t_stat, len(CO_brewery), len(CA_brewery))"
   ]
  },
  {
   "cell_type": "markdown",
   "metadata": {},
   "source": [
    "## Welch's t-test\n",
    "Welch's t-test is most common hypothesis test used in a two-sample test to infer the two populations have equal means. Welch's t-test is more reliable when the two samples have unequal variances and/or unequal sample sizes.\n",
    "\n",
    "Here we use the test to examine IBU of the same subsets of beers-- those brewed in Colorado and California."
   ]
  },
  {
   "cell_type": "code",
   "execution_count": 7,
   "metadata": {
    "scrolled": true
   },
   "outputs": [
    {
     "name": "stdout",
     "output_type": "stream",
     "text": [
      "Sample Alcohol by Volume (ABV) mean in Colorado: 47.432\n",
      "Sample Alcohol by Volume (ABV) variance in Colorado:  679.21252\n",
      "Sample size is:  146\n",
      "---------------------------------\n",
      "Sample Alcohol by Volume (ABV) mean in California:  46.281\n",
      "Sample Alcohol by Volume (ABV) variance in Colorado:  752.80077\n",
      "Sample size is 135\n"
     ]
    }
   ],
   "source": [
    "CO_ibu = brewery[brewery.state == 'CO']['ibu']\n",
    "CA_ibu = brewery[brewery.state == 'CA']['ibu']\n",
    "CO_ibu = CO_ibu[~np.isnan(CO_ibu)]\n",
    "CA_ibu = CA_ibu[~np.isnan(CA_ibu)]\n",
    "print('Sample Alcohol by Volume (ABV) mean in Colorado:', round(CO_ibu.mean(), 3))\n",
    "print('Sample Alcohol by Volume (ABV) variance in Colorado: ', round(CO_ibu.var(), 5))\n",
    "print('Sample size is: ', CO_ibu.size)\n",
    "print(\"---------------------------------\")\n",
    "print('Sample Alcohol by Volume (ABV) mean in California: ', round(CA_ibu.mean(), 3))\n",
    "print('Sample Alcohol by Volume (ABV) variance in Colorado: ', round(CA_ibu.var(), 5))\n",
    "print('Sample size is', CA_ibu.size)"
   ]
  },
  {
   "cell_type": "markdown",
   "metadata": {},
   "source": [
    "There is clear unequality in variance and sample sizes between our two population groups, so Welchs test is a better candidate than two-sample t-test"
   ]
  },
  {
   "cell_type": "markdown",
   "metadata": {},
   "source": [
    "Welch test degrees of freedom and t-statistic is calcualted using the following formaula. \n",
    "$$\\text{df}  = \\frac{\\big(\\frac{s_{1}^{2}}{n_{1}} + \\frac{s_{2}^{2}}{n_{2}}\\big)^{2}}{\\frac{1}{n_{1}-1}\\big(\\frac{s_{1}^{2}}{n_{1}}\\big)^{2} + \\frac{1}{n_{2}-1}\\big(\\frac{s_{2}^{2}}{n_{2}}\\big)^{2}}$$\n",
    "Then T-statistics also known as Welch's t-test is given by: \n",
    "\n",
    "$$   t = \\frac{(\\bar{x}_{1} - \\bar{x}_{2}) - D_{0}}{\\sqrt{\\frac{s_{1}^{2}}{n_{1}} + \\frac{s_{2}^{2}}{n_{2}}}} = \\frac{\\bar{X_1}-\\bar{X_2}}{\\sqrt{se_1^2+se_2^2}}$$"
   ]
  },
  {
   "cell_type": "code",
   "execution_count": 8,
   "metadata": {},
   "outputs": [
    {
     "name": "stdout",
     "output_type": "stream",
     "text": [
      "Welch's t-statistic is:  0.3596\n",
      "Welch's degrees of fredoom (df): 274.37\n",
      "We fail to reject the Null hypothesis with t-value =  0.3596 , critical t-value =  1.6504 , and p-value =  0.3597\n"
     ]
    }
   ],
   "source": [
    "# import test_moduls that contain function helpful to make weltch test\n",
    "import test_moduls as test\n",
    "welch_t = test.welch_t(CO_ibu, CA_ibu)\n",
    "print(\"Welch's t-statistic is: \", round(welch_t,4))\n",
    "welch_df = test.welch_df(CO_ibu, CA_ibu)\n",
    "print(\"Welch's degrees of fredoom (df):\", round(welch_df,2))\n",
    "\n",
    "# converting this to p_value \n",
    "p_welch = test.p_value_welch_ttest(CO_ibu, CA_ibu)"
   ]
  },
  {
   "cell_type": "code",
   "execution_count": 9,
   "metadata": {},
   "outputs": [
    {
     "data": {
      "image/png": "[encoded data removed]",
      "text/plain": [
       "<Figure size 720x360 with 1 Axes>"
      ]
     },
     "metadata": {},
     "output_type": "display_data"
    }
   ],
   "source": [
    "visualization.visualize_t(welch_t, len(CO_ibu), len(CA_ibu))"
   ]
  },
  {
   "cell_type": "markdown",
   "metadata": {},
   "source": [
    "## Hypothesis 2: IBU of Beers Brewed on West Coast and East Coast\n",
    "Here we use a function that we created called coast_list() to identify each brewery as East Coast or West Coast. Breweries that are neither are ignored. We then use groupby() to take a quick look at summary statistics."
   ]
  },
  {
   "cell_type": "code",
   "execution_count": 10,
   "metadata": {
    "scrolled": false
   },
   "outputs": [
    {
     "data": {
      "text/html": [
       "<div>\n",
       "<style scoped>\n",
       "    .dataframe tbody tr th:only-of-type {\n",
       "        vertical-align: middle;\n",
       "    }\n",
       "\n",
       "    .dataframe tbody tr th {\n",
       "        vertical-align: top;\n",
       "    }\n",
       "\n",
       "    .dataframe thead th {\n",
       "        text-align: right;\n",
       "    }\n",
       "</style>\n",
       "<table border=\"1\" class=\"dataframe\">\n",
       "  <thead>\n",
       "    <tr style=\"text-align: right;\">\n",
       "      <th></th>\n",
       "      <th>beer_name</th>\n",
       "      <th>brewery_name</th>\n",
       "      <th>ibu</th>\n",
       "      <th>state</th>\n",
       "      <th>region</th>\n",
       "    </tr>\n",
       "  </thead>\n",
       "  <tbody>\n",
       "    <tr>\n",
       "      <th>21</th>\n",
       "      <td>Lower De Boom</td>\n",
       "      <td>21st Amendment Brewery</td>\n",
       "      <td>92.0</td>\n",
       "      <td>CA</td>\n",
       "      <td>wc</td>\n",
       "    </tr>\n",
       "    <tr>\n",
       "      <th>22</th>\n",
       "      <td>Fireside Chat</td>\n",
       "      <td>21st Amendment Brewery</td>\n",
       "      <td>45.0</td>\n",
       "      <td>CA</td>\n",
       "      <td>wc</td>\n",
       "    </tr>\n",
       "    <tr>\n",
       "      <th>24</th>\n",
       "      <td>Bitter American</td>\n",
       "      <td>21st Amendment Brewery</td>\n",
       "      <td>42.0</td>\n",
       "      <td>CA</td>\n",
       "      <td>wc</td>\n",
       "    </tr>\n",
       "    <tr>\n",
       "      <th>25</th>\n",
       "      <td>Hell or High Watermelon Wheat (2009)</td>\n",
       "      <td>21st Amendment Brewery</td>\n",
       "      <td>17.0</td>\n",
       "      <td>CA</td>\n",
       "      <td>wc</td>\n",
       "    </tr>\n",
       "    <tr>\n",
       "      <th>26</th>\n",
       "      <td>Hell or High Watermelon Wheat (2009)</td>\n",
       "      <td>21st Amendment Brewery</td>\n",
       "      <td>17.0</td>\n",
       "      <td>CA</td>\n",
       "      <td>wc</td>\n",
       "    </tr>\n",
       "  </tbody>\n",
       "</table>\n",
       "</div>"
      ],
      "text/plain": [
       "                               beer_name            brewery_name   ibu state  \\\n",
       "21                         Lower De Boom  21st Amendment Brewery  92.0    CA   \n",
       "22                         Fireside Chat  21st Amendment Brewery  45.0    CA   \n",
       "24                       Bitter American  21st Amendment Brewery  42.0    CA   \n",
       "25  Hell or High Watermelon Wheat (2009)  21st Amendment Brewery  17.0    CA   \n",
       "26  Hell or High Watermelon Wheat (2009)  21st Amendment Brewery  17.0    CA   \n",
       "\n",
       "   region  \n",
       "21     wc  \n",
       "22     wc  \n",
       "24     wc  \n",
       "25     wc  \n",
       "26     wc  "
      ]
     },
     "execution_count": 10,
     "metadata": {},
     "output_type": "execute_result"
    }
   ],
   "source": [
    "import function as f\n",
    "beer_df_by_coast = f.coast_list(brewery)\n",
    "beer_df_by_coast.head()"
   ]
  },
  {
   "cell_type": "code",
   "execution_count": 11,
   "metadata": {
    "scrolled": false
   },
   "outputs": [
    {
     "data": {
      "text/html": [
       "<div>\n",
       "<style scoped>\n",
       "    .dataframe tbody tr th:only-of-type {\n",
       "        vertical-align: middle;\n",
       "    }\n",
       "\n",
       "    .dataframe tbody tr th {\n",
       "        vertical-align: top;\n",
       "    }\n",
       "\n",
       "    .dataframe thead tr th {\n",
       "        text-align: left;\n",
       "    }\n",
       "\n",
       "    .dataframe thead tr:last-of-type th {\n",
       "        text-align: right;\n",
       "    }\n",
       "</style>\n",
       "<table border=\"1\" class=\"dataframe\">\n",
       "  <thead>\n",
       "    <tr>\n",
       "      <th></th>\n",
       "      <th colspan=\"8\" halign=\"left\">ibu</th>\n",
       "    </tr>\n",
       "    <tr>\n",
       "      <th></th>\n",
       "      <th>count</th>\n",
       "      <th>mean</th>\n",
       "      <th>std</th>\n",
       "      <th>min</th>\n",
       "      <th>25%</th>\n",
       "      <th>50%</th>\n",
       "      <th>75%</th>\n",
       "      <th>max</th>\n",
       "    </tr>\n",
       "    <tr>\n",
       "      <th>region</th>\n",
       "      <th></th>\n",
       "      <th></th>\n",
       "      <th></th>\n",
       "      <th></th>\n",
       "      <th></th>\n",
       "      <th></th>\n",
       "      <th></th>\n",
       "      <th></th>\n",
       "    </tr>\n",
       "  </thead>\n",
       "  <tbody>\n",
       "    <tr>\n",
       "      <th>ec</th>\n",
       "      <td>333.0</td>\n",
       "      <td>42.687688</td>\n",
       "      <td>25.884563</td>\n",
       "      <td>5.0</td>\n",
       "      <td>22.00</td>\n",
       "      <td>35.0</td>\n",
       "      <td>60.0</td>\n",
       "      <td>135.0</td>\n",
       "    </tr>\n",
       "    <tr>\n",
       "      <th>wc</th>\n",
       "      <td>428.0</td>\n",
       "      <td>46.665888</td>\n",
       "      <td>26.217038</td>\n",
       "      <td>4.0</td>\n",
       "      <td>23.75</td>\n",
       "      <td>40.0</td>\n",
       "      <td>68.0</td>\n",
       "      <td>138.0</td>\n",
       "    </tr>\n",
       "  </tbody>\n",
       "</table>\n",
       "</div>"
      ],
      "text/plain": [
       "          ibu                                                     \n",
       "        count       mean        std  min    25%   50%   75%    max\n",
       "region                                                            \n",
       "ec      333.0  42.687688  25.884563  5.0  22.00  35.0  60.0  135.0\n",
       "wc      428.0  46.665888  26.217038  4.0  23.75  40.0  68.0  138.0"
      ]
     },
     "execution_count": 11,
     "metadata": {},
     "output_type": "execute_result"
    }
   ],
   "source": [
    "groupby_coast = beer_df_by_coast.groupby(['region'])\n",
    "groupby_coast.describe()"
   ]
  },
  {
   "cell_type": "markdown",
   "metadata": {},
   "source": [
    "### 2.1. Set Null Hypotheses\n",
    "\n",
    "The null hypothesis is there is no difference in IBU between beers brewed on the East Coast and beers brewed on the West Coast.\n",
    "\n",
    ">**$H_{0}$: The mean IBU difference between East Coast beers and West Coast beers is zero. i.e. $H_{0} = H_{1}$**\n",
    "\n",
    "### 2.2. Set Alternate Hypothesis\n",
    "\n",
    ">**$H_{1}$ (2-tailed): The mean difference between East Coast and West Coast beers is different.**"
   ]
  },
  {
   "cell_type": "markdown",
   "metadata": {},
   "source": [
    "### 2.3. Choose the Significance Level\n",
    "The significance level ($\\alpha$) is the probability of rejecting the null hypothesis when it is actually true. The general significance level of 0.05 or 5% risk is used for this hypothesis testing."
   ]
  },
  {
   "cell_type": "markdown",
   "metadata": {},
   "source": [
    "### 2.4. Choose A Test\n",
    "We explore our data to determine which statistical test should be conducted."
   ]
  },
  {
   "cell_type": "code",
   "execution_count": 39,
   "metadata": {},
   "outputs": [
    {
     "data": {
      "image/png": "[encoded data removed]",
      "text/plain": [
       "<Figure size 720x360 with 1 Axes>"
      ]
     },
     "metadata": {},
     "output_type": "display_data"
    }
   ],
   "source": [
    "beer_df_by_coast.boxplot(column='ibu',by='region', figsize=(10,5), showmeans=True);"
   ]
  },
  {
   "cell_type": "code",
   "execution_count": 36,
   "metadata": {},
   "outputs": [],
   "source": [
    "#Remove outliers\n",
    "beer_clean_df = beer_df_by_coast[beer_df_by_coast.ibu < 120]"
   ]
  },
  {
   "cell_type": "code",
   "execution_count": 38,
   "metadata": {},
   "outputs": [
    {
     "data": {
      "image/png": "[encoded data removed]",
      "text/plain": [
       "<Figure size 720x360 with 1 Axes>"
      ]
     },
     "metadata": {},
     "output_type": "display_data"
    }
   ],
   "source": [
    "beer_clean_df.boxplot(column='ibu',by='region', figsize=(10,5), showmeans=True);"
   ]
  },
  {
   "cell_type": "code",
   "execution_count": 40,
   "metadata": {},
   "outputs": [],
   "source": [
    "ec_beers = beer_clean_df.loc[beer_clean_df['region'] == 'ec']\n",
    "wc_beers = beer_clean_df.loc[beer_clean_df['region'] == 'wc']\n",
    "wc_ibu = wc_beers['ibu']\n",
    "ec_ibu = ec_beers['ibu']\n",
    "wc_mean_ibu = wc_beers['ibu'].mean()\n",
    "ec_mean_ibu = ec_beers['ibu'].mean()\n",
    "wc_std_ibu = wc_beers['ibu'].std()\n",
    "ec_std_ibu = ec_beers['ibu'].std()\n",
    "wc_count = len(wc_beers)\n",
    "ec_count = len(ec_beers)"
   ]
  },
  {
   "cell_type": "code",
   "execution_count": 41,
   "metadata": {
    "scrolled": true
   },
   "outputs": [
    {
     "name": "stdout",
     "output_type": "stream",
     "text": [
      "\n",
      "IBU matrix for East Coast Beers\n",
      "----------------\n",
      "East Coast mean: 42.688\n",
      "East Coast standard deviation: 25.884562985733567\n",
      "East Coast size: 333\n",
      "\n",
      "IBU matrix for West Coast Beers\n",
      "----------------\n",
      "West Coast mean: 46.666\n",
      "West Coast standard deviation: 26.217\n",
      "West Coast size: 428\n"
     ]
    }
   ],
   "source": [
    "# get the East Coast and West Coast Beers\n",
    "ec_beers = beer_df_by_coast.loc[beer_df_by_coast['region'] == 'ec']\n",
    "wc_beers = beer_df_by_coast.loc[beer_df_by_coast['region'] == 'wc']\n",
    "\n",
    "## explore the mean, variance/standard divation and sample size \n",
    "print('\\n' +'IBU matrix for East Coast Beers')\n",
    "print('----------------')\n",
    "print('East Coast mean:',round(ec_beers['ibu'].mean(),3))\n",
    "print('East Coast standard deviation:', (ec_beers['ibu'].std()))\n",
    "print('East Coast size:', len(ec_beers))\n",
    "print('\\n' +'IBU matrix for West Coast Beers')\n",
    "print('----------------')\n",
    "print('West Coast mean:', round(wc_beers['ibu'].mean(),3))\n",
    "print('West Coast standard deviation:', round(wc_beers['ibu'].std(),3))\n",
    "print('West Coast size:', len(wc_beers))"
   ]
  },
  {
   "cell_type": "markdown",
   "metadata": {},
   "source": [
    "\n",
    "### 2.5 Calculate the Test Statistic\n",
    "We know that the variance is equal in these samples.\n",
    "we can calculate the two-sample t-statistic like so:\n",
    "\n",
    "$$\\large t = \\frac{\\bar{x}_{1} - \\bar{x}_{2}}{\\sqrt{s^{2}_{p} (\\frac{1}{n_{1}} + \\frac{1}{n_{2}}) }    }  $$\n",
    "\n",
    "Where $s^{2}_{p}$ is the pooled sample variance, calculated as:\n",
    "\n",
    "$$\\large s^{2}_{p}  = \\frac{(n_{1} -1)s^{2}_{1} +  (n_{2} -1)s^{2}_{2}}{n_{1} + n_{2} - 2}  $$\n",
    "\n",
    "Where $s^{2}_{1}$ and $s^{2}_{2}$ are the variances for each sample given by the formula \n",
    "$$ \\large s^{2} = \\frac{\\sum_{i=1}^{n}(x_{i} - \\bar{x})^{2}}{n-1} $$"
   ]
  },
  {
   "cell_type": "code",
   "execution_count": 42,
   "metadata": {
    "scrolled": false
   },
   "outputs": [
    {
     "name": "stdout",
     "output_type": "stream",
     "text": [
      "Null hypohesis rejected. Results are statistically significant\n",
      "         with t-statistic =  2.585 , critical t-value =  1.9631 and p-value =  0.005\n",
      "The groups contain 427 and  329 observations. Means are:  46.452 and 41.6717 respectivelly\n"
     ]
    }
   ],
   "source": [
    "t_stat = test.twosample_tstatistic(wc_ibu, ec_ibu)"
   ]
  },
  {
   "cell_type": "markdown",
   "metadata": {},
   "source": [
    "### 2.6. Interpret the Result"
   ]
  },
  {
   "cell_type": "code",
   "execution_count": 43,
   "metadata": {
    "scrolled": true
   },
   "outputs": [
    {
     "data": {
      "image/png": "[encoded data removed]",
      "text/plain": [
       "<Figure size 720x360 with 1 Axes>"
      ]
     },
     "metadata": {},
     "output_type": "display_data"
    }
   ],
   "source": [
    "visualization.visualize_t(t_stat, wc_count, ec_count, alpha=.05)"
   ]
  },
  {
   "cell_type": "markdown",
   "metadata": {},
   "source": [
    "## Welch's t-test\n",
    "Welch's t-test is the most common hypothesis test used in a two-sample test to infer that two populations have equal means. Welch's test is more reliable when the two samlples have unequal variances and/or unequal sample sizes.\n",
    "\n",
    "Welch test degrees of freedom and t-statistic is calcualted using the following formaula. \n",
    "$$\\text{df}  = \\frac{\\big(\\frac{s_{1}^{2}}{n_{1}} + \\frac{s_{2}^{2}}{n_{2}}\\big)^{2}}{\\frac{1}{n_{1}-1}\\big(\\frac{s_{1}^{2}}{n_{1}}\\big)^{2} + \\frac{1}{n_{2}-1}\\big(\\frac{s_{2}^{2}}{n_{2}}\\big)^{2}}$$\n",
    "Then T-statistics also known as Welch's t-test is given by: \n",
    "\n",
    "$$   t = \\frac{(\\bar{x}_{1} - \\bar{x}_{2}) - D_{0}}{\\sqrt{\\frac{s_{1}^{2}}{n_{1}} + \\frac{s_{2}^{2}}{n_{2}}}} = \\frac{\\bar{X_1}-\\bar{X_2}}{\\sqrt{se_1^2+se_2^2}}$$"
   ]
  },
  {
   "cell_type": "code",
   "execution_count": 44,
   "metadata": {
    "scrolled": false
   },
   "outputs": [
    {
     "name": "stdout",
     "output_type": "stream",
     "text": [
      "Welch's t-statistic is:  2.6058\n",
      "Welch's degrees of fredoom (df): 724.9698\n",
      "Null hypohesis rejected. Results are statistically significant\n",
      "         with t-value =  2.6058 , critical t-value =  1.647 , and p-value =  0.0047\n"
     ]
    }
   ],
   "source": [
    "welch_t = test.welch_t(wc_ibu, ec_ibu)\n",
    "print(\"Welch's t-statistic is: \", round(welch_t,4))\n",
    "welch_df = test.welch_df(wc_ibu, ec_ibu)\n",
    "print(\"Welch's degrees of fredoom (df):\", round(welch_df,4))\n",
    "\n",
    "# converting this to p_value \n",
    "p_welch = test.p_value_welch_ttest(wc_ibu, ec_ibu, two_sided=True)"
   ]
  },
  {
   "cell_type": "code",
   "execution_count": 49,
   "metadata": {},
   "outputs": [
    {
     "data": {
      "image/png": "[encoded data removed]",
      "text/plain": [
       "<Figure size 720x360 with 1 Axes>"
      ]
     },
     "metadata": {},
     "output_type": "display_data"
    }
   ],
   "source": [
    "visualization.visualize_t(welch_t, wc_count, ec_count, alpha=.05)"
   ]
  },
  {
   "cell_type": "markdown",
   "metadata": {},
   "source": [
    "## 2.7. Comparing Two-Sided t-test to Welch's t-test"
   ]
  },
  {
   "cell_type": "markdown",
   "metadata": {},
   "source": [
    "Having conducted two different tests on the same information, we can compare their p- and t-values.\n",
    "\n",
    "The two-sided t-test returned: ***t-value =  2.581 and p-value =  0.005***\n",
    "\n",
    "The Welch t-test returned: ***t-value =  2.606 , and p-value =  0.0047***\n",
    "\n",
    "We see that the outputs are very similar."
   ]
  }
 ],
 "metadata": {
  "kernelspec": {
   "display_name": "learn-env",
   "language": "python",
   "name": "learn-env"
  },
  "language_info": {
   "codemirror_mode": {
    "name": "ipython",
    "version": 3
   },
   "file_extension": ".py",
   "mimetype": "text/x-python",
   "name": "python",
   "nbconvert_exporter": "python",
   "pygments_lexer": "ipython3",
   "version": "3.6.6"
  }
 },
 "nbformat": 4,
 "nbformat_minor": 2
}
