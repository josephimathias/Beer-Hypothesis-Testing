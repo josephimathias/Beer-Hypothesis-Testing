{
 "cells": [
  {
   "cell_type": "markdown",
   "metadata": {},
   "source": [
    "# Loading the dataset "
   ]
  },
  {
   "cell_type": "markdown",
   "metadata": {},
   "source": [
    "This data is API requesed from [BreweryDB](https://www.brewerydb.com/developers/apps) website and the finlal working data is saved as csv file."
   ]
  },
  {
   "cell_type": "code",
   "execution_count": 1,
   "metadata": {},
   "outputs": [],
   "source": [
    "# Data analysis packages:\n",
    "import pandas as pd\n",
    "import numpy as np\n",
    "\n",
    "# Visualization packages:\n",
    "import seaborn as sns\n",
    "sns.set_style('darkgrid')\n",
    "import matplotlib.pyplot as plt\n",
    "%matplotlib inline\n",
    "\n",
    "%load_ext autoreload\n",
    "%autoreload 2"
   ]
  },
  {
   "cell_type": "markdown",
   "metadata": {},
   "source": [
    "<a id='sec1.3'></a>\n",
    "## 1.3. Understanding the data\n",
    "The dataset used in this analysis is available at [BreweryDB](https://www.brewerydb.com/developers/apps)."
   ]
  },
  {
   "cell_type": "markdown",
   "metadata": {},
   "source": [
    "In order to define the hypotheses that will lead this analysis, it is first needed to know which information is available in the dataset (attributes). Thus, the first lines of the dataset are shown below:"
   ]
  },
  {
   "cell_type": "code",
   "execution_count": 2,
   "metadata": {},
   "outputs": [
    {
     "name": "stdout",
     "output_type": "stream",
     "text": [
      "This dataset has 508400 samples. and 20 columns\n"
     ]
    }
   ],
   "source": [
    "## Loading the dataset\n",
    "beers = pd.read_csv('data/dirty_data.csv')\n",
    "\n",
    "## Printing the number of samples in the dataset:\n",
    "print('This dataset has {0} samples.'.format(len(beers)), 'and {} columns'.format(len(beers.columns)-1))\n",
    "# print(beers)"
   ]
  },
  {
   "cell_type": "code",
   "execution_count": 3,
   "metadata": {},
   "outputs": [
    {
     "name": "stdout",
     "output_type": "stream",
     "text": [
      ">> There are 50840 American-Style Pale Ale records in the dataset.\n",
      ">> There are 10168 Belgian-Style Pale Ale records in the dataset.\n",
      "\n",
      "ABV metrix for American-Style Pilsener and India Pale Ale (IPA)\n",
      "----------------\n",
      "American-Style Pale Ale mean: 5.98\n",
      "American-Style Pale Ale standard divation: 0.773\n",
      "American-Style Pale Ale size: 50840\n",
      "Belgian-Style Pale Ale mean: 4.6\n",
      "Belgian-Style Pale Ale standard divation: 0.0\n",
      "Belgian-Style Pale Ale size: 10168\n"
     ]
    }
   ],
   "source": [
    "# print('Beer style count:', beers.style_name.value_counts())\n",
    "American_PA_abv = beers[beers['style_name'] == 'American-Style Pale Ale']['abv']#,'ibu','gravity']] # 40672\n",
    "American_PA_abv = np.array(American_PA_abv[American_PA_abv.notnull()])\n",
    "# American_PA_ibu = beers[beers['style_name'] == 'American-Style Pale Ale']['ibu']#,'ibu','gravity']] # 40672\n",
    "# American_PA_ibu = np.array(American_PA_ibu[American_PA_ibu.notnull()])\n",
    "print('>> There are {} American-Style Pale Ale records in the dataset.'.format(len(American_PA_abv)))\n",
    "# print('>> There are {} American-Style Pale Ale records in the dataset.'.format(len(American_PA_ibu)))\n",
    "\n",
    "# ipa == India Pale Ale\n",
    "Belgian_PA_abv = beers[beers['style_name'] == 'Belgian-Style Pale Ale']['abv']#,'ibu','gravity']] # 40672\n",
    "Belgian_PA_abv = np.array(Belgian_PA_abv[Belgian_PA_abv.notnull()])\n",
    "# Belgian_PA_ibu = beers[beers['style_name'] == 'Belgian-Style Pale Ale']['ibu']#,'ibu','gravity']] # 40672\n",
    "# Belgian_PA_ibu = np.array(Belgian_PA_ibu[Belgian_PA_ibu.notnull()])\n",
    "print('>> There are {} Belgian-Style Pale Ale records in the dataset.'.format(len(Belgian_PA_abv)))\n",
    "# print('>> There are {} Belgian-Style Pale Ale records in the dataset.'.format(len(Belgian_PA_ibu)))\n",
    "\n",
    "# ABV comparision\n",
    "print('\\n' +'ABV metrix for American-Style Pilsener and India Pale Ale (IPA)')\n",
    "print('----------------')\n",
    "print('American-Style Pale Ale mean:',round(American_PA_abv.mean(),3))\n",
    "print('American-Style Pale Ale standard divation:', round(American_PA_abv.std(),3))\n",
    "print('American-Style Pale Ale size:', len(American_PA_abv))\n",
    "print('Belgian-Style Pale Ale mean:', round(Belgian_PA_abv.mean(),3))\n",
    "print('Belgian-Style Pale Ale standard divation:', round(Belgian_PA_abv.std(),3))\n",
    "print('Belgian-Style Pale Ale size:', len(Belgian_PA_abv))"
   ]
  },
  {
   "cell_type": "markdown",
   "metadata": {},
   "source": [
    "The five steps to performing a hypothesis test are:\n",
    "\n",
    "1) Set up null and alternative hypotheses   \n",
    "2) Choose a significance level   \n",
    "3) Calculate the test statistic   \n",
    "4) Determine the critical or p-value (find the rejection region)   \n",
    "5) Compare t-value with critical t-value to reject or fail to reject the null hypothesis \n"
   ]
  },
  {
   "cell_type": "markdown",
   "metadata": {},
   "source": [
    "## 1. Set a null and alternative Hypotheses\n",
    "### The Null Hypothesis\n",
    "\n",
    "The null hypothesis to be there is no differecne in Alcohol By Volume between American-Style Pale Ale and Belgian-Style Pale Ale.\n",
    "\n",
    ">**$H_{0}$: The mean ABV difference between American-Style Pale Ale and Belgian-Style Pale Ale is zero. i.e. $H_{0} = H_{1}$**\n",
    "\n",
    "### The Alternate Hypothesis\n",
    "\n",
    ">**$H_{1}$ (2-tailed): The mean difference between American-Style Pale Ale and Belgian-Style Pale Ale, is different than zero.**\n",
    "\n",
    ">**$H_{1}$ (1-tailed, >): The mean difference between American-Style Pale Ale and Belgian-Style Pale Ale, is greater than zero.**\n",
    "\n",
    ">**$H_{1}$ (1-tailed, <): The mean difference between American-Style Pale Ale and Belgian-Style Pale Ale, is less than zero.**"
   ]
  },
  {
   "cell_type": "markdown",
   "metadata": {},
   "source": [
    "## 2. Choosing the significance level\n",
    "a sgnificant (𝛼) level of  0.05 is used in this analysis"
   ]
  },
  {
   "cell_type": "markdown",
   "metadata": {},
   "source": [
    "## 3. Calculate the test statistic "
   ]
  },
  {
   "cell_type": "code",
   "execution_count": 4,
   "metadata": {},
   "outputs": [
    {
     "name": "stdout",
     "output_type": "stream",
     "text": [
      "Mean ABV for American-Style Pale Ale 5.88\n",
      "Mean ABV for Belgian-Style Pale Ale 4.6\n"
     ]
    }
   ],
   "source": [
    "## Take 50 sample from American-Style  and Belgian-Style Pale Ale\n",
    "import numpy as np\n",
    "np.random.seed(2019)\n",
    "American_PA_abv_sample = np.random.choice(American_PA_abv, size=50)\n",
    "Belgian_PA_abv_sample = np.random.choice(Belgian_PA_abv, size=50)\n",
    "print('Mean ABV for American-Style Pale Ale', round(American_PA_abv_sample.mean(),2))\n",
    "print('Mean ABV for Belgian-Style Pale Ale', round(Belgian_PA_abv_sample.mean(),2))"
   ]
  },
  {
   "cell_type": "code",
   "execution_count": 5,
   "metadata": {},
   "outputs": [],
   "source": [
    "## modules\n",
    "def sample_variance(sample):\n",
    "    sample_mean = np.mean(sample)    \n",
    "    return np.sum((sample-sample_mean)**2)/(len(sample) - 1)\n",
    "def pooled_variance(sample1, sample2):\n",
    "    n_1, n_2 = len(sample1), len(sample2)\n",
    "    var_1, var_2 = sample_variance(sample1), sample_variance(sample2)\n",
    "    \n",
    "    return ((n_1 - 1) * var_1 + (n_2 - 1) * var_2)/(n_1 + n_2 - 2)\n",
    "def twosample_tstatistic(expr, ctrl):\n",
    "    exp_mean, ctrl_mean = np.mean(expr), np.mean(ctrl)\n",
    "    pool_var = pooled_variance(expr, ctrl)\n",
    "    n_e, n_c = len(expr), len(ctrl)\n",
    "    num = exp_mean - ctrl_mean\n",
    "    denom = np.sqrt(pool_var * ((1/n_e) + (1/n_c)))\n",
    "\n",
    "    return num/denom"
   ]
  },
  {
   "cell_type": "code",
   "execution_count": null,
   "metadata": {},
   "outputs": [],
   "source": [
    "## import the two sample t statistc module\n",
    "# import test_moduls as hyp_test\n",
    "alpha = 0.05\n",
    "\n",
    "## Calculate the t statsits\n",
    "t_stat = twosample_tstatistic(American_PA_abv_sample, Belgian_PA_abv_sample)\n",
    "\n",
    "print('t-statistic value:', t_stat)\n",
    "# t_crit = stats.t.ppf(q=1-0.05, df=98)\n",
    "# print('t-critial value:', t_crit)"
   ]
  },
  {
   "cell_type": "markdown",
   "metadata": {},
   "source": [
    "### One sample t-test"
   ]
  },
  {
   "cell_type": "code",
   "execution_count": null,
   "metadata": {},
   "outputs": [],
   "source": [
    "import numpy as np\n",
    "import scipy.stats as stats\n",
    "import seaborn as sns"
   ]
  },
  {
   "cell_type": "code",
   "execution_count": null,
   "metadata": {},
   "outputs": [],
   "source": [
    "def ttest(sample, popmean, alpha):\n",
    "\n",
    "    # Visualize sample distribution for normality\n",
    "    sns.set(color_codes=True)\n",
    "    sns.set(rc={'figure.figsize': (12, 10)})\n",
    "    sns.distplot(sample)\n",
    "\n",
    "    # Population mean\n",
    "    mu = popmean\n",
    "\n",
    "    # Sample mean (x̄) using NumPy mean()\n",
    "    x_bar = round(sample.mean(), 2)\n",
    "\n",
    "    # Sample Standard Deviation (sigma) using Numpy\n",
    "    sigma = round(np.std(sample, ddof=1), 3)\n",
    "\n",
    "    # Degrees of freedom\n",
    "    df = len(sample) - 1\n",
    "\n",
    "    # Calculate the critical t-value\n",
    "    t_crit = stats.t.ppf(1-alpha, df=df)\n",
    "    # (x_bar - mu)/(sigma/np.sqrt(len(sample)))\n",
    "\n",
    "    # Calculate the t-value and p-value\n",
    "    results = stats.ttest_1samp(a=sample, popmean=mu)\n",
    "    t_value = round(results[0], 2)\n",
    "    p_value = np.round((results[1]), 4)\n",
    "\n",
    "    # return results\n",
    "    if (t_value > t_crit and p_value < alpha):\n",
    "        print(\"Null hypohesis rejected. Results are statistically significant with t-value = \", t_value,\n",
    "              \"critical t-value = \", t_crit, \"and p-value = \", p_value)\n",
    "    else:\n",
    "        print('Null hypothesis is True with t-value = ', t_value,\n",
    "              \"critical t-value = \", t_crit, 'and p-value = ', p_value)\n",
    "\n",
    "    print('The sample contains', len(sample), 'observations, having a mean of', x_bar, 'and a standard devation (sigma) =', sigma,\n",
    "          ', with', df, 'degrees of freedom. The difference between sample and population means is:', (x_bar - mu))\n",
    "    return t_crit\n"
   ]
  },
  {
   "cell_type": "code",
   "execution_count": null,
   "metadata": {},
   "outputs": [],
   "source": [
    "ttest(American_PA_abv_sample, 5.88, 0.05)"
   ]
  },
  {
   "cell_type": "markdown",
   "metadata": {},
   "source": [
    "## 4.Determine the critical or p-value (find the rejection region)  "
   ]
  },
  {
   "cell_type": "markdown",
   "metadata": {},
   "source": [
    "## 5. Compare t-value with critical t-value to reject or fail to reject the null hypothesis"
   ]
  },
  {
   "cell_type": "code",
   "execution_count": null,
   "metadata": {},
   "outputs": [],
   "source": [
    "# Visualize t and p_value\n",
    "import scipy.stats as stats\n",
    "\n",
    "def visualize_t(t_stat, n_control, n_experimental):\n",
    "\n",
    "    # initialize a matplotlib \"figure\"\n",
    "    fig = plt.figure(figsize=(8,5))\n",
    "    ax = fig.gca()\n",
    "\n",
    "    # generate points on the x axis between -4 and 4:\n",
    "    xs = np.linspace(-4,4,500)\n",
    "    # use stats.t.pdf to get values on the probability density function for the t-distribution\n",
    "    ys = stats.t.pdf(xs, (n_control + n_experimental - 2), 0, 1)#, labels=['Density'])\n",
    "    ax.plot(xs, ys, linewidth=3, color='darkred')\n",
    "    \n",
    "    ax.axvline(t_stat, color='black', linestyle='--', lw=5)\n",
    "    ax.axvline(-t_stat, color='black', linestyle='--', lw=5)\n",
    "    # Draw two sided boundary for critical-t\n",
    "    plt.show()\n",
    "    return None"
   ]
  },
  {
   "cell_type": "code",
   "execution_count": null,
   "metadata": {},
   "outputs": [],
   "source": [
    "visualize_t(t_stat, len(ipa_sample), len(pilsener_sample))"
   ]
  },
  {
   "cell_type": "markdown",
   "metadata": {},
   "source": [
    "### Welch's t-test"
   ]
  },
  {
   "cell_type": "code",
   "execution_count": null,
   "metadata": {},
   "outputs": [],
   "source": [
    "import test_moduls\n",
    "test_moduls.p_value_welch_ttest(ipa_sample, pilsener_sample, two_sided=True)"
   ]
  },
  {
   "cell_type": "code",
   "execution_count": null,
   "metadata": {},
   "outputs": [],
   "source": [
    "## copied the same thing for ibu \n",
    "# print('Beer style count:', beers.style_name.value_counts())\n",
    "pilsener_ibu = beers[beers['style_name'] == 'American-Style Pilsener']['ibu'] # 40672\n",
    "pilsener_ibu = np.array(pilsener_ibu[pilsener_ibu.notnull()])\n",
    "print('>> There are {} American-Style Pilsener records in the dataset.'.format(len(pilsener_ibu)))\n",
    "# ipa == India Pale Ale\n",
    "ipa_ibu = beers[beers['style_name'] == 'American-Style India Pale Ale']['ibu'] # 40672\n",
    "ipa_ibu = np.array(ipa_ibu[ipa_ibu.notnull()])\n",
    "print('>> There are {} American-Style IPA records in the dataset.'.format(len(ipa_ibu)))\n",
    "\n",
    "# IBU comparision\n",
    "print('\\n' +'IBU metrix for American-Style Pilsener and India Pale Ale (IPA)')\n",
    "print('--------------')\n",
    "print('American-Style Pilsener mean:',round(pilsener_ibu.mean(),3))\n",
    "print('American-Style Pilsener standard divation:', round(pilsener_ibu.std(),3))\n",
    "print('American-Style Pilsener size:', len(pilsener_ibu))\n",
    "print('American-Style India Pale Ale mean:', round(ipa_ibu.mean(),3))\n",
    "print('American-Style India Pale Ale standard divation:', round(ipa_ibu.std(),3))\n",
    "print('American-Style India Pale Ale size:', len(ipa_ibu))"
   ]
  },
  {
   "cell_type": "code",
   "execution_count": null,
   "metadata": {},
   "outputs": [],
   "source": [
    "np.unique(ipa_ibu)"
   ]
  },
  {
   "cell_type": "markdown",
   "metadata": {},
   "source": [
    "### ABV of American Style Pilsner\n",
    "American Pilsners, particularly Imperial Pilsners, typically have an alcohol content between 6.5% and 9% alcohol by volume. \n"
   ]
  },
  {
   "cell_type": "code",
   "execution_count": null,
   "metadata": {},
   "outputs": [],
   "source": [
    "def boxplot(dataset):\n",
    "    \"\"\"Make a box plot for each column of ``x``.\n",
    "\n",
    "    Parameters\n",
    "    ----------\n",
    "    X : Array or a sequence of vectors\n",
    "\n",
    "    \"\"\"\n",
    "    fig, axs = plt.subplots(nrows=1, ncols=3, figsize=(10, 5), sharey=False)\n",
    "\n",
    "    axs[0].boxplot(dataset.abv, labels=['ABV'], notch=True, showmeans=True)\n",
    "    axs[0].set_title('Alcohol By Volume')\n",
    "    axs[1].boxplot(dataset.gravity, labels=['OG'], notch=True, showmeans=True)\n",
    "    axs[1].set_title('Original Gravity')\n",
    "    axs[2].boxplot(dataset.ibu, labels=['IBU'], notch=True, showmeans=True)\n",
    "    axs[2].set_title('International Bitterness Units')"
   ]
  },
  {
   "cell_type": "code",
   "execution_count": null,
   "metadata": {},
   "outputs": [],
   "source": [
    "samp_pilsener = np.array(random.choices(pilsener, k=50))\n",
    "sns.set(color_codes=True)\n",
    "sns.set(rc={'figure.figsize':(10,5)})\n",
    "sns.distplot(pilsener_stand, hist=False)"
   ]
  },
  {
   "cell_type": "code",
   "execution_count": null,
   "metadata": {},
   "outputs": [],
   "source": [
    "import test_moduls as test\n",
    "sampling_from_five_ibu = np.array(random.choices(array1, k=50))"
   ]
  },
  {
   "cell_type": "code",
   "execution_count": null,
   "metadata": {},
   "outputs": [],
   "source": [
    "mu = 7.75\n",
    "pilsener_stand = np.array([(p - pilsener.mean())/pilsener.std() for p in pilsener])\n",
    "# test.ttest(pilsener, mu, 0.05)\n",
    "\n"
   ]
  },
  {
   "cell_type": "code",
   "execution_count": null,
   "metadata": {},
   "outputs": [],
   "source": [
    "beers.style_name.value_counts()"
   ]
  },
  {
   "cell_type": "code",
   "execution_count": null,
   "metadata": {},
   "outputs": [],
   "source": [
    "pilsener = beers[beers['style_name'] == 'American-Style Pilsener'][['abv', 'ibu', 'gravity']] # \n",
    "pilsener.gravity.value_counts()"
   ]
  },
  {
   "cell_type": "code",
   "execution_count": null,
   "metadata": {},
   "outputs": [],
   "source": []
  },
  {
   "cell_type": "code",
   "execution_count": null,
   "metadata": {},
   "outputs": [],
   "source": [
    "import random\n",
    "random.seed(2019)\n",
    "# sampling with replacement \n",
    "pilsener_sampling = np.array(random.choices(pilsener, k=3000))\n",
    "print('sampling with choices():', len(pilsener_sampling))\n",
    "\n",
    "ipa_sampling = np.array(random.choices(ipa, k=3000))\n",
    "print('sampling with choices():', len(ipa_sampling))\n",
    "\n",
    "print(f'This is for the {} samples'.format(len(ipa_sampling)))\n",
    "print('---------------------------')\n",
    "print('American-Style Pilsener mean:',round(pilsener_sampling.mean(),3))\n",
    "print('American-Style Pilsener standard divation:', round(pilsener_sampling.std(),3))\n",
    "print('American-Style Pilsener size', len(pilsener_sampling))\n",
    "print('American-Style India Pale Ale mean', round(ipa_sampling.mean(),3))\n",
    "print('American-Style India Pale Ale standard divation:', round(ipa_sampling.std(),3))\n",
    "print('American-Style India Pale Ale size', len(ipa_sampling))\n",
    "\n",
    "\n",
    "# Draw a plot showing overlapping of distribution means and sds for incpection\n",
    "sns.set(color_codes=True)\n",
    "sns.set(rc={'figure.figsize':(10,5)})\n",
    "sns.distplot(pilsener_sampling, hist=False)\n",
    "sns.distplot(ipa_sampling, hist=False)"
   ]
  },
  {
   "cell_type": "markdown",
   "metadata": {},
   "source": [
    "### Welch test"
   ]
  },
  {
   "cell_type": "code",
   "execution_count": null,
   "metadata": {},
   "outputs": [],
   "source": [
    "import test_moduls\n",
    "test_moduls.p_value_welch_ttest(pilsener_sampling, ipa_sampling, two_sided=True)\n"
   ]
  },
  {
   "cell_type": "markdown",
   "metadata": {},
   "source": [
    "### Standerdizing the data here"
   ]
  },
  {
   "cell_type": "code",
   "execution_count": null,
   "metadata": {},
   "outputs": [],
   "source": [
    "ipa_lst = np.array([(i - ipa_sampling.mean())/ipa_sampling.std() for i in ipa_sampling])\n",
    "pilsener_lst = np.array([(p - pilsener_sampling.mean())/pilsener_sampling.std() for p in pilsener_sampling])\n",
    "\n",
    "print('This is after standerdization of the 50 samples')\n",
    "print('---------------------------')\n",
    "print('American-Style Pilsener mean:',round(pilsener_lst.mean(),3))\n",
    "print('American-Style Pilsener standard divation:', round(pilsener_lst.std(),3))\n",
    "print('American-Style Pilsener size', len(pilsener_lst))\n",
    "print('American-Style India Pale Ale mean', round(ipa_lst.mean(),3))\n",
    "print('American-Style India Pale Ale standard divation:', round(ipa_lst.std(),3))\n",
    "print('American-Style India Pale Ale size', len(ipa_lst))\n",
    "\n",
    "# Draw a plot showing overlapping of distribution means and sds for incpection\n",
    "sns.set(color_codes=True)\n",
    "sns.set(rc={'figure.figsize':(10,5)})\n",
    "sns.distplot(pilsener_lst, hist=False)\n",
    "sns.distplot(ipa_lst, hist=False)"
   ]
  },
  {
   "cell_type": "code",
   "execution_count": null,
   "metadata": {},
   "outputs": [],
   "source": [
    "print(ipa_sampling)"
   ]
  },
  {
   "cell_type": "code",
   "execution_count": null,
   "metadata": {},
   "outputs": [],
   "source": [
    "beers.style_name.value_counts()"
   ]
  },
  {
   "cell_type": "code",
   "execution_count": null,
   "metadata": {},
   "outputs": [],
   "source": []
  },
  {
   "cell_type": "code",
   "execution_count": null,
   "metadata": {},
   "outputs": [],
   "source": [
    "new_beer = beers[['ibu', 'abv']]\n",
    "nb = new_beer[new_beer.notnull().all(axis=1)]\n",
    "# nb.info()\n",
    "print(nb.ibu.value_counts())"
   ]
  },
  {
   "cell_type": "code",
   "execution_count": null,
   "metadata": {},
   "outputs": [],
   "source": [
    "print(nb.abv.value_counts())"
   ]
  },
  {
   "cell_type": "code",
   "execution_count": null,
   "metadata": {},
   "outputs": [],
   "source": [
    "nb_five = nb[nb['abv']==5.0]\n",
    "nb_ten = nb[nb['abv']==4.5]\n",
    "print('ABV counnts are', nb_five.abv.value_counts())\n",
    "print('ABV counnts are', nb_ten.abv.value_counts())\n",
    "# nb_ten"
   ]
  },
  {
   "cell_type": "code",
   "execution_count": null,
   "metadata": {},
   "outputs": [],
   "source": [
    "nb_ten"
   ]
  },
  {
   "cell_type": "markdown",
   "metadata": {},
   "source": [
    "## Two-independent sample t-test"
   ]
  },
  {
   "cell_type": "code",
   "execution_count": null,
   "metadata": {},
   "outputs": [],
   "source": [
    "# get a sample of 50 from the two independent groups\n",
    "array_5_ibu, array_10_ibu = np.array(nb_five.ibu), np.array(nb_ten.ibu)\n",
    "# sampling with replacemtnt\n",
    "import random\n",
    "sampling_from_five_ibu = np.array(random.choices(array1, k=50))\n",
    "sampling_from_ten_ibu = np.array(random.choices(array2, k=50))\n",
    "# mean_ibu_for_five_abv = nb_five.ibu.mean()\n",
    "# print(mean_ibu_for_five_abv \n",
    "print('sampling fifty items from a 20336 items of five ibu list', len(sampling_from_five_ibu))\n",
    "print('sampling fifty items from a 10186 items of five ibu list', len(sampling_from_ten_ibu))"
   ]
  },
  {
   "cell_type": "code",
   "execution_count": null,
   "metadata": {},
   "outputs": [],
   "source": [
    "print('Five ibu mean',sampling_from_five_ibu.mean())\n",
    "print('Five ibu standard divation', sampling_from_five_ibu.std())\n",
    "print('Five ibu size', len(sampling_from_five_ibu))\n",
    "print('Ten ibu mean', sampling_from_ten_ibu.mean())\n",
    "print('Ten ibu standard divation', sampling_from_ten_ibu.std())\n",
    "print('Ten ibu size', len(sampling_from_ten_ibu))\n",
    "# control.mean()"
   ]
  },
  {
   "cell_type": "code",
   "execution_count": null,
   "metadata": {},
   "outputs": [],
   "source": [
    "array2"
   ]
  },
  {
   "cell_type": "code",
   "execution_count": null,
   "metadata": {},
   "outputs": [],
   "source": [
    "import cleaning_data as cd"
   ]
  },
  {
   "cell_type": "code",
   "execution_count": null,
   "metadata": {},
   "outputs": [],
   "source": [
    "# cleaning dataset and pulling only the three columns\n",
    "beer_vital_stats = cd.beer_vital_stats(beers)\n",
    "beer_vital_stats.head()"
   ]
  },
  {
   "cell_type": "code",
   "execution_count": null,
   "metadata": {},
   "outputs": [],
   "source": [
    "beer_vital_stats.info()"
   ]
  },
  {
   "cell_type": "code",
   "execution_count": null,
   "metadata": {},
   "outputs": [],
   "source": [
    "# Check the box plot to see the data is uniform\n",
    "import visualization as vis\n",
    "vis.boxplot(beer_vital_stats)"
   ]
  },
  {
   "cell_type": "markdown",
   "metadata": {},
   "source": [
    "Check the variability or dispersion of the data using boxplot"
   ]
  },
  {
   "cell_type": "code",
   "execution_count": null,
   "metadata": {},
   "outputs": [],
   "source": [
    "print(beer_vital_stats.min()) \n",
    "print(beer_vital_stats.max())"
   ]
  },
  {
   "cell_type": "code",
   "execution_count": null,
   "metadata": {},
   "outputs": [],
   "source": [
    "beer_vital_stats.ibu.value_counts()"
   ]
  },
  {
   "cell_type": "markdown",
   "metadata": {},
   "source": [
    "## IBU Hypothesis"
   ]
  },
  {
   "cell_type": "code",
   "execution_count": null,
   "metadata": {},
   "outputs": [],
   "source": [
    "beers.head(3)"
   ]
  },
  {
   "cell_type": "code",
   "execution_count": null,
   "metadata": {},
   "outputs": [],
   "source": [
    "pilsener_ibu = beers[beers['style_name'] == 'American-Style Pilsener']['ibu'] # 40672\n",
    "pilsener_ibu = np.array(pilsener_ibu[pilsener_ibu.notnull()])\n",
    "# ipa == India Pale Ale\n",
    "ipa_ibu = beers[beers['style_name'] == 'American-Style India Pale Ale']['ibu'] # 40672\n",
    "ipa_ibu = np.array(ipa_ibu[ipa_ibu.notnull()])\n",
    "\n",
    "# IBU comparision\n",
    "print('Working data information')\n",
    "print('--------------------------')\n",
    "print('American-Style Pilsener mean:',round(pilsener_ibu.mean(),3))\n",
    "print('American-Style Pilsener standard divation:', round(pilsener_ibu.std(),3))\n",
    "print('American-Style Pilsener size', len(pilsener_ibu))\n",
    "print('American-Style India Pale Ale mean', round(ipa_ibu.mean(),3))\n",
    "print('American-Style India Pale Ale standard divation:', round(ipa_ibu.std(),3))\n",
    "print('American-Style India Pale Ale size', len(ipa_ibu))"
   ]
  },
  {
   "cell_type": "code",
   "execution_count": null,
   "metadata": {},
   "outputs": [],
   "source": [
    "# Draw a plot showing overlapping of distribution means and sds for incpection\n",
    "sns.set(color_codes=True)\n",
    "sns.set(rc={'figure.figsize':(10,5)})\n",
    "sns.distplot(pilsener_ibu, hist=False)\n",
    "sns.distplot(ipa_ibu, hist=False)"
   ]
  },
  {
   "cell_type": "code",
   "execution_count": null,
   "metadata": {},
   "outputs": [],
   "source": [
    "# pil_ibu = beers[beers['style_name'] == 'American-Style Pilsener']['ibu']\n",
    "beers.ibu.value_counts()"
   ]
  },
  {
   "cell_type": "code",
   "execution_count": null,
   "metadata": {},
   "outputs": [],
   "source": [
    "beers.gravity.value_counts()"
   ]
  },
  {
   "cell_type": "code",
   "execution_count": null,
   "metadata": {},
   "outputs": [],
   "source": [
    "og_ibu = beers[beers['gravity'] == 1.051]['ibu']\n",
    "og_ibu.unique()"
   ]
  },
  {
   "cell_type": "code",
   "execution_count": null,
   "metadata": {},
   "outputs": [],
   "source": [
    "abv = beers[beers['abv']==4.5][['ibu','gravity']]\n",
    "abv.info()"
   ]
  },
  {
   "cell_type": "code",
   "execution_count": null,
   "metadata": {},
   "outputs": [],
   "source": []
  }
 ],
 "metadata": {
  "kernelspec": {
   "display_name": "learn-env",
   "language": "python",
   "name": "learn-env"
  },
  "language_info": {
   "codemirror_mode": {
    "name": "ipython",
    "version": 3
   },
   "file_extension": ".py",
   "mimetype": "text/x-python",
   "name": "python",
   "nbconvert_exporter": "python",
   "pygments_lexer": "ipython3",
   "version": "3.6.6"
  }
 },
 "nbformat": 4,
 "nbformat_minor": 2
}
