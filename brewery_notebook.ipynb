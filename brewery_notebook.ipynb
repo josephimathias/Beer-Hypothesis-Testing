{
 "cells": [
  {
   "cell_type": "markdown",
   "metadata": {},
   "source": [
    "# Loading the dataset "
   ]
  },
  {
   "cell_type": "markdown",
   "metadata": {},
   "source": [
    "This data is API requesed from [BreweryDB](https://www.brewerydb.com/developers/apps) website and the finlal working data is saved as csv file."
   ]
  },
  {
   "cell_type": "code",
<<<<<<< HEAD
   "execution_count": 1,
   "metadata": {},
   "outputs": [],
=======
<<<<<<< HEAD
   "execution_count": 1,
   "metadata": {},
   "outputs": [],
=======
   "execution_count": 63,
   "metadata": {},
   "outputs": [
    {
     "name": "stdout",
     "output_type": "stream",
     "text": [
      "The autoreload extension is already loaded. To reload it, use:\n",
      "  %reload_ext autoreload\n"
     ]
    }
   ],
>>>>>>> 717a0f599346676fdba3ce7fb9b70bf9570071d7
>>>>>>> fcd9069a54321e0f7ae0b00343bc41fe0540e1d2
   "source": [
    "# Data analysis packages:\n",
    "import pandas as pd\n",
    "import numpy as np\n",
    "\n",
    "# Visualization packages:\n",
    "import seaborn as sns\n",
    "sns.set_style('darkgrid')\n",
    "import matplotlib.pyplot as plt\n",
    "%matplotlib inline\n",
    "\n",
    "%load_ext autoreload\n",
    "%autoreload 2"
   ]
  },
  {
   "cell_type": "markdown",
   "metadata": {},
   "source": [
    "<a id='sec1.3'></a>\n",
    "## 1.3. Understanding the data\n",
    "The dataset used in this analysis is available at [BreweryDB](https://www.brewerydb.com/developers/apps)."
   ]
  },
  {
   "cell_type": "markdown",
   "metadata": {},
   "source": [
    "In order to define the hypotheses that will lead this analysis, it is first needed to know which information is available in the dataset (attributes). Thus, the first lines of the dataset are shown below:"
   ]
  },
  {
   "cell_type": "code",
<<<<<<< HEAD
   "execution_count": 2,
=======
<<<<<<< HEAD
   "execution_count": 2,
=======
   "execution_count": 3,
>>>>>>> 717a0f599346676fdba3ce7fb9b70bf9570071d7
>>>>>>> fcd9069a54321e0f7ae0b00343bc41fe0540e1d2
   "metadata": {},
   "outputs": [
    {
     "name": "stdout",
     "output_type": "stream",
     "text": [
      "This dataset has 508400 samples. and 20 columns\n"
     ]
<<<<<<< HEAD
=======
<<<<<<< HEAD
=======
    },
    {
     "data": {
      "text/html": [
       "<div>\n",
       "<style scoped>\n",
       "    .dataframe tbody tr th:only-of-type {\n",
       "        vertical-align: middle;\n",
       "    }\n",
       "\n",
       "    .dataframe tbody tr th {\n",
       "        vertical-align: top;\n",
       "    }\n",
       "\n",
       "    .dataframe thead th {\n",
       "        text-align: right;\n",
       "    }\n",
       "</style>\n",
       "<table border=\"1\" class=\"dataframe\">\n",
       "  <thead>\n",
       "    <tr style=\"text-align: right;\">\n",
       "      <th></th>\n",
       "      <th>Unnamed: 0</th>\n",
       "      <th>id</th>\n",
       "      <th>name</th>\n",
       "      <th>name_display</th>\n",
       "      <th>abv</th>\n",
       "      <th>gravity</th>\n",
       "      <th>ibu</th>\n",
       "      <th>organic</th>\n",
       "      <th>retired</th>\n",
       "      <th>style_name</th>\n",
       "      <th>...</th>\n",
       "      <th>updated</th>\n",
       "      <th>ibu_min</th>\n",
       "      <th>ibu_max</th>\n",
       "      <th>abv_min</th>\n",
       "      <th>abv_max</th>\n",
       "      <th>srm_min</th>\n",
       "      <th>srm_max</th>\n",
       "      <th>fg_min</th>\n",
       "      <th>fg_max</th>\n",
       "      <th>og_min</th>\n",
       "    </tr>\n",
       "  </thead>\n",
       "  <tbody>\n",
       "    <tr>\n",
       "      <th>0</th>\n",
       "      <td>0</td>\n",
       "      <td>c4f2KE</td>\n",
       "      <td>'Murican Pilsner</td>\n",
       "      <td>'Murican Pilsner</td>\n",
       "      <td>5.5</td>\n",
       "      <td>NaN</td>\n",
       "      <td>NaN</td>\n",
       "      <td>N</td>\n",
       "      <td>N</td>\n",
       "      <td>American-Style Pilsener</td>\n",
       "      <td>...</td>\n",
       "      <td>2018-11-02 02:15:14</td>\n",
       "      <td>25.0</td>\n",
       "      <td>40.0</td>\n",
       "      <td>5.0</td>\n",
       "      <td>6.0</td>\n",
       "      <td>3.0</td>\n",
       "      <td>6.0</td>\n",
       "      <td>1.012</td>\n",
       "      <td>1.018</td>\n",
       "      <td>1.045</td>\n",
       "    </tr>\n",
       "    <tr>\n",
       "      <th>1</th>\n",
       "      <td>1</td>\n",
       "      <td>zTTWa2</td>\n",
       "      <td>11.5° PLATO</td>\n",
       "      <td>11.5° PLATO</td>\n",
       "      <td>4.5</td>\n",
       "      <td>1.046</td>\n",
       "      <td>35.0</td>\n",
       "      <td>N</td>\n",
       "      <td>N</td>\n",
       "      <td>Session India Pale Ale</td>\n",
       "      <td>...</td>\n",
       "      <td>2018-11-02 02:15:14</td>\n",
       "      <td>NaN</td>\n",
       "      <td>NaN</td>\n",
       "      <td>NaN</td>\n",
       "      <td>NaN</td>\n",
       "      <td>NaN</td>\n",
       "      <td>NaN</td>\n",
       "      <td>NaN</td>\n",
       "      <td>NaN</td>\n",
       "      <td>NaN</td>\n",
       "    </tr>\n",
       "    <tr>\n",
       "      <th>2</th>\n",
       "      <td>2</td>\n",
       "      <td>zfP2fK</td>\n",
       "      <td>12th Of Never</td>\n",
       "      <td>12th Of Never</td>\n",
       "      <td>5.5</td>\n",
       "      <td>1.050</td>\n",
       "      <td>45.0</td>\n",
       "      <td>N</td>\n",
       "      <td>N</td>\n",
       "      <td>American-Style Pale Ale</td>\n",
       "      <td>...</td>\n",
       "      <td>2018-11-02 02:15:14</td>\n",
       "      <td>30.0</td>\n",
       "      <td>42.0</td>\n",
       "      <td>4.5</td>\n",
       "      <td>5.6</td>\n",
       "      <td>6.0</td>\n",
       "      <td>14.0</td>\n",
       "      <td>1.008</td>\n",
       "      <td>1.014</td>\n",
       "      <td>1.044</td>\n",
       "    </tr>\n",
       "    <tr>\n",
       "      <th>3</th>\n",
       "      <td>3</td>\n",
       "      <td>xwYSL2</td>\n",
       "      <td>15th Anniversary Ale</td>\n",
       "      <td>15th Anniversary Ale</td>\n",
       "      <td>NaN</td>\n",
       "      <td>NaN</td>\n",
       "      <td>NaN</td>\n",
       "      <td>N</td>\n",
       "      <td>N</td>\n",
       "      <td>Extra Special Bitter</td>\n",
       "      <td>...</td>\n",
       "      <td>2018-11-02 02:15:14</td>\n",
       "      <td>30.0</td>\n",
       "      <td>45.0</td>\n",
       "      <td>4.8</td>\n",
       "      <td>5.8</td>\n",
       "      <td>8.0</td>\n",
       "      <td>14.0</td>\n",
       "      <td>1.010</td>\n",
       "      <td>1.016</td>\n",
       "      <td>1.046</td>\n",
       "    </tr>\n",
       "    <tr>\n",
       "      <th>4</th>\n",
       "      <td>4</td>\n",
       "      <td>UJGpVS</td>\n",
       "      <td>16 So Fine Red Wheat Wine</td>\n",
       "      <td>16 So Fine Red Wheat Wine</td>\n",
       "      <td>11.0</td>\n",
       "      <td>NaN</td>\n",
       "      <td>NaN</td>\n",
       "      <td>N</td>\n",
       "      <td>N</td>\n",
       "      <td>American-Style Wheat Wine Ale</td>\n",
       "      <td>...</td>\n",
       "      <td>2018-11-02 02:15:14</td>\n",
       "      <td>45.0</td>\n",
       "      <td>85.0</td>\n",
       "      <td>8.4</td>\n",
       "      <td>12.0</td>\n",
       "      <td>8.0</td>\n",
       "      <td>15.0</td>\n",
       "      <td>1.024</td>\n",
       "      <td>1.032</td>\n",
       "      <td>1.088</td>\n",
       "    </tr>\n",
       "  </tbody>\n",
       "</table>\n",
       "<p>5 rows × 21 columns</p>\n",
       "</div>"
      ],
      "text/plain": [
       "   Unnamed: 0      id                       name               name_display  \\\n",
       "0           0  c4f2KE           'Murican Pilsner           'Murican Pilsner   \n",
       "1           1  zTTWa2                11.5° PLATO                11.5° PLATO   \n",
       "2           2  zfP2fK              12th Of Never              12th Of Never   \n",
       "3           3  xwYSL2       15th Anniversary Ale       15th Anniversary Ale   \n",
       "4           4  UJGpVS  16 So Fine Red Wheat Wine  16 So Fine Red Wheat Wine   \n",
       "\n",
       "    abv  gravity   ibu organic retired                     style_name   ...    \\\n",
       "0   5.5      NaN   NaN       N       N        American-Style Pilsener   ...     \n",
       "1   4.5    1.046  35.0       N       N         Session India Pale Ale   ...     \n",
       "2   5.5    1.050  45.0       N       N        American-Style Pale Ale   ...     \n",
       "3   NaN      NaN   NaN       N       N           Extra Special Bitter   ...     \n",
       "4  11.0      NaN   NaN       N       N  American-Style Wheat Wine Ale   ...     \n",
       "\n",
       "               updated ibu_min  ibu_max  abv_min  abv_max  srm_min  srm_max  \\\n",
       "0  2018-11-02 02:15:14    25.0     40.0      5.0      6.0      3.0      6.0   \n",
       "1  2018-11-02 02:15:14     NaN      NaN      NaN      NaN      NaN      NaN   \n",
       "2  2018-11-02 02:15:14    30.0     42.0      4.5      5.6      6.0     14.0   \n",
       "3  2018-11-02 02:15:14    30.0     45.0      4.8      5.8      8.0     14.0   \n",
       "4  2018-11-02 02:15:14    45.0     85.0      8.4     12.0      8.0     15.0   \n",
       "\n",
       "   fg_min  fg_max  og_min  \n",
       "0   1.012   1.018   1.045  \n",
       "1     NaN     NaN     NaN  \n",
       "2   1.008   1.014   1.044  \n",
       "3   1.010   1.016   1.046  \n",
       "4   1.024   1.032   1.088  \n",
       "\n",
       "[5 rows x 21 columns]"
      ]
     },
     "execution_count": 3,
     "metadata": {},
     "output_type": "execute_result"
>>>>>>> 717a0f599346676fdba3ce7fb9b70bf9570071d7
>>>>>>> fcd9069a54321e0f7ae0b00343bc41fe0540e1d2
    }
   ],
   "source": [
    "## Loading the dataset\n",
<<<<<<< HEAD
    "beers = pd.read_csv('data/dirty_data.csv')\n",
    "\n",
    "## Printing the number of samples in the dataset:\n",
    "print('This dataset has {0} samples.'.format(len(beers)), 'and {} columns'.format(len(beers.columns)-1))\n",
    "# print(beers)"
=======
<<<<<<< HEAD
    "beers = pd.read_csv('data/dirty_data.csv')\n",
    "\n",
    "## Printing the number of samples in the dataset:\n",
    "print('This dataset has {0} samples.'.format(len(beers)), 'and {} columns'.format(len(beers.columns)-1))\n",
    "# print(beers)"
=======
    "beers = pd.read_csv('dirty_data.csv')\n",
    "\n",
    "## Printing the number of samples in the dataset:\n",
    "print('This dataset has {0} samples.'.format(len(beers)), 'and {} columns'.format(len(beers.columns)-1))\n",
    "beers.head()"
>>>>>>> 717a0f599346676fdba3ce7fb9b70bf9570071d7
>>>>>>> fcd9069a54321e0f7ae0b00343bc41fe0540e1d2
   ]
  },
  {
   "cell_type": "code",
<<<<<<< HEAD
   "execution_count": 3,
=======
<<<<<<< HEAD
   "execution_count": 3,
=======
   "execution_count": 25,
>>>>>>> 717a0f599346676fdba3ce7fb9b70bf9570071d7
>>>>>>> fcd9069a54321e0f7ae0b00343bc41fe0540e1d2
   "metadata": {},
   "outputs": [
    {
     "name": "stdout",
     "output_type": "stream",
     "text": [
<<<<<<< HEAD
      ">> There are 50840 American-Style Pale Ale records in the dataset.\n",
      ">> There are 10168 Belgian-Style Pale Ale records in the dataset.\n",
      "\n",
      "ABV metrix for American-Style Pilsener and India Pale Ale (IPA)\n",
      "----------------\n",
      "American-Style Pale Ale mean: 5.98\n",
      "American-Style Pale Ale standard divation: 0.773\n",
      "American-Style Pale Ale size: 50840\n",
      "Belgian-Style Pale Ale mean: 4.6\n",
      "Belgian-Style Pale Ale standard divation: 0.0\n",
      "Belgian-Style Pale Ale size: 10168\n"
=======
<<<<<<< HEAD
      ">> There are 50840 American-Style Pale Ale records in the dataset.\n",
      ">> There are 10168 Belgian-Style Pale Ale records in the dataset.\n",
      "\n",
      "ABV metrix for American-Style Pilsener and India Pale Ale (IPA)\n",
      "----------------\n",
      "American-Style Pale Ale mean: 5.98\n",
      "American-Style Pale Ale standard divation: 0.773\n",
      "American-Style Pale Ale size: 50840\n",
      "Belgian-Style Pale Ale mean: 4.6\n",
      "Belgian-Style Pale Ale standard divation: 0.0\n",
      "Belgian-Style Pale Ale size: 10168\n"
=======
      ">> There are 30504 American-Style Pilsener records in the dataset.\n",
      ">> There are 40672 American-Style IPA records in the dataset.\n",
      "\n",
      "ABV metrix for American-Style Pilsener and India Pale Ale (IPA)\n",
      "----------------\n",
      "American-Style Pilsener mean: 5.167\n",
      "American-Style Pilsener standard divation: 0.236\n",
      "American-Style Pilsener size: 30504\n",
      "American-Style India Pale Ale mean: 7.05\n",
      "American-Style India Pale Ale standard divation: 1.258\n",
      "American-Style India Pale Ale size: 40672\n"
>>>>>>> 717a0f599346676fdba3ce7fb9b70bf9570071d7
>>>>>>> fcd9069a54321e0f7ae0b00343bc41fe0540e1d2
     ]
    }
   ],
   "source": [
    "# print('Beer style count:', beers.style_name.value_counts())\n",
<<<<<<< HEAD
=======
<<<<<<< HEAD
>>>>>>> fcd9069a54321e0f7ae0b00343bc41fe0540e1d2
    "American_PA_abv = beers[beers['style_name'] == 'American-Style Pale Ale']['abv']#,'ibu','gravity']] # 40672\n",
    "American_PA_abv = np.array(American_PA_abv[American_PA_abv.notnull()])\n",
    "# American_PA_ibu = beers[beers['style_name'] == 'American-Style Pale Ale']['ibu']#,'ibu','gravity']] # 40672\n",
    "# American_PA_ibu = np.array(American_PA_ibu[American_PA_ibu.notnull()])\n",
    "print('>> There are {} American-Style Pale Ale records in the dataset.'.format(len(American_PA_abv)))\n",
    "# print('>> There are {} American-Style Pale Ale records in the dataset.'.format(len(American_PA_ibu)))\n",
    "\n",
<<<<<<< HEAD
=======
    "# ipa == India Pale Ale\n",
    "Belgian_PA_abv = beers[beers['style_name'] == 'Belgian-Style Pale Ale']['abv']#,'ibu','gravity']] # 40672\n",
    "Belgian_PA_abv = np.array(Belgian_PA_abv[Belgian_PA_abv.notnull()])\n",
    "# Belgian_PA_ibu = beers[beers['style_name'] == 'Belgian-Style Pale Ale']['ibu']#,'ibu','gravity']] # 40672\n",
    "# Belgian_PA_ibu = np.array(Belgian_PA_ibu[Belgian_PA_ibu.notnull()])\n",
    "print('>> There are {} Belgian-Style Pale Ale records in the dataset.'.format(len(Belgian_PA_abv)))\n",
    "# print('>> There are {} Belgian-Style Pale Ale records in the dataset.'.format(len(Belgian_PA_ibu)))\n",
    "\n",
    "# ABV comparision\n",
    "print('\\n' +'ABV metrix for American-Style Pilsener and India Pale Ale (IPA)')\n",
    "print('----------------')\n",
    "print('American-Style Pale Ale mean:',round(American_PA_abv.mean(),3))\n",
    "print('American-Style Pale Ale standard divation:', round(American_PA_abv.std(),3))\n",
    "print('American-Style Pale Ale size:', len(American_PA_abv))\n",
    "print('Belgian-Style Pale Ale mean:', round(Belgian_PA_abv.mean(),3))\n",
    "print('Belgian-Style Pale Ale standard divation:', round(Belgian_PA_abv.std(),3))\n",
    "print('Belgian-Style Pale Ale size:', len(Belgian_PA_abv))"
=======
    "pilsener = beers[beers['style_name'] == 'American-Style Pilsener']['abv'] # 40672\n",
    "pilsener = np.array(pilsener[pilsener.notnull()])\n",
    "print('>> There are {} American-Style Pilsener records in the dataset.'.format(len(pilsener)))\n",
>>>>>>> fcd9069a54321e0f7ae0b00343bc41fe0540e1d2
    "# ipa == India Pale Ale\n",
    "Belgian_PA_abv = beers[beers['style_name'] == 'Belgian-Style Pale Ale']['abv']#,'ibu','gravity']] # 40672\n",
    "Belgian_PA_abv = np.array(Belgian_PA_abv[Belgian_PA_abv.notnull()])\n",
    "# Belgian_PA_ibu = beers[beers['style_name'] == 'Belgian-Style Pale Ale']['ibu']#,'ibu','gravity']] # 40672\n",
    "# Belgian_PA_ibu = np.array(Belgian_PA_ibu[Belgian_PA_ibu.notnull()])\n",
    "print('>> There are {} Belgian-Style Pale Ale records in the dataset.'.format(len(Belgian_PA_abv)))\n",
    "# print('>> There are {} Belgian-Style Pale Ale records in the dataset.'.format(len(Belgian_PA_ibu)))\n",
    "\n",
    "# ABV comparision\n",
    "print('\\n' +'ABV metrix for American-Style Pilsener and India Pale Ale (IPA)')\n",
    "print('----------------')\n",
<<<<<<< HEAD
    "print('American-Style Pale Ale mean:',round(American_PA_abv.mean(),3))\n",
    "print('American-Style Pale Ale standard divation:', round(American_PA_abv.std(),3))\n",
    "print('American-Style Pale Ale size:', len(American_PA_abv))\n",
    "print('Belgian-Style Pale Ale mean:', round(Belgian_PA_abv.mean(),3))\n",
    "print('Belgian-Style Pale Ale standard divation:', round(Belgian_PA_abv.std(),3))\n",
    "print('Belgian-Style Pale Ale size:', len(Belgian_PA_abv))"
=======
    "print('American-Style Pilsener mean:',round(pilsener.mean(),3))\n",
    "print('American-Style Pilsener standard divation:', round(pilsener.std(),3))\n",
    "print('American-Style Pilsener size:', len(pilsener))\n",
    "print('American-Style India Pale Ale mean:', round(ipa.mean(),3))\n",
    "print('American-Style India Pale Ale standard divation:', round(ipa.std(),3))\n",
    "print('American-Style India Pale Ale size:', len(ipa))"
>>>>>>> 717a0f599346676fdba3ce7fb9b70bf9570071d7
>>>>>>> fcd9069a54321e0f7ae0b00343bc41fe0540e1d2
   ]
  },
  {
   "cell_type": "markdown",
   "metadata": {},
   "source": [
    "The five steps to performing a hypothesis test are:\n",
    "\n",
    "1) Set up null and alternative hypotheses   \n",
    "2) Choose a significance level   \n",
    "3) Calculate the test statistic   \n",
    "4) Determine the critical or p-value (find the rejection region)   \n",
    "5) Compare t-value with critical t-value to reject or fail to reject the null hypothesis \n"
   ]
  },
  {
   "cell_type": "markdown",
   "metadata": {},
   "source": [
<<<<<<< HEAD
    "## 1. Set a null and alternative Hypotheses\n",
    "### The Null Hypothesis\n",
=======
<<<<<<< HEAD
    "## 1. Set a null and alternative Hypotheses\n",
    "### The Null Hypothesis\n",
    "\n",
    "The null hypothesis to be there is no differecne in Alcohol By Volume between American-Style Pale Ale and Belgian-Style Pale Ale.\n",
    "\n",
    ">**$H_{0}$: The mean ABV difference between American-Style Pale Ale and Belgian-Style Pale Ale is zero. i.e. $H_{0} = H_{1}$**\n",
    "\n",
    "### The Alternate Hypothesis\n",
    "\n",
    ">**$H_{1}$ (2-tailed): The mean difference between American-Style Pale Ale and Belgian-Style Pale Ale, is different than zero.**\n",
    "\n",
    ">**$H_{1}$ (1-tailed, >): The mean difference between American-Style Pale Ale and Belgian-Style Pale Ale, is greater than zero.**\n",
    "\n",
    ">**$H_{1}$ (1-tailed, <): The mean difference between American-Style Pale Ale and Belgian-Style Pale Ale, is less than zero.**"
   ]
  },
  {
   "cell_type": "markdown",
   "metadata": {},
   "source": [
    "## 2. Choosing the significance level\n",
    "a sgnificant (𝛼) level of  0.05 is used in this analysis"
   ]
  },
  {
   "cell_type": "markdown",
   "metadata": {},
   "source": [
    "## 3. Calculate the test statistic "
=======
    "## The Null Hypothesis\n",
>>>>>>> fcd9069a54321e0f7ae0b00343bc41fe0540e1d2
    "\n",
    "The null hypothesis to be there is no differecne in Alcohol By Volume between American-Style Pale Ale and Belgian-Style Pale Ale.\n",
    "\n",
    ">**$H_{0}$: The mean ABV difference between American-Style Pale Ale and Belgian-Style Pale Ale is zero. i.e. $H_{0} = H_{1}$**\n",
    "\n",
    "### The Alternate Hypothesis\n",
    "\n",
    ">**$H_{1}$ (2-tailed): The mean difference between American-Style Pale Ale and Belgian-Style Pale Ale, is different than zero.**\n",
    "\n",
    ">**$H_{1}$ (1-tailed, >): The mean difference between American-Style Pale Ale and Belgian-Style Pale Ale, is greater than zero.**\n",
    "\n",
<<<<<<< HEAD
    ">**$H_{1}$ (1-tailed, <): The mean difference between American-Style Pale Ale and Belgian-Style Pale Ale, is less than zero.**"
   ]
  },
  {
   "cell_type": "markdown",
   "metadata": {},
   "source": [
    "## 2. Choosing the significance level\n",
    "a sgnificant (𝛼) level of  0.05 is used in this analysis"
   ]
  },
  {
   "cell_type": "markdown",
   "metadata": {},
   "source": [
    "## 3. Calculate the test statistic "
=======
    ">**$H_{1}$ (1-tailed, <): The mean difference between American-Style Pilsener and American-Style India Pale Ale, is less than zero.**"
>>>>>>> 717a0f599346676fdba3ce7fb9b70bf9570071d7
>>>>>>> fcd9069a54321e0f7ae0b00343bc41fe0540e1d2
   ]
  },
  {
   "cell_type": "code",
<<<<<<< HEAD
   "execution_count": 4,
=======
<<<<<<< HEAD
   "execution_count": 4,
=======
   "execution_count": 41,
>>>>>>> 717a0f599346676fdba3ce7fb9b70bf9570071d7
>>>>>>> fcd9069a54321e0f7ae0b00343bc41fe0540e1d2
   "metadata": {},
   "outputs": [
    {
     "name": "stdout",
     "output_type": "stream",
     "text": [
<<<<<<< HEAD
      "Mean ABV for American-Style Pale Ale 5.88\n",
      "Mean ABV for Belgian-Style Pale Ale 4.6\n"
=======
<<<<<<< HEAD
      "Mean ABV for American-Style Pale Ale 5.88\n",
      "Mean ABV for Belgian-Style Pale Ale 4.6\n"
=======
      "6.88\n",
      "5.19\n"
>>>>>>> 717a0f599346676fdba3ce7fb9b70bf9570071d7
>>>>>>> fcd9069a54321e0f7ae0b00343bc41fe0540e1d2
     ]
    }
   ],
   "source": [
<<<<<<< HEAD
    "## Take 50 sample from American-Style  and Belgian-Style Pale Ale\n",
    "import numpy as np\n",
    "np.random.seed(2019)\n",
    "American_PA_abv_sample = np.random.choice(American_PA_abv, size=50)\n",
    "Belgian_PA_abv_sample = np.random.choice(Belgian_PA_abv, size=50)\n",
    "print('Mean ABV for American-Style Pale Ale', round(American_PA_abv_sample.mean(),2))\n",
    "print('Mean ABV for Belgian-Style Pale Ale', round(Belgian_PA_abv_sample.mean(),2))"
=======
<<<<<<< HEAD
    "## Take 50 sample from American-Style  and Belgian-Style Pale Ale\n",
    "import numpy as np\n",
    "np.random.seed(2019)\n",
    "American_PA_abv_sample = np.random.choice(American_PA_abv, size=50)\n",
    "Belgian_PA_abv_sample = np.random.choice(Belgian_PA_abv, size=50)\n",
    "print('Mean ABV for American-Style Pale Ale', round(American_PA_abv_sample.mean(),2))\n",
    "print('Mean ABV for Belgian-Style Pale Ale', round(Belgian_PA_abv_sample.mean(),2))"
=======
    "## take 50 sample from American-Style Pilsener and Amercian-Style India Pale Ale sets \n",
    "import numpy as np\n",
    "np.random.seed(2019)\n",
    "pilsener_sample = np.random.choice(pilsener, size=50)\n",
    "ipa_sample = np.random.choice(ipa, size=50)\n",
    "print(ipa_sample.mean())\n",
    "print(pilsener_sample.mean())"
>>>>>>> 717a0f599346676fdba3ce7fb9b70bf9570071d7
>>>>>>> fcd9069a54321e0f7ae0b00343bc41fe0540e1d2
   ]
  },
  {
   "cell_type": "code",
<<<<<<< HEAD
   "execution_count": 5,
=======
<<<<<<< HEAD
   "execution_count": 6,
=======
   "execution_count": 39,
>>>>>>> 717a0f599346676fdba3ce7fb9b70bf9570071d7
>>>>>>> fcd9069a54321e0f7ae0b00343bc41fe0540e1d2
   "metadata": {},
   "outputs": [],
   "source": [
    "## modules\n",
    "def sample_variance(sample):\n",
    "    sample_mean = np.mean(sample)    \n",
    "    return np.sum((sample-sample_mean)**2)/(len(sample) - 1)\n",
    "def pooled_variance(sample1, sample2):\n",
    "    n_1, n_2 = len(sample1), len(sample2)\n",
    "    var_1, var_2 = sample_variance(sample1), sample_variance(sample2)\n",
    "    \n",
    "    return ((n_1 - 1) * var_1 + (n_2 - 1) * var_2)/(n_1 + n_2 - 2)\n",
    "def twosample_tstatistic(expr, ctrl):\n",
    "    exp_mean, ctrl_mean = np.mean(expr), np.mean(ctrl)\n",
    "    pool_var = pooled_variance(expr, ctrl)\n",
    "    n_e, n_c = len(expr), len(ctrl)\n",
    "    num = exp_mean - ctrl_mean\n",
    "    denom = np.sqrt(pool_var * ((1/n_e) + (1/n_c)))\n",
    "\n",
    "    return num/denom"
   ]
  },
  {
   "cell_type": "code",
<<<<<<< HEAD
   "execution_count": null,
   "metadata": {},
   "outputs": [],
   "source": [
=======
<<<<<<< HEAD
   "execution_count": 8,
=======
   "execution_count": 51,
>>>>>>> 717a0f599346676fdba3ce7fb9b70bf9570071d7
   "metadata": {},
   "outputs": [
    {
     "name": "stdout",
     "output_type": "stream",
     "text": [
<<<<<<< HEAD
      "t-statistic value: 13.468376892392886\n"
     ]
    },
    {
     "ename": "NameError",
     "evalue": "name 'stats' is not defined",
     "output_type": "error",
     "traceback": [
      "\u001b[0;31m---------------------------------------------------------------------------\u001b[0m",
      "\u001b[0;31mNameError\u001b[0m                                 Traceback (most recent call last)",
      "\u001b[0;32m<ipython-input-8-9131229dc968>\u001b[0m in \u001b[0;36m<module>\u001b[0;34m()\u001b[0m\n\u001b[1;32m      7\u001b[0m \u001b[0;34m\u001b[0m\u001b[0m\n\u001b[1;32m      8\u001b[0m \u001b[0mprint\u001b[0m\u001b[0;34m(\u001b[0m\u001b[0;34m't-statistic value:'\u001b[0m\u001b[0;34m,\u001b[0m \u001b[0mt_stat\u001b[0m\u001b[0;34m)\u001b[0m\u001b[0;34m\u001b[0m\u001b[0m\n\u001b[0;32m----> 9\u001b[0;31m \u001b[0mt_crit\u001b[0m \u001b[0;34m=\u001b[0m \u001b[0mstats\u001b[0m\u001b[0;34m.\u001b[0m\u001b[0mt\u001b[0m\u001b[0;34m.\u001b[0m\u001b[0mppf\u001b[0m\u001b[0;34m(\u001b[0m\u001b[0mq\u001b[0m\u001b[0;34m=\u001b[0m\u001b[0;36m1\u001b[0m\u001b[0;34m-\u001b[0m\u001b[0;36m0.05\u001b[0m\u001b[0;34m,\u001b[0m \u001b[0mdf\u001b[0m\u001b[0;34m=\u001b[0m\u001b[0;36m98\u001b[0m\u001b[0;34m)\u001b[0m\u001b[0;34m\u001b[0m\u001b[0m\n\u001b[0m\u001b[1;32m     10\u001b[0m \u001b[0mprint\u001b[0m\u001b[0;34m(\u001b[0m\u001b[0;34m't-critial value:'\u001b[0m\u001b[0;34m,\u001b[0m \u001b[0mt_crit\u001b[0m\u001b[0;34m)\u001b[0m\u001b[0;34m\u001b[0m\u001b[0m\n",
      "\u001b[0;31mNameError\u001b[0m: name 'stats' is not defined"
=======
      "t-statistic value: 9.815821995420613\n",
      "t-critial value: 1.6605512170440568\n"
>>>>>>> 717a0f599346676fdba3ce7fb9b70bf9570071d7
     ]
    }
   ],
   "source": [
<<<<<<< HEAD
>>>>>>> fcd9069a54321e0f7ae0b00343bc41fe0540e1d2
    "## import the two sample t statistc module\n",
    "# import test_moduls as hyp_test\n",
    "alpha = 0.05\n",
    "\n",
<<<<<<< HEAD
    "## Calculate the t statsits\n",
    "t_stat = twosample_tstatistic(American_PA_abv_sample, Belgian_PA_abv_sample)\n",
    "\n",
=======
    "## Calculate the t statsits\n",
    "t_stat = twosample_tstatistic(American_PA_abv_sample, Belgian_PA_abv_sample)\n",
    "\n",
=======
    "## Calculate the t statsits\n",
    "t_stat = twosample_tstatistic(ipa_sample, pilsener_sample)\n",
>>>>>>> 717a0f599346676fdba3ce7fb9b70bf9570071d7
>>>>>>> fcd9069a54321e0f7ae0b00343bc41fe0540e1d2
    "print('t-statistic value:', t_stat)\n",
    "# t_crit = stats.t.ppf(q=1-0.05, df=98)\n",
    "# print('t-critial value:', t_crit)"
   ]
  },
  {
   "cell_type": "markdown",
   "metadata": {},
   "source": [
    "### One sample t-test"
   ]
  },
  {
   "cell_type": "code",
   "execution_count": null,
   "metadata": {},
   "outputs": [],
   "source": [
    "import numpy as np\n",
    "import scipy.stats as stats\n",
    "import seaborn as sns"
   ]
  },
  {
   "cell_type": "code",
   "execution_count": null,
   "metadata": {},
   "outputs": [],
   "source": [
    "def ttest(sample, popmean, alpha):\n",
    "\n",
    "    # Visualize sample distribution for normality\n",
    "    sns.set(color_codes=True)\n",
    "    sns.set(rc={'figure.figsize': (12, 10)})\n",
    "    sns.distplot(sample)\n",
    "\n",
    "    # Population mean\n",
    "    mu = popmean\n",
    "\n",
    "    # Sample mean (x̄) using NumPy mean()\n",
    "    x_bar = round(sample.mean(), 2)\n",
    "\n",
    "    # Sample Standard Deviation (sigma) using Numpy\n",
    "    sigma = round(np.std(sample, ddof=1), 3)\n",
    "\n",
    "    # Degrees of freedom\n",
    "    df = len(sample) - 1\n",
    "\n",
    "    # Calculate the critical t-value\n",
    "    t_crit = stats.t.ppf(1-alpha, df=df)\n",
    "    # (x_bar - mu)/(sigma/np.sqrt(len(sample)))\n",
    "\n",
    "    # Calculate the t-value and p-value\n",
    "    results = stats.ttest_1samp(a=sample, popmean=mu)\n",
    "    t_value = round(results[0], 2)\n",
    "    p_value = np.round((results[1]), 4)\n",
    "\n",
    "    # return results\n",
    "    if (t_value > t_crit and p_value < alpha):\n",
    "        print(\"Null hypohesis rejected. Results are statistically significant with t-value = \", t_value,\n",
    "              \"critical t-value = \", t_crit, \"and p-value = \", p_value)\n",
    "    else:\n",
    "        print('Null hypothesis is True with t-value = ', t_value,\n",
    "              \"critical t-value = \", t_crit, 'and p-value = ', p_value)\n",
    "\n",
    "    print('The sample contains', len(sample), 'observations, having a mean of', x_bar, 'and a standard devation (sigma) =', sigma,\n",
    "          ', with', df, 'degrees of freedom. The difference between sample and population means is:', (x_bar - mu))\n",
    "    return t_crit\n"
   ]
  },
  {
<<<<<<< HEAD
   "cell_type": "markdown",
   "metadata": {},
   "source": [
    "### One sample t-test"
   ]
  },
  {
   "cell_type": "code",
   "execution_count": null,
   "metadata": {},
   "outputs": [],
   "source": [
    "import numpy as np\n",
    "import scipy.stats as stats\n",
    "import seaborn as sns"
   ]
  },
  {
   "cell_type": "code",
   "execution_count": null,
   "metadata": {},
   "outputs": [],
   "source": [
    "def ttest(sample, popmean, alpha):\n",
    "\n",
    "    # Visualize sample distribution for normality\n",
    "    sns.set(color_codes=True)\n",
    "    sns.set(rc={'figure.figsize': (12, 10)})\n",
    "    sns.distplot(sample)\n",
    "\n",
    "    # Population mean\n",
    "    mu = popmean\n",
    "\n",
    "    # Sample mean (x̄) using NumPy mean()\n",
    "    x_bar = round(sample.mean(), 2)\n",
    "\n",
    "    # Sample Standard Deviation (sigma) using Numpy\n",
    "    sigma = round(np.std(sample, ddof=1), 3)\n",
    "\n",
    "    # Degrees of freedom\n",
    "    df = len(sample) - 1\n",
    "\n",
    "    # Calculate the critical t-value\n",
    "    t_crit = stats.t.ppf(1-alpha, df=df)\n",
    "    # (x_bar - mu)/(sigma/np.sqrt(len(sample)))\n",
    "\n",
    "    # Calculate the t-value and p-value\n",
    "    results = stats.ttest_1samp(a=sample, popmean=mu)\n",
    "    t_value = round(results[0], 2)\n",
    "    p_value = np.round((results[1]), 4)\n",
    "\n",
    "    # return results\n",
    "    if (t_value > t_crit and p_value < alpha):\n",
    "        print(\"Null hypohesis rejected. Results are statistically significant with t-value = \", t_value,\n",
    "              \"critical t-value = \", t_crit, \"and p-value = \", p_value)\n",
    "    else:\n",
    "        print('Null hypothesis is True with t-value = ', t_value,\n",
    "              \"critical t-value = \", t_crit, 'and p-value = ', p_value)\n",
    "\n",
    "    print('The sample contains', len(sample), 'observations, having a mean of', x_bar, 'and a standard devation (sigma) =', sigma,\n",
    "          ', with', df, 'degrees of freedom. The difference between sample and population means is:', (x_bar - mu))\n",
    "    return t_crit\n"
   ]
  },
  {
   "cell_type": "code",
   "execution_count": null,
   "metadata": {},
   "outputs": [],
   "source": [
    "ttest(American_PA_abv_sample, 5.88, 0.05)"
   ]
  },
  {
   "cell_type": "markdown",
   "metadata": {},
   "source": [
    "## 4.Determine the critical or p-value (find the rejection region)  "
   ]
  },
  {
   "cell_type": "markdown",
   "metadata": {},
   "source": [
    "## 5. Compare t-value with critical t-value to reject or fail to reject the null hypothesis"
   ]
  },
  {
   "cell_type": "code",
   "execution_count": null,
=======
   "cell_type": "code",
<<<<<<< HEAD
   "execution_count": null,
   "metadata": {},
   "outputs": [],
   "source": [
    "ttest(American_PA_abv_sample, 5.88, 0.05)"
   ]
  },
  {
   "cell_type": "markdown",
   "metadata": {},
   "source": [
    "## 4.Determine the critical or p-value (find the rejection region)  "
   ]
  },
  {
   "cell_type": "markdown",
   "metadata": {},
   "source": [
    "## 5. Compare t-value with critical t-value to reject or fail to reject the null hypothesis"
   ]
  },
  {
   "cell_type": "code",
   "execution_count": null,
=======
   "execution_count": 57,
>>>>>>> 717a0f599346676fdba3ce7fb9b70bf9570071d7
>>>>>>> fcd9069a54321e0f7ae0b00343bc41fe0540e1d2
   "metadata": {},
   "outputs": [],
   "source": [
    "# Visualize t and p_value\n",
    "import scipy.stats as stats\n",
    "\n",
    "def visualize_t(t_stat, n_control, n_experimental):\n",
    "\n",
    "    # initialize a matplotlib \"figure\"\n",
    "    fig = plt.figure(figsize=(8,5))\n",
    "    ax = fig.gca()\n",
    "\n",
    "    # generate points on the x axis between -4 and 4:\n",
    "    xs = np.linspace(-4,4,500)\n",
    "    # use stats.t.pdf to get values on the probability density function for the t-distribution\n",
    "    ys = stats.t.pdf(xs, (n_control + n_experimental - 2), 0, 1)#, labels=['Density'])\n",
    "    ax.plot(xs, ys, linewidth=3, color='darkred')\n",
    "    \n",
    "    ax.axvline(t_stat, color='black', linestyle='--', lw=5)\n",
    "    ax.axvline(-t_stat, color='black', linestyle='--', lw=5)\n",
    "    # Draw two sided boundary for critical-t\n",
    "    plt.show()\n",
    "    return None"
   ]
  },
  {
   "cell_type": "code",
<<<<<<< HEAD
   "execution_count": null,
   "metadata": {},
   "outputs": [],
=======
<<<<<<< HEAD
   "execution_count": null,
   "metadata": {},
   "outputs": [],
=======
   "execution_count": 58,
   "metadata": {},
   "outputs": [
    {
     "data": {
      "image/png": "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\n",
      "text/plain": [
       "<Figure size 576x360 with 1 Axes>"
      ]
     },
     "metadata": {
      "needs_background": "light"
     },
     "output_type": "display_data"
    }
   ],
>>>>>>> 717a0f599346676fdba3ce7fb9b70bf9570071d7
>>>>>>> fcd9069a54321e0f7ae0b00343bc41fe0540e1d2
   "source": [
    "visualize_t(t_stat, len(ipa_sample), len(pilsener_sample))"
   ]
  },
  {
   "cell_type": "markdown",
   "metadata": {},
   "source": [
    "### Welch's t-test"
   ]
  },
  {
   "cell_type": "code",
<<<<<<< HEAD
   "execution_count": null,
   "metadata": {},
   "outputs": [],
=======
<<<<<<< HEAD
   "execution_count": null,
   "metadata": {},
   "outputs": [],
=======
   "execution_count": 65,
   "metadata": {},
   "outputs": [
    {
     "name": "stdout",
     "output_type": "stream",
     "text": [
      "Null hypohesis rejected. Results are statistically significant with t-value =  9.815821995420613 critical t-value =  1.6740408257506048 and p-value =  7.80486786311485e-14\n"
     ]
    },
    {
     "data": {
      "text/plain": [
       "1.56097357262297e-13"
      ]
     },
     "execution_count": 65,
     "metadata": {},
     "output_type": "execute_result"
    }
   ],
>>>>>>> 717a0f599346676fdba3ce7fb9b70bf9570071d7
>>>>>>> fcd9069a54321e0f7ae0b00343bc41fe0540e1d2
   "source": [
    "import test_moduls\n",
    "test_moduls.p_value_welch_ttest(ipa_sample, pilsener_sample, two_sided=True)"
   ]
  },
  {
   "cell_type": "code",
<<<<<<< HEAD
   "execution_count": null,
   "metadata": {},
   "outputs": [],
=======
<<<<<<< HEAD
   "execution_count": null,
   "metadata": {},
   "outputs": [],
=======
   "execution_count": 24,
   "metadata": {},
   "outputs": [
    {
     "name": "stdout",
     "output_type": "stream",
     "text": [
      ">> There are 20336 American-Style Pilsener records in the dataset.\n",
      ">> There are 30504 American-Style IPA records in the dataset.\n",
      "\n",
      "IBU metrix for American-Style Pilsener and India Pale Ale (IPA)\n",
      "--------------\n",
      "American-Style Pilsener mean: 22.5\n",
      "American-Style Pilsener standard divation: 9.5\n",
      "American-Style Pilsener size: 20336\n",
      "American-Style India Pale Ale mean: 56.0\n",
      "American-Style India Pale Ale standard divation: 9.933\n",
      "American-Style India Pale Ale size: 30504\n"
     ]
    }
   ],
>>>>>>> 717a0f599346676fdba3ce7fb9b70bf9570071d7
>>>>>>> fcd9069a54321e0f7ae0b00343bc41fe0540e1d2
   "source": [
    "## copied the same thing for ibu \n",
    "# print('Beer style count:', beers.style_name.value_counts())\n",
    "pilsener_ibu = beers[beers['style_name'] == 'American-Style Pilsener']['ibu'] # 40672\n",
    "pilsener_ibu = np.array(pilsener_ibu[pilsener_ibu.notnull()])\n",
    "print('>> There are {} American-Style Pilsener records in the dataset.'.format(len(pilsener_ibu)))\n",
    "# ipa == India Pale Ale\n",
    "ipa_ibu = beers[beers['style_name'] == 'American-Style India Pale Ale']['ibu'] # 40672\n",
    "ipa_ibu = np.array(ipa_ibu[ipa_ibu.notnull()])\n",
    "print('>> There are {} American-Style IPA records in the dataset.'.format(len(ipa_ibu)))\n",
    "\n",
    "# IBU comparision\n",
    "print('\\n' +'IBU metrix for American-Style Pilsener and India Pale Ale (IPA)')\n",
    "print('--------------')\n",
    "print('American-Style Pilsener mean:',round(pilsener_ibu.mean(),3))\n",
    "print('American-Style Pilsener standard divation:', round(pilsener_ibu.std(),3))\n",
    "print('American-Style Pilsener size:', len(pilsener_ibu))\n",
    "print('American-Style India Pale Ale mean:', round(ipa_ibu.mean(),3))\n",
    "print('American-Style India Pale Ale standard divation:', round(ipa_ibu.std(),3))\n",
    "print('American-Style India Pale Ale size:', len(ipa_ibu))"
   ]
  },
  {
   "cell_type": "code",
<<<<<<< HEAD
   "execution_count": null,
   "metadata": {},
   "outputs": [],
=======
<<<<<<< HEAD
   "execution_count": null,
   "metadata": {},
   "outputs": [],
=======
   "execution_count": 27,
   "metadata": {},
   "outputs": [
    {
     "data": {
      "text/plain": [
       "array([48., 50., 70.])"
      ]
     },
     "execution_count": 27,
     "metadata": {},
     "output_type": "execute_result"
    }
   ],
>>>>>>> 717a0f599346676fdba3ce7fb9b70bf9570071d7
>>>>>>> fcd9069a54321e0f7ae0b00343bc41fe0540e1d2
   "source": [
    "np.unique(ipa_ibu)"
   ]
  },
  {
   "cell_type": "markdown",
   "metadata": {},
   "source": [
    "### ABV of American Style Pilsner\n",
    "American Pilsners, particularly Imperial Pilsners, typically have an alcohol content between 6.5% and 9% alcohol by volume. \n"
   ]
  },
  {
   "cell_type": "code",
<<<<<<< HEAD
   "execution_count": null,
   "metadata": {},
   "outputs": [],
=======
<<<<<<< HEAD
   "execution_count": null,
   "metadata": {},
   "outputs": [],
=======
   "execution_count": 21,
   "metadata": {},
   "outputs": [
    {
     "data": {
      "text/plain": [
       "array([5. , 5.5])"
      ]
     },
     "execution_count": 21,
     "metadata": {},
     "output_type": "execute_result"
    }
   ],
>>>>>>> 717a0f599346676fdba3ce7fb9b70bf9570071d7
>>>>>>> fcd9069a54321e0f7ae0b00343bc41fe0540e1d2
   "source": [
    "def boxplot(dataset):\n",
    "    \"\"\"Make a box plot for each column of ``x``.\n",
    "\n",
    "    Parameters\n",
    "    ----------\n",
    "    X : Array or a sequence of vectors\n",
    "\n",
    "    \"\"\"\n",
    "    fig, axs = plt.subplots(nrows=1, ncols=3, figsize=(10, 5), sharey=False)\n",
    "\n",
    "    axs[0].boxplot(dataset.abv, labels=['ABV'], notch=True, showmeans=True)\n",
    "    axs[0].set_title('Alcohol By Volume')\n",
    "    axs[1].boxplot(dataset.gravity, labels=['OG'], notch=True, showmeans=True)\n",
    "    axs[1].set_title('Original Gravity')\n",
    "    axs[2].boxplot(dataset.ibu, labels=['IBU'], notch=True, showmeans=True)\n",
    "    axs[2].set_title('International Bitterness Units')"
   ]
  },
  {
   "cell_type": "code",
   "execution_count": null,
   "metadata": {},
   "outputs": [],
   "source": [
    "samp_pilsener = np.array(random.choices(pilsener, k=50))\n",
    "sns.set(color_codes=True)\n",
    "sns.set(rc={'figure.figsize':(10,5)})\n",
    "sns.distplot(pilsener_stand, hist=False)"
   ]
  },
  {
   "cell_type": "code",
   "execution_count": null,
   "metadata": {},
   "outputs": [],
   "source": [
    "import test_moduls as test\n",
    "sampling_from_five_ibu = np.array(random.choices(array1, k=50))"
   ]
  },
  {
   "cell_type": "code",
   "execution_count": null,
   "metadata": {},
   "outputs": [],
   "source": [
    "mu = 7.75\n",
    "pilsener_stand = np.array([(p - pilsener.mean())/pilsener.std() for p in pilsener])\n",
    "# test.ttest(pilsener, mu, 0.05)\n",
    "\n"
   ]
  },
  {
   "cell_type": "code",
   "execution_count": null,
   "metadata": {},
   "outputs": [],
   "source": [
    "beers.style_name.value_counts()"
   ]
  },
  {
   "cell_type": "code",
   "execution_count": null,
   "metadata": {},
   "outputs": [],
   "source": [
    "pilsener = beers[beers['style_name'] == 'American-Style Pilsener'][['abv', 'ibu', 'gravity']] # \n",
    "pilsener.gravity.value_counts()"
   ]
  },
  {
   "cell_type": "code",
   "execution_count": null,
   "metadata": {},
   "outputs": [],
   "source": []
  },
  {
   "cell_type": "code",
   "execution_count": null,
   "metadata": {},
   "outputs": [],
   "source": [
    "import random\n",
    "random.seed(2019)\n",
    "# sampling with replacement \n",
    "pilsener_sampling = np.array(random.choices(pilsener, k=3000))\n",
    "print('sampling with choices():', len(pilsener_sampling))\n",
    "\n",
    "ipa_sampling = np.array(random.choices(ipa, k=3000))\n",
    "print('sampling with choices():', len(ipa_sampling))\n",
    "\n",
    "print(f'This is for the {} samples'.format(len(ipa_sampling)))\n",
    "print('---------------------------')\n",
    "print('American-Style Pilsener mean:',round(pilsener_sampling.mean(),3))\n",
    "print('American-Style Pilsener standard divation:', round(pilsener_sampling.std(),3))\n",
    "print('American-Style Pilsener size', len(pilsener_sampling))\n",
    "print('American-Style India Pale Ale mean', round(ipa_sampling.mean(),3))\n",
    "print('American-Style India Pale Ale standard divation:', round(ipa_sampling.std(),3))\n",
    "print('American-Style India Pale Ale size', len(ipa_sampling))\n",
    "\n",
    "\n",
    "# Draw a plot showing overlapping of distribution means and sds for incpection\n",
    "sns.set(color_codes=True)\n",
    "sns.set(rc={'figure.figsize':(10,5)})\n",
    "sns.distplot(pilsener_sampling, hist=False)\n",
    "sns.distplot(ipa_sampling, hist=False)"
   ]
  },
  {
   "cell_type": "markdown",
   "metadata": {},
   "source": [
    "### Welch test"
   ]
  },
  {
   "cell_type": "code",
   "execution_count": null,
   "metadata": {},
   "outputs": [],
   "source": [
    "import test_moduls\n",
    "test_moduls.p_value_welch_ttest(pilsener_sampling, ipa_sampling, two_sided=True)\n"
   ]
  },
  {
   "cell_type": "markdown",
   "metadata": {},
   "source": [
    "### Standerdizing the data here"
   ]
  },
  {
   "cell_type": "code",
   "execution_count": null,
   "metadata": {},
   "outputs": [],
   "source": [
    "ipa_lst = np.array([(i - ipa_sampling.mean())/ipa_sampling.std() for i in ipa_sampling])\n",
    "pilsener_lst = np.array([(p - pilsener_sampling.mean())/pilsener_sampling.std() for p in pilsener_sampling])\n",
    "\n",
    "print('This is after standerdization of the 50 samples')\n",
    "print('---------------------------')\n",
    "print('American-Style Pilsener mean:',round(pilsener_lst.mean(),3))\n",
    "print('American-Style Pilsener standard divation:', round(pilsener_lst.std(),3))\n",
    "print('American-Style Pilsener size', len(pilsener_lst))\n",
    "print('American-Style India Pale Ale mean', round(ipa_lst.mean(),3))\n",
    "print('American-Style India Pale Ale standard divation:', round(ipa_lst.std(),3))\n",
    "print('American-Style India Pale Ale size', len(ipa_lst))\n",
    "\n",
    "# Draw a plot showing overlapping of distribution means and sds for incpection\n",
    "sns.set(color_codes=True)\n",
    "sns.set(rc={'figure.figsize':(10,5)})\n",
    "sns.distplot(pilsener_lst, hist=False)\n",
    "sns.distplot(ipa_lst, hist=False)"
   ]
  },
  {
   "cell_type": "code",
   "execution_count": null,
   "metadata": {},
   "outputs": [],
   "source": [
    "print(ipa_sampling)"
   ]
  },
  {
   "cell_type": "code",
   "execution_count": null,
   "metadata": {},
   "outputs": [],
   "source": [
    "beers.style_name.value_counts()"
   ]
  },
  {
   "cell_type": "code",
   "execution_count": null,
   "metadata": {},
   "outputs": [],
   "source": []
  },
  {
   "cell_type": "code",
   "execution_count": null,
   "metadata": {},
   "outputs": [],
   "source": [
    "new_beer = beers[['ibu', 'abv']]\n",
    "nb = new_beer[new_beer.notnull().all(axis=1)]\n",
    "# nb.info()\n",
    "print(nb.ibu.value_counts())"
   ]
  },
  {
   "cell_type": "code",
   "execution_count": null,
   "metadata": {},
   "outputs": [],
   "source": [
    "print(nb.abv.value_counts())"
   ]
  },
  {
   "cell_type": "code",
   "execution_count": null,
   "metadata": {},
   "outputs": [],
   "source": [
    "nb_five = nb[nb['abv']==5.0]\n",
    "nb_ten = nb[nb['abv']==4.5]\n",
    "print('ABV counnts are', nb_five.abv.value_counts())\n",
    "print('ABV counnts are', nb_ten.abv.value_counts())\n",
    "# nb_ten"
   ]
  },
  {
   "cell_type": "code",
   "execution_count": null,
   "metadata": {},
   "outputs": [],
   "source": [
    "nb_ten"
   ]
  },
  {
   "cell_type": "markdown",
   "metadata": {},
   "source": [
    "## Two-independent sample t-test"
   ]
  },
  {
   "cell_type": "code",
   "execution_count": null,
   "metadata": {},
   "outputs": [],
   "source": [
    "# get a sample of 50 from the two independent groups\n",
    "array_5_ibu, array_10_ibu = np.array(nb_five.ibu), np.array(nb_ten.ibu)\n",
    "# sampling with replacemtnt\n",
    "import random\n",
    "sampling_from_five_ibu = np.array(random.choices(array1, k=50))\n",
    "sampling_from_ten_ibu = np.array(random.choices(array2, k=50))\n",
    "# mean_ibu_for_five_abv = nb_five.ibu.mean()\n",
    "# print(mean_ibu_for_five_abv \n",
    "print('sampling fifty items from a 20336 items of five ibu list', len(sampling_from_five_ibu))\n",
    "print('sampling fifty items from a 10186 items of five ibu list', len(sampling_from_ten_ibu))"
   ]
  },
  {
   "cell_type": "code",
   "execution_count": null,
   "metadata": {},
   "outputs": [],
   "source": [
    "print('Five ibu mean',sampling_from_five_ibu.mean())\n",
    "print('Five ibu standard divation', sampling_from_five_ibu.std())\n",
    "print('Five ibu size', len(sampling_from_five_ibu))\n",
    "print('Ten ibu mean', sampling_from_ten_ibu.mean())\n",
    "print('Ten ibu standard divation', sampling_from_ten_ibu.std())\n",
    "print('Ten ibu size', len(sampling_from_ten_ibu))\n",
    "# control.mean()"
   ]
  },
  {
   "cell_type": "code",
   "execution_count": null,
   "metadata": {},
   "outputs": [],
   "source": [
    "array2"
   ]
  },
  {
   "cell_type": "code",
   "execution_count": null,
   "metadata": {},
   "outputs": [],
   "source": [
    "import cleaning_data as cd"
   ]
  },
  {
   "cell_type": "code",
   "execution_count": null,
   "metadata": {},
   "outputs": [],
   "source": [
    "# cleaning dataset and pulling only the three columns\n",
    "beer_vital_stats = cd.beer_vital_stats(beers)\n",
    "beer_vital_stats.head()"
   ]
  },
  {
   "cell_type": "code",
   "execution_count": null,
   "metadata": {},
   "outputs": [],
   "source": [
    "beer_vital_stats.info()"
   ]
  },
  {
   "cell_type": "code",
   "execution_count": null,
   "metadata": {},
   "outputs": [],
   "source": [
    "# Check the box plot to see the data is uniform\n",
    "import visualization as vis\n",
    "vis.boxplot(beer_vital_stats)"
   ]
  },
  {
   "cell_type": "markdown",
   "metadata": {},
   "source": [
    "Check the variability or dispersion of the data using boxplot"
   ]
  },
  {
   "cell_type": "code",
   "execution_count": null,
   "metadata": {},
   "outputs": [],
   "source": [
    "print(beer_vital_stats.min()) \n",
    "print(beer_vital_stats.max())"
   ]
  },
  {
   "cell_type": "code",
   "execution_count": null,
   "metadata": {},
   "outputs": [],
   "source": [
    "beer_vital_stats.ibu.value_counts()"
   ]
  },
  {
   "cell_type": "markdown",
   "metadata": {},
   "source": [
    "## IBU Hypothesis"
   ]
  },
  {
   "cell_type": "code",
   "execution_count": null,
   "metadata": {},
   "outputs": [],
   "source": [
    "beers.head(3)"
   ]
  },
  {
   "cell_type": "code",
   "execution_count": null,
   "metadata": {},
   "outputs": [],
   "source": [
    "pilsener_ibu = beers[beers['style_name'] == 'American-Style Pilsener']['ibu'] # 40672\n",
    "pilsener_ibu = np.array(pilsener_ibu[pilsener_ibu.notnull()])\n",
    "# ipa == India Pale Ale\n",
    "ipa_ibu = beers[beers['style_name'] == 'American-Style India Pale Ale']['ibu'] # 40672\n",
    "ipa_ibu = np.array(ipa_ibu[ipa_ibu.notnull()])\n",
    "\n",
    "# IBU comparision\n",
    "print('Working data information')\n",
    "print('--------------------------')\n",
    "print('American-Style Pilsener mean:',round(pilsener_ibu.mean(),3))\n",
    "print('American-Style Pilsener standard divation:', round(pilsener_ibu.std(),3))\n",
    "print('American-Style Pilsener size', len(pilsener_ibu))\n",
    "print('American-Style India Pale Ale mean', round(ipa_ibu.mean(),3))\n",
    "print('American-Style India Pale Ale standard divation:', round(ipa_ibu.std(),3))\n",
    "print('American-Style India Pale Ale size', len(ipa_ibu))"
   ]
  },
  {
   "cell_type": "code",
   "execution_count": null,
   "metadata": {},
   "outputs": [],
   "source": [
    "# Draw a plot showing overlapping of distribution means and sds for incpection\n",
    "sns.set(color_codes=True)\n",
    "sns.set(rc={'figure.figsize':(10,5)})\n",
    "sns.distplot(pilsener_ibu, hist=False)\n",
    "sns.distplot(ipa_ibu, hist=False)"
   ]
  },
  {
   "cell_type": "code",
   "execution_count": null,
   "metadata": {},
   "outputs": [],
   "source": [
    "# pil_ibu = beers[beers['style_name'] == 'American-Style Pilsener']['ibu']\n",
    "beers.ibu.value_counts()"
   ]
  },
  {
   "cell_type": "code",
   "execution_count": null,
   "metadata": {},
   "outputs": [],
   "source": [
    "beers.gravity.value_counts()"
   ]
  },
  {
   "cell_type": "code",
   "execution_count": null,
   "metadata": {},
   "outputs": [],
   "source": [
    "og_ibu = beers[beers['gravity'] == 1.051]['ibu']\n",
    "og_ibu.unique()"
   ]
  },
  {
   "cell_type": "code",
   "execution_count": null,
   "metadata": {},
   "outputs": [],
   "source": [
    "abv = beers[beers['abv']==4.5][['ibu','gravity']]\n",
    "abv.info()"
   ]
  },
  {
   "cell_type": "code",
   "execution_count": null,
   "metadata": {},
   "outputs": [],
   "source": []
  }
 ],
 "metadata": {
  "kernelspec": {
   "display_name": "learn-env",
   "language": "python",
   "name": "learn-env"
  },
  "language_info": {
   "codemirror_mode": {
    "name": "ipython",
    "version": 3
   },
   "file_extension": ".py",
   "mimetype": "text/x-python",
   "name": "python",
   "nbconvert_exporter": "python",
   "pygments_lexer": "ipython3",
   "version": "3.6.6"
  }
 },
 "nbformat": 4,
 "nbformat_minor": 2
}
