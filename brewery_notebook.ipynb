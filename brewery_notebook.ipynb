{
 "cells": [
  {
   "cell_type": "markdown",
   "metadata": {},
   "source": [
    "# Loading the dataset "
   ]
  },
  {
   "cell_type": "markdown",
   "metadata": {},
   "source": [
    "This data is API requesed from [BreweryDB](https://www.brewerydb.com/developers/apps) website and the finlal working data is saved as csv file."
   ]
  },
  {
   "cell_type": "code",
   "execution_count": 22,
   "metadata": {},
   "outputs": [
    {
     "name": "stdout",
     "output_type": "stream",
     "text": [
      "The autoreload extension is already loaded. To reload it, use:\n",
      "  %reload_ext autoreload\n"
     ]
    }
   ],
   "source": [
    "# Data analysis packages:\n",
    "import pandas as pd\n",
    "import numpy as np\n",
    "\n",
    "# Visualization packages:\n",
    "import seaborn as sns\n",
    "sns.set_style('darkgrid')\n",
    "import matplotlib.pyplot as plt\n",
    "%matplotlib inline\n",
    "\n",
    "%load_ext autoreload\n",
    "%autoreload 2"
   ]
  },
  {
   "cell_type": "markdown",
   "metadata": {},
   "source": [
    "<a id='sec1.3'></a>\n",
    "## Understanding the data\n",
    "The dataset used in this analysis is available at [BreweryDB](https://www.brewerydb.com/developers/apps)."
   ]
  },
  {
   "cell_type": "markdown",
   "metadata": {},
   "source": [
    "In order to define the hypotheses that will lead this analysis, it is first needed to know which information is available in the dataset (attributes). Thus, the first lines of the dataset are shown below:"
   ]
  },
  {
   "cell_type": "code",
   "execution_count": 23,
   "metadata": {},
   "outputs": [
    {
     "name": "stdout",
     "output_type": "stream",
     "text": [
      "This dataset has 508400 samples. and 20 columns\n"
     ]
    }
   ],
   "source": [
    "## Loading the dataset\n",
    "beers = pd.read_csv('data/dirty_data.csv')\n",
    "\n",
    "## Printing the number of samples in the dataset:\n",
    "print('This dataset has {0} samples.'.format(len(beers)), 'and {} columns'.format(len(beers.columns)-1))"
   ]
  },
  {
   "cell_type": "code",
   "execution_count": 25,
   "metadata": {},
   "outputs": [
    {
     "name": "stdout",
     "output_type": "stream",
     "text": [
      "\n",
      "IBU metrix for American-Style Pale Ale (PA)\n",
      "----------------\n",
      "American-Style Pale Ale mean: 5.98\n",
      "American-Style Pale Ale standard divation: 0.7730459236035075\n",
      "American-Style Pale Ale size: 50840\n",
      "\n",
      "IBU metrix for Belgian-Style Pale Ale (PA)\n",
      "----------------\n",
      "Belgian-Style Pale Ale mean: 4.6\n",
      "Belgian-Style Pale Ale standard divation: 0.0\n",
      "Belgian-Style Pale Ale size: 10168\n"
     ]
    }
   ],
   "source": [
    "# get the American-Style and Belgian-Style Pale Ale beers \n",
    "American_PA_abv = beers[beers['style_name'] == 'American-Style Pale Ale']['abv']\n",
    "American_PA_abv = np.array(American_PA_abv[American_PA_abv.notnull()])\n",
    "\n",
    "Belgian_PA_abv = beers[beers['style_name'] == 'Belgian-Style Pale Ale']['abv']\n",
    "Belgian_PA_abv = np.array(Belgian_PA_abv[Belgian_PA_abv.notnull()])\n",
    "\n",
    "## explore the mean, variance/standard divation and sample size \n",
    "print('\\n' +'IBU metrix for American-Style Pale Ale (PA)')\n",
    "print('----------------')\n",
    "print('American-Style Pale Ale mean:',round(American_PA_abv.mean(),3))\n",
    "print('American-Style Pale Ale standard divation:', (American_PA_abv.std()))\n",
    "print('American-Style Pale Ale size:', len(American_PA_abv))\n",
    "print('\\n' +'IBU metrix for Belgian-Style Pale Ale (PA)')\n",
    "print('----------------')\n",
    "print('Belgian-Style Pale Ale mean:', round(Belgian_PA_abv.mean(),3))\n",
    "print('Belgian-Style Pale Ale standard divation:', round(Belgian_PA_abv.std(),3))\n",
    "print('Belgian-Style Pale Ale size:', len(Belgian_PA_abv))"
   ]
  },
  {
   "cell_type": "code",
   "execution_count": 28,
   "metadata": {},
   "outputs": [
    {
     "data": {
      "text/plain": [
       "10168"
      ]
     },
     "execution_count": 28,
     "metadata": {},
     "output_type": "execute_result"
    }
   ],
   "source": [
    "len(Belgian_PA_abv)"
   ]
  },
  {
   "cell_type": "markdown",
   "metadata": {},
   "source": [
    "## 1. Set a null and alternative Hypotheses\n",
    "### The Null Hypothesis\n",
    "\n",
    "The null hypothesis is there is no difference in Alcohol By Volume between American-Style Pale Ale and Belgian-Style Pale Ale.\n",
    "\n",
    ">**$H_{0}$: The mean ABV difference between American-Style PA and Belgian-Style PA is zero. i.e. $H_{0} = H_{1}$**\n",
    "\n",
    "### The Alternate Hypothesis\n",
    "\n",
    ">**$H_{1}$ (2-tailed): The mean difference between American-Style and Belgian-Style PA is different.**"
   ]
  },
  {
   "cell_type": "markdown",
   "metadata": {},
   "source": [
    "## 2. Choosing the significance level\n",
    "The significance level ($\\alpha$) is the probability of rejecting the null hypothesis when it is actually true. The general significance level of 0.05 or 5% risk is used for this hypothesis testing."
   ]
  },
  {
   "cell_type": "markdown",
   "metadata": {},
   "source": [
    "## 3. Calculate t-statistic "
   ]
  },
  {
   "cell_type": "markdown",
   "metadata": {},
   "source": [
    "Two independent samples t-test is used to compare the means of ABV between American-Style and Belgian-Style PA.\n",
    "\n",
    "The formula used to calculate the two-sample t-statistic and variance are: \n",
    "\n",
    "$$\\large t = \\frac{\\bar{x}_{1} - \\bar{x}_{2}}{\\sqrt{s^{2}_{p} (\\frac{1}{n_{1}} + \\frac{1}{n_{2}}) }    }  $$\n",
    "\n",
    "Where $s^{2}_{p}$ is the pooled sample variance, calculated as:\n",
    "\n",
    "$$\\large s^{2}_{p}  = \\frac{(n_{1} -1)s^{2}_{1} +  (n_{2} -1)s^{2}_{2}}{n_{1} + n_{2} - 2}  $$\n",
    "\n",
    "Where $s^{2}_{1}$ and $s^{2}_{2}$ are the variances for each sample given by the formula \n",
    "$$ \\large s^{2} = \\frac{\\sum_{i=1}^{n}(x_{i} - \\bar{x})^{2}}{n-1} $$"
   ]
  },
  {
   "cell_type": "code",
   "execution_count": null,
   "metadata": {},
   "outputs": [],
   "source": [
    "import test_moduls as test"
   ]
  },
  {
   "cell_type": "markdown",
   "metadata": {},
   "source": [
    "## 4. Interpret the result"
   ]
  },
  {
   "cell_type": "code",
   "execution_count": 32,
   "metadata": {},
   "outputs": [
    {
     "name": "stdout",
     "output_type": "stream",
     "text": [
      "Null hypothesis is True with t-statistic =  -180.0049 critical t-value =  1.96 and p-value =  1.0\n",
      "The groups contains 10168 and  50840 observations,\n",
      "     having a mean of 4.6 and 5.98 respectivelly\n"
     ]
    },
    {
     "data": {
      "text/plain": [
       "-180.0049475000563"
      ]
     },
     "execution_count": 32,
     "metadata": {},
     "output_type": "execute_result"
    }
   ],
   "source": [
    "Belgian_PA_abv\n",
    "test.pooled_variance(Belgian_PA_abv, American_PA_abv)\n",
    "test.twosample_tstatistic(Belgian_PA_abv, American_PA_abv)"
   ]
  },
  {
   "cell_type": "code",
   "execution_count": 19,
   "metadata": {},
   "outputs": [
    {
     "name": "stdout",
     "output_type": "stream",
     "text": [
      "Null hypohesis rejected. Results are statistically significant\n",
      "         with t-statistic =  180.0049 critical t-value =  1.96 and p-value =  0.0\n",
      "The groups contains 50840 and  10168 observations,\n",
      "     having a mean of 5.98 and 4.6 respectivelly\n"
     ]
    },
    {
     "data": {
      "text/plain": [
       "180.0049475000563"
      ]
     },
     "execution_count": 19,
     "metadata": {},
     "output_type": "execute_result"
    }
   ],
   "source": [
    "test.twosample_tstatistic(American_PA_abv, Belgian_PA_abv)\n",
    "# test_moduls.p_value_welch_ttest(ipa_sample, pilsener_sample, two_sided=True)"
   ]
  },
  {
   "cell_type": "markdown",
   "metadata": {},
   "source": [
    "### ---------------------------- end -----------------------------"
   ]
  },
  {
   "cell_type": "markdown",
   "metadata": {},
   "source": [
    "## Using Welch's t-test"
   ]
  },
  {
   "cell_type": "code",
   "execution_count": null,
   "metadata": {},
   "outputs": [],
   "source": []
  },
  {
   "cell_type": "code",
   "execution_count": null,
   "metadata": {},
   "outputs": [],
   "source": []
  },
  {
   "cell_type": "markdown",
   "metadata": {},
   "source": [
    "### One sample t-test"
   ]
  },
  {
   "cell_type": "code",
   "execution_count": null,
   "metadata": {},
   "outputs": [],
   "source": [
    "ttest(American_PA_abv_sample, 5.88, 0.05)"
   ]
  },
  {
   "cell_type": "code",
   "execution_count": null,
   "metadata": {},
   "outputs": [],
   "source": [
    "visualize_t(t_stat, len(ipa_sample), len(pilsener_sample))"
   ]
  },
  {
   "cell_type": "code",
   "execution_count": null,
   "metadata": {},
   "outputs": [],
   "source": []
  },
  {
   "cell_type": "code",
   "execution_count": null,
   "metadata": {},
   "outputs": [],
   "source": [
    "np.unique(ipa_ibu)"
   ]
  },
  {
   "cell_type": "markdown",
   "metadata": {},
   "source": [
    "### ABV of American Style Pilsner\n",
    "American Pilsners, particularly Imperial Pilsners, typically have an alcohol content between 6.5% and 9% alcohol by volume. \n"
   ]
  },
  {
   "cell_type": "code",
   "execution_count": null,
   "metadata": {},
   "outputs": [],
   "source": []
  },
  {
   "cell_type": "code",
   "execution_count": null,
   "metadata": {},
   "outputs": [],
   "source": [
    "samp_pilsener = np.array(random.choices(pilsener, k=50))\n",
    "sns.set(color_codes=True)\n",
    "sns.set(rc={'figure.figsize':(10,5)})\n",
    "sns.distplot(pilsener_stand, hist=False)"
   ]
  },
  {
   "cell_type": "code",
   "execution_count": null,
   "metadata": {},
   "outputs": [],
   "source": [
    "import test_moduls as test\n",
    "sampling_from_five_ibu = np.array(random.choices(array1, k=50))"
   ]
  },
  {
   "cell_type": "code",
   "execution_count": null,
   "metadata": {},
   "outputs": [],
   "source": [
    "mu = 7.75\n",
    "pilsener_stand = np.array([(p - pilsener.mean())/pilsener.std() for p in pilsener])\n",
    "# test.ttest(pilsener, mu, 0.05)\n",
    "\n"
   ]
  },
  {
   "cell_type": "code",
   "execution_count": null,
   "metadata": {},
   "outputs": [],
   "source": [
    "beers.style_name.value_counts()"
   ]
  },
  {
   "cell_type": "code",
   "execution_count": null,
   "metadata": {},
   "outputs": [],
   "source": [
    "pilsener = beers[beers['style_name'] == 'American-Style Pilsener'][['abv', 'ibu', 'gravity']] # \n",
    "pilsener.gravity.value_counts()"
   ]
  },
  {
   "cell_type": "code",
   "execution_count": null,
   "metadata": {},
   "outputs": [],
   "source": []
  },
  {
   "cell_type": "code",
   "execution_count": null,
   "metadata": {},
   "outputs": [],
   "source": [
    "import random\n",
    "random.seed(2019)\n",
    "# sampling with replacement \n",
    "pilsener_sampling = np.array(random.choices(pilsener, k=3000))\n",
    "print('sampling with choices():', len(pilsener_sampling))\n",
    "\n",
    "ipa_sampling = np.array(random.choices(ipa, k=3000))\n",
    "print('sampling with choices():', len(ipa_sampling))\n",
    "\n",
    "print(f'This is for the {} samples'.format(len(ipa_sampling)))\n",
    "print('---------------------------')\n",
    "print('American-Style Pilsener mean:',round(pilsener_sampling.mean(),3))\n",
    "print('American-Style Pilsener standard divation:', round(pilsener_sampling.std(),3))\n",
    "print('American-Style Pilsener size', len(pilsener_sampling))\n",
    "print('American-Style India Pale Ale mean', round(ipa_sampling.mean(),3))\n",
    "print('American-Style India Pale Ale standard divation:', round(ipa_sampling.std(),3))\n",
    "print('American-Style India Pale Ale size', len(ipa_sampling))\n",
    "\n",
    "\n",
    "# Draw a plot showing overlapping of distribution means and sds for incpection\n",
    "sns.set(color_codes=True)\n",
    "sns.set(rc={'figure.figsize':(10,5)})\n",
    "sns.distplot(pilsener_sampling, hist=False)\n",
    "sns.distplot(ipa_sampling, hist=False)"
   ]
  },
  {
   "cell_type": "markdown",
   "metadata": {},
   "source": [
    "### Welch test"
   ]
  },
  {
   "cell_type": "code",
   "execution_count": null,
   "metadata": {},
   "outputs": [],
   "source": [
    "import test_moduls\n",
    "test_moduls.p_value_welch_ttest(pilsener_sampling, ipa_sampling, two_sided=True)\n"
   ]
  },
  {
   "cell_type": "markdown",
   "metadata": {},
   "source": [
    "### Standerdizing the data here"
   ]
  },
  {
   "cell_type": "code",
   "execution_count": null,
   "metadata": {},
   "outputs": [],
   "source": [
    "print(ipa_sampling)"
   ]
  },
  {
   "cell_type": "code",
   "execution_count": null,
   "metadata": {},
   "outputs": [],
   "source": [
    "beers.style_name.value_counts()"
   ]
  },
  {
   "cell_type": "code",
   "execution_count": null,
   "metadata": {},
   "outputs": [],
   "source": []
  },
  {
   "cell_type": "code",
   "execution_count": null,
   "metadata": {},
   "outputs": [],
   "source": [
    "new_beer = beers[['ibu', 'abv']]\n",
    "nb = new_beer[new_beer.notnull().all(axis=1)]\n",
    "# nb.info()\n",
    "print(nb.ibu.value_counts())"
   ]
  },
  {
   "cell_type": "code",
   "execution_count": null,
   "metadata": {},
   "outputs": [],
   "source": [
    "print(nb.abv.value_counts())"
   ]
  },
  {
   "cell_type": "code",
   "execution_count": null,
   "metadata": {},
   "outputs": [],
   "source": [
    "nb_five = nb[nb['abv']==5.0]\n",
    "nb_ten = nb[nb['abv']==4.5]\n",
    "print('ABV counnts are', nb_five.abv.value_counts())\n",
    "print('ABV counnts are', nb_ten.abv.value_counts())\n",
    "# nb_ten"
   ]
  },
  {
   "cell_type": "code",
   "execution_count": null,
   "metadata": {},
   "outputs": [],
   "source": [
    "nb_ten"
   ]
  },
  {
   "cell_type": "markdown",
   "metadata": {},
   "source": [
    "## Two-independent sample t-test"
   ]
  },
  {
   "cell_type": "code",
   "execution_count": null,
   "metadata": {},
   "outputs": [],
   "source": [
    "# get a sample of 50 from the two independent groups\n",
    "array_5_ibu, array_10_ibu = np.array(nb_five.ibu), np.array(nb_ten.ibu)\n",
    "# sampling with replacemtnt\n",
    "import random\n",
    "sampling_from_five_ibu = np.array(random.choices(array1, k=50))\n",
    "sampling_from_ten_ibu = np.array(random.choices(array2, k=50))\n",
    "# mean_ibu_for_five_abv = nb_five.ibu.mean()\n",
    "# print(mean_ibu_for_five_abv \n",
    "print('sampling fifty items from a 20336 items of five ibu list', len(sampling_from_five_ibu))\n",
    "print('sampling fifty items from a 10186 items of five ibu list', len(sampling_from_ten_ibu))"
   ]
  },
  {
   "cell_type": "code",
   "execution_count": null,
   "metadata": {},
   "outputs": [],
   "source": [
    "print('Five ibu mean',sampling_from_five_ibu.mean())\n",
    "print('Five ibu standard divation', sampling_from_five_ibu.std())\n",
    "print('Five ibu size', len(sampling_from_five_ibu))\n",
    "print('Ten ibu mean', sampling_from_ten_ibu.mean())\n",
    "print('Ten ibu standard divation', sampling_from_ten_ibu.std())\n",
    "print('Ten ibu size', len(sampling_from_ten_ibu))\n",
    "# control.mean()"
   ]
  },
  {
   "cell_type": "code",
   "execution_count": null,
   "metadata": {},
   "outputs": [],
   "source": [
    "array2"
   ]
  },
  {
   "cell_type": "code",
   "execution_count": null,
   "metadata": {},
   "outputs": [],
   "source": [
    "import cleaning_data as cd"
   ]
  },
  {
   "cell_type": "code",
   "execution_count": null,
   "metadata": {},
   "outputs": [],
   "source": [
    "# cleaning dataset and pulling only the three columns\n",
    "beer_vital_stats = cd.beer_vital_stats(beers)\n",
    "beer_vital_stats.head()"
   ]
  },
  {
   "cell_type": "code",
   "execution_count": null,
   "metadata": {},
   "outputs": [],
   "source": [
    "beer_vital_stats.info()"
   ]
  },
  {
   "cell_type": "code",
   "execution_count": null,
   "metadata": {},
   "outputs": [],
   "source": [
    "# Check the box plot to see the data is uniform\n",
    "import visualization as vis\n",
    "vis.boxplot(beer_vital_stats)"
   ]
  },
  {
   "cell_type": "markdown",
   "metadata": {},
   "source": [
    "Check the variability or dispersion of the data using boxplot"
   ]
  },
  {
   "cell_type": "code",
   "execution_count": null,
   "metadata": {},
   "outputs": [],
   "source": [
    "print(beer_vital_stats.min()) \n",
    "print(beer_vital_stats.max())"
   ]
  },
  {
   "cell_type": "code",
   "execution_count": null,
   "metadata": {},
   "outputs": [],
   "source": [
    "beer_vital_stats.ibu.value_counts()"
   ]
  },
  {
   "cell_type": "markdown",
   "metadata": {},
   "source": [
    "## IBU Hypothesis"
   ]
  },
  {
   "cell_type": "code",
   "execution_count": null,
   "metadata": {},
   "outputs": [],
   "source": [
    "beers.head(3)"
   ]
  },
  {
   "cell_type": "code",
   "execution_count": null,
   "metadata": {},
   "outputs": [],
   "source": [
    "pilsener_ibu = beers[beers['style_name'] == 'American-Style Pilsener']['ibu'] # 40672\n",
    "pilsener_ibu = np.array(pilsener_ibu[pilsener_ibu.notnull()])\n",
    "# ipa == India Pale Ale\n",
    "ipa_ibu = beers[beers['style_name'] == 'American-Style India Pale Ale']['ibu'] # 40672\n",
    "ipa_ibu = np.array(ipa_ibu[ipa_ibu.notnull()])\n",
    "\n",
    "# IBU comparision\n",
    "print('Working data information')\n",
    "print('--------------------------')\n",
    "print('American-Style Pilsener mean:',round(pilsener_ibu.mean(),3))\n",
    "print('American-Style Pilsener standard divation:', round(pilsener_ibu.std(),3))\n",
    "print('American-Style Pilsener size', len(pilsener_ibu))\n",
    "print('American-Style India Pale Ale mean', round(ipa_ibu.mean(),3))\n",
    "print('American-Style India Pale Ale standard divation:', round(ipa_ibu.std(),3))\n",
    "print('American-Style India Pale Ale size', len(ipa_ibu))"
   ]
  },
  {
   "cell_type": "code",
   "execution_count": null,
   "metadata": {},
   "outputs": [],
   "source": [
    "# Draw a plot showing overlapping of distribution means and sds for incpection\n",
    "sns.set(color_codes=True)\n",
    "sns.set(rc={'figure.figsize':(10,5)})\n",
    "sns.distplot(pilsener_ibu, hist=False)\n",
    "sns.distplot(ipa_ibu, hist=False)"
   ]
  },
  {
   "cell_type": "code",
   "execution_count": null,
   "metadata": {},
   "outputs": [],
   "source": [
    "# pil_ibu = beers[beers['style_name'] == 'American-Style Pilsener']['ibu']\n",
    "beers.ibu.value_counts()"
   ]
  },
  {
   "cell_type": "code",
   "execution_count": null,
   "metadata": {},
   "outputs": [],
   "source": [
    "beers.gravity.value_counts()"
   ]
  },
  {
   "cell_type": "code",
   "execution_count": null,
   "metadata": {},
   "outputs": [],
   "source": [
    "og_ibu = beers[beers['gravity'] == 1.051]['ibu']\n",
    "og_ibu.unique()"
   ]
  },
  {
   "cell_type": "code",
   "execution_count": null,
   "metadata": {},
   "outputs": [],
   "source": [
    "abv = beers[beers['abv']==4.5][['ibu','gravity']]\n",
    "abv.info()"
   ]
  },
  {
   "cell_type": "markdown",
   "metadata": {},
   "source": [
    "## Dataset from kaggle"
   ]
  },
  {
   "cell_type": "code",
   "execution_count": 45,
   "metadata": {},
   "outputs": [
    {
     "name": "stdout",
     "output_type": "stream",
     "text": [
      "The autoreload extension is already loaded. To reload it, use:\n",
      "  %reload_ext autoreload\n"
     ]
    }
   ],
   "source": [
    "# Data analysis packages:\n",
    "import pandas as pd\n",
    "import numpy as np\n",
    "\n",
    "# Visualization packages:\n",
    "import seaborn as sns\n",
    "sns.set_style('darkgrid')\n",
    "import matplotlib.pyplot as plt\n",
    "%matplotlib inline\n",
    "\n",
    "# statistical analysis\n",
    "import scipy.stats as stats\n",
    "\n",
    "%load_ext autoreload\n",
    "%autoreload 2"
   ]
  },
  {
   "cell_type": "code",
   "execution_count": 46,
   "metadata": {},
   "outputs": [
    {
     "data": {
      "text/html": [
       "<div>\n",
       "<style scoped>\n",
       "    .dataframe tbody tr th:only-of-type {\n",
       "        vertical-align: middle;\n",
       "    }\n",
       "\n",
       "    .dataframe tbody tr th {\n",
       "        vertical-align: top;\n",
       "    }\n",
       "\n",
       "    .dataframe thead th {\n",
       "        text-align: right;\n",
       "    }\n",
       "</style>\n",
       "<table border=\"1\" class=\"dataframe\">\n",
       "  <thead>\n",
       "    <tr style=\"text-align: right;\">\n",
       "      <th></th>\n",
       "      <th>Unnamed: 0</th>\n",
       "      <th>beer_id</th>\n",
       "      <th>abv</th>\n",
       "      <th>ibu</th>\n",
       "      <th>id</th>\n",
       "      <th>beer_name</th>\n",
       "      <th>style</th>\n",
       "      <th>brewery_id</th>\n",
       "      <th>ounces</th>\n",
       "      <th>brewery_name</th>\n",
       "      <th>city</th>\n",
       "      <th>state</th>\n",
       "    </tr>\n",
       "  </thead>\n",
       "  <tbody>\n",
       "    <tr>\n",
       "      <th>0</th>\n",
       "      <td>0</td>\n",
       "      <td>0</td>\n",
       "      <td>0.050</td>\n",
       "      <td>NaN</td>\n",
       "      <td>1436</td>\n",
       "      <td>Pub Beer</td>\n",
       "      <td>American Pale Lager</td>\n",
       "      <td>408</td>\n",
       "      <td>12.0</td>\n",
       "      <td>10 Barrel Brewing Company</td>\n",
       "      <td>Bend</td>\n",
       "      <td>OR</td>\n",
       "    </tr>\n",
       "    <tr>\n",
       "      <th>1</th>\n",
       "      <td>1</td>\n",
       "      <td>1</td>\n",
       "      <td>0.066</td>\n",
       "      <td>NaN</td>\n",
       "      <td>2265</td>\n",
       "      <td>Devil's Cup</td>\n",
       "      <td>American Pale Ale (APA)</td>\n",
       "      <td>177</td>\n",
       "      <td>12.0</td>\n",
       "      <td>18th Street Brewery</td>\n",
       "      <td>Gary</td>\n",
       "      <td>IN</td>\n",
       "    </tr>\n",
       "    <tr>\n",
       "      <th>2</th>\n",
       "      <td>2</td>\n",
       "      <td>2</td>\n",
       "      <td>0.071</td>\n",
       "      <td>NaN</td>\n",
       "      <td>2264</td>\n",
       "      <td>Rise of the Phoenix</td>\n",
       "      <td>American IPA</td>\n",
       "      <td>177</td>\n",
       "      <td>12.0</td>\n",
       "      <td>18th Street Brewery</td>\n",
       "      <td>Gary</td>\n",
       "      <td>IN</td>\n",
       "    </tr>\n",
       "    <tr>\n",
       "      <th>3</th>\n",
       "      <td>3</td>\n",
       "      <td>3</td>\n",
       "      <td>0.090</td>\n",
       "      <td>NaN</td>\n",
       "      <td>2263</td>\n",
       "      <td>Sinister</td>\n",
       "      <td>American Double / Imperial IPA</td>\n",
       "      <td>177</td>\n",
       "      <td>12.0</td>\n",
       "      <td>18th Street Brewery</td>\n",
       "      <td>Gary</td>\n",
       "      <td>IN</td>\n",
       "    </tr>\n",
       "    <tr>\n",
       "      <th>4</th>\n",
       "      <td>4</td>\n",
       "      <td>4</td>\n",
       "      <td>0.075</td>\n",
       "      <td>NaN</td>\n",
       "      <td>2262</td>\n",
       "      <td>Sex and Candy</td>\n",
       "      <td>American IPA</td>\n",
       "      <td>177</td>\n",
       "      <td>12.0</td>\n",
       "      <td>18th Street Brewery</td>\n",
       "      <td>Gary</td>\n",
       "      <td>IN</td>\n",
       "    </tr>\n",
       "  </tbody>\n",
       "</table>\n",
       "</div>"
      ],
      "text/plain": [
       "   Unnamed: 0  beer_id    abv  ibu    id            beer_name  \\\n",
       "0           0        0  0.050  NaN  1436             Pub Beer   \n",
       "1           1        1  0.066  NaN  2265          Devil's Cup   \n",
       "2           2        2  0.071  NaN  2264  Rise of the Phoenix   \n",
       "3           3        3  0.090  NaN  2263             Sinister   \n",
       "4           4        4  0.075  NaN  2262        Sex and Candy   \n",
       "\n",
       "                            style  brewery_id  ounces  \\\n",
       "0             American Pale Lager         408    12.0   \n",
       "1         American Pale Ale (APA)         177    12.0   \n",
       "2                    American IPA         177    12.0   \n",
       "3  American Double / Imperial IPA         177    12.0   \n",
       "4                    American IPA         177    12.0   \n",
       "\n",
       "                brewery_name  city state  \n",
       "0  10 Barrel Brewing Company  Bend    OR  \n",
       "1        18th Street Brewery  Gary    IN  \n",
       "2        18th Street Brewery  Gary    IN  \n",
       "3        18th Street Brewery  Gary    IN  \n",
       "4        18th Street Brewery  Gary    IN  "
      ]
     },
     "execution_count": 46,
     "metadata": {},
     "output_type": "execute_result"
    }
   ],
   "source": [
    "brewery = pd.read_csv('data/beer_and_brewery.csv')\n",
    "brewery.head()"
   ]
  },
  {
   "cell_type": "code",
   "execution_count": 35,
   "metadata": {},
   "outputs": [
    {
     "name": "stdout",
     "output_type": "stream",
     "text": [
      "Sample Alcohol by Volume (ABV) mean in Colorado 0.063\n",
      "Sample Alcohol by Volume (ABV) variance in Colorado 0.00021\n",
      "---------------------------------\n",
      "Sample Alcohol by Volume (ABV) mean in California 0.061\n",
      "Sample Alcohol by Volume (ABV) variance in Colorado 0.00023\n"
     ]
    }
   ],
   "source": [
    "# Hypotesis question would be.... how is the differecne in ABV between colerado and ca\n",
    "CO_brewery = brewery[brewery.state == 'CO']['abv']\n",
    "CA_brewery = brewery[brewery.state == 'CA']['abv']\n",
    "CO_brewery = CO_brewery[~np.isnan(CO_brewery)]\n",
    "CA_brewery = CA_brewery[~np.isnan(CA_brewery)]\n",
    "print('Sample Alcohol by Volume (ABV) mean in Colorado', round(CO_brewery.mean(), 3))\n",
    "print('Sample Alcohol by Volume (ABV) variance in Colorado', round(CO_brewery.var(), 5))\n",
    "print(\"---------------------------------\")\n",
    "print('Sample Alcohol by Volume (ABV) mean in California', round(CA_brewery.mean(), 3))\n",
    "print('Sample Alcohol by Volume (ABV) variance in Colorado', round(CA_brewery.var(), 5))"
   ]
  },
  {
   "cell_type": "markdown",
   "metadata": {},
   "source": [
    "According to [thedenverchannel](https://www.thedenverchannel.com/money/consumer/colorado-grocers-can-offer-full-strength-beer-on-jan-1), prior to 2019, the beer sold at Colorado grocery and convenience stores is limited to 3.2 percent alcohol by weight, or 4 percent alcohol by volume. To find beer with higher alcohol content — typically known as full-strength beer — you must shop at liquor stores.\n",
    "\n",
    "other laws [bystate](https://www.legalbeer.com/liquor-laws-by-state)"
   ]
  },
  {
   "cell_type": "code",
   "execution_count": 36,
   "metadata": {},
   "outputs": [],
   "source": [
    "# # samp_pilsener = np.array(random.choices(pilsener, k=50))\n",
    "# sns.set(color_codes=True)\n",
    "# sns.set(rc={'figure.figsize':(10,5)})\n",
    "# sns.distplot(CA_brewery, hist=False)\n",
    "# sns.distplot(CO_brewery, hist=False)"
   ]
  },
  {
   "cell_type": "markdown",
   "metadata": {},
   "source": [
    "# Two Sample T-Test\n",
    "When we know the variance is equal in the sample from the group\n",
    "## Calculating the t-statistic\n",
    "we can calculate the two-sample t-statistic like so:\n",
    "\n",
    "$$\\large t = \\frac{\\bar{x}_{1} - \\bar{x}_{2}}{\\sqrt{s^{2}_{p} (\\frac{1}{n_{1}} + \\frac{1}{n_{2}}) }    }  $$\n",
    "\n",
    "Where $s^{2}_{p}$ is the pooled sample variance, calculated as:\n",
    "\n",
    "$$\\large s^{2}_{p}  = \\frac{(n_{1} -1)s^{2}_{1} +  (n_{2} -1)s^{2}_{2}}{n_{1} + n_{2} - 2}  $$\n",
    "\n",
    "Where $s^{2}_{1}$ and $s^{2}_{2}$ are the variances for each sample given by the formula \n",
    "$$ \\large s^{2} = \\frac{\\sum_{i=1}^{n}(x_{i} - \\bar{x})^{2}}{n-1} $$"
   ]
  },
  {
   "cell_type": "code",
   "execution_count": 51,
   "metadata": {},
   "outputs": [
    {
     "name": "stdout",
     "output_type": "stream",
     "text": [
      "Null hypothesis is True with t-statistic =  1.5843 , critical t-value =  1.9655 and p-value =  0.0569\n",
      "The groups contains 250 and  182 observations. Means are:  0.0634 and 0.0611 respectivelly\n"
     ]
    }
   ],
   "source": [
    "import test_moduls  as test\n",
    "t_stat = test.twosample_tstatistic(CO_brewery, CA_brewery)"
   ]
  },
  {
   "cell_type": "code",
   "execution_count": 52,
   "metadata": {},
   "outputs": [
    {
     "data": {
      "image/png": "[encoded data removed]",
      "text/plain": [
       "<Figure size 720x360 with 1 Axes>"
      ]
     },
     "metadata": {},
     "output_type": "display_data"
    }
   ],
   "source": [
    "import visualization\n",
    "import numpy as np\n",
    "visualization.visualize_t(t_stat, len(CO_brewery), len(CA_brewery))"
   ]
  },
  {
   "cell_type": "code",
   "execution_count": 53,
   "metadata": {},
   "outputs": [
    {
     "name": "stdout",
     "output_type": "stream",
     "text": [
      "Sample Alcohol by Volume (ABV) mean in Colorado 0.062\n",
      "Sample Alcohol by Volume (ABV) standard divation in Colorado 0.00015\n",
      "---------------------------------\n",
      "Sample Alcohol by Volume (ABV) mean in California 0.058\n",
      "Sample Alcohol by Volume (ABV) standard divation in Colorado 0.00023\n"
     ]
    }
   ],
   "source": [
    "# taking only 50 sample \n",
    "np.random.seed(20000)\n",
    "CO_sample = np.random.choice(CO_brewery, size=50)\n",
    "CA_sample = np.random.choice(CA_brewery, size=50)\n",
    "print('Sample Alcohol by Volume (ABV) mean in Colorado', round(CO_sample.mean(), 3))\n",
    "print('Sample Alcohol by Volume (ABV) standard divation in Colorado', round(CO_sample.var(), 5))\n",
    "print(\"---------------------------------\")\n",
    "print('Sample Alcohol by Volume (ABV) mean in California', round(CA_sample.mean(), 3))\n",
    "print('Sample Alcohol by Volume (ABV) standard divation in Colorado', round(CA_sample.var(), 5))"
   ]
  },
  {
   "cell_type": "code",
   "execution_count": 54,
   "metadata": {},
   "outputs": [
    {
     "name": "stdout",
     "output_type": "stream",
     "text": [
      "Null hypothesis is True with t-statistic =  1.2324 , critical t-value =  1.9845 and p-value =  0.1104\n",
      "The groups contains 50 and  50 observations. Means are:  0.0619 and 0.0585 respectivelly\n"
     ]
    },
    {
     "data": {
      "image/png": "[encoded data removed]",
      "text/plain": [
       "<Figure size 720x360 with 1 Axes>"
      ]
     },
     "metadata": {},
     "output_type": "display_data"
    }
   ],
   "source": [
    "# calculate t-statistic \n",
    "t_stat_sample = test.twosample_tstatistic(CO_sample, CA_sample)\n",
    "\n",
    "# visualize the output\n",
    "visualization.visualize_t(t_stat_sample, len(CO_sample), len(CA_sample))\n"
   ]
  },
  {
   "cell_type": "markdown",
   "metadata": {},
   "source": [
    "# Welchs test\n",
    "Welch's t-test is most common hypothesis test used in a two-sample test to infer the two populations have equal means. Welch test more reliable when the two samlples have unequal variances and/or unequal sample sizes.\n",
    "\n",
    "Let us check our data first."
   ]
  },
  {
   "cell_type": "code",
   "execution_count": 55,
   "metadata": {},
   "outputs": [
    {
     "name": "stdout",
     "output_type": "stream",
     "text": [
      "Sample Alcohol by Volume (ABV) mean in Colorado: 47.432\n",
      "Sample Alcohol by Volume (ABV) variance in Colorado:  679.21252\n",
      "Sample size is:  146\n",
      "---------------------------------\n",
      "Sample Alcohol by Volume (ABV) mean in California:  46.281\n",
      "Sample Alcohol by Volume (ABV) variance in Colorado:  752.80077\n",
      "Sample size is 135\n"
     ]
    }
   ],
   "source": [
    "CO_ibu = brewery[brewery.state == 'CO']['ibu']\n",
    "CA_ibu = brewery[brewery.state == 'CA']['ibu']\n",
    "CO_ibu = CO_ibu[~np.isnan(CO_ibu)]\n",
    "CA_ibu = CA_ibu[~np.isnan(CA_ibu)]\n",
    "print('Sample Alcohol by Volume (ABV) mean in Colorado:', round(CO_ibu.mean(), 3))\n",
    "print('Sample Alcohol by Volume (ABV) variance in Colorado: ', round(CO_ibu.var(), 5))\n",
    "print('Sample size is: ', CO_ibu.size)\n",
    "print(\"---------------------------------\")\n",
    "print('Sample Alcohol by Volume (ABV) mean in California: ', round(CA_ibu.mean(), 3))\n",
    "print('Sample Alcohol by Volume (ABV) variance in Colorado: ', round(CA_ibu.var(), 5))\n",
    "print('Sample size is', CA_ibu.size)"
   ]
  },
  {
   "cell_type": "markdown",
   "metadata": {},
   "source": [
    "There is clear unequality in variance and sample sizes between our two population groups, so Welchs test is a better candidate than two-sample t-test"
   ]
  },
  {
   "cell_type": "markdown",
   "metadata": {},
   "source": [
    "Welch test degrees of freedom and t-statistic is calcualted using the following formaula. \n",
    "$$\\text{df}  = \\frac{\\big(\\frac{s_{1}^{2}}{n_{1}} + \\frac{s_{2}^{2}}{n_{2}}\\big)^{2}}{\\frac{1}{n_{1}-1}\\big(\\frac{s_{1}^{2}}{n_{1}}\\big)^{2} + \\frac{1}{n_{2}-1}\\big(\\frac{s_{2}^{2}}{n_{2}}\\big)^{2}}$$\n",
    "Then T-statistics also known as Welch's t-test is given by: \n",
    "\n",
    "$$   t = \\frac{(\\bar{x}_{1} - \\bar{x}_{2}) - D_{0}}{\\sqrt{\\frac{s_{1}^{2}}{n_{1}} + \\frac{s_{2}^{2}}{n_{2}}}} = \\frac{\\bar{X_1}-\\bar{X_2}}{\\sqrt{se_1^2+se_2^2}}$$"
   ]
  },
  {
   "cell_type": "code",
   "execution_count": 59,
   "metadata": {},
   "outputs": [
    {
     "name": "stdout",
     "output_type": "stream",
     "text": [
      "Welch's t-statistic is:  0.3596\n",
      "Welch's degrees of fredoom (df): 274.37\n",
      "We fail to reject the Null hypothesis with t-value =  0.3596 , critical t-value =  1.6504 , and p-value =  0.3597\n"
     ]
    }
   ],
   "source": [
    "# import test_moduls that contain function helpful to make weltch test\n",
    "import test_moduls as test\n",
    "welch_t = test.welch_t(CO_ibu, CA_ibu)\n",
    "print(\"Welch's t-statistic is: \", round(welch_t,4))\n",
    "welch_df = test.welch_df(CO_ibu, CA_ibu)\n",
    "print(\"Welch's degrees of fredoom (df):\", round(welch_df,2))\n",
    "\n",
    "# converting this to p_value \n",
    "p_welch = test.p_value_welch_ttest(CO_ibu, CA_ibu)"
   ]
  },
  {
   "cell_type": "markdown",
   "metadata": {},
   "source": [
    "## ANOVA test on IBU between Washington State, Minnesota, and DMV Area "
   ]
  },
  {
   "cell_type": "markdown",
   "metadata": {},
   "source": [
    "### Step 1: State the Null Hypothesis\n",
    "\n",
    "The null would be that there will be no difference among the groups mean. Specifically in more statistical language the null for an ANOVA is that the means are the same. We state the Null hypothesis as:\n",
    "\n",
    "$H_{0}$: $\\mu_{1} = \\mu_{2} = \\mu_{3} = \\mu_{4}$\n"
   ]
  },
  {
   "cell_type": "markdown",
   "metadata": {},
   "source": [
    "### Step 2: State the Alternative Hypothesis\n",
    "\n",
    "$H_{a}$: not all means are equal"
   ]
  },
  {
   "cell_type": "markdown",
   "metadata": {},
   "source": [
    "### Step 3: Set alpha ($\\alpha$)\n",
    "\n",
    "The typical alpha ($\\alpha$) value  of 0.05 is used for this analysis. \n"
   ]
  },
  {
   "cell_type": "markdown",
   "metadata": {},
   "source": [
    "### Step 4: Collect Data"
   ]
  },
  {
   "cell_type": "code",
   "execution_count": 107,
   "metadata": {},
   "outputs": [
    {
     "name": "stdout",
     "output_type": "stream",
     "text": [
      "Sample International Bitterness Units (IBU) mean in Washington State: 38.0\n",
      "Sample International Bitterness Units (IBU) variance in Washington State:  592.35294\n",
      "Sample size is:  51\n",
      "---------------------------------\n",
      "Sample International Bitterness Units (IBU) mean in Minnisota:  49.957\n",
      "Sample International Bitterness Units (IBU) variance in Minnisota:  661.38941\n",
      "Sample size is 46\n",
      "---------------------------------\n",
      "Sample International Bitterness Units (IBU) mean in DMV:  44.429\n",
      "Sample International Bitterness Units (IBU) variance in DMV:  787.95918\n",
      "Sample size is 49\n"
     ]
    }
   ],
   "source": [
    "WA_ibu = np.array(brewery[brewery.state == 'MA']['ibu'])\n",
    "MN_ibu = np.array(brewery[brewery.state == 'MN']['ibu'])\n",
    "DMV_ibu = np.array(brewery[brewery.state.isin(['DC', 'MD', 'VA'])]['ibu'])\n",
    "\n",
    "# removing nan valus incase there are any \n",
    "WA_ibu = WA_ibu[~np.isnan(WA_ibu)]\n",
    "MN_ibu = MN_ibu[~np.isnan(MN_ibu)]\n",
    "DMV_ibu = DMV_ibu[~np.isnan(DMV_ibu)]\n",
    "\n",
    "# print some information about our data \n",
    "print('Sample International Bitterness Units (IBU) mean in Washington State:', round(WA_ibu.mean(), 3))\n",
    "print('Sample International Bitterness Units (IBU) variance in Washington State: ', round(WA_ibu.var(), 5))\n",
    "print('Sample size is: ', WA_ibu.size)\n",
    "print(\"---------------------------------\")\n",
    "print('Sample International Bitterness Units (IBU) mean in Minnisota: ', round(MN_ibu.mean(), 3))\n",
    "print('Sample International Bitterness Units (IBU) variance in Minnisota: ', round(MN_ibu.var(), 5))\n",
    "print('Sample size is', MN_ibu.size)\n",
    "print(\"---------------------------------\")\n",
    "print('Sample International Bitterness Units (IBU) mean in DMV: ', round(DMV_ibu.mean(), 3))\n",
    "print('Sample International Bitterness Units (IBU) variance in DMV: ', round(DMV_ibu.var(), 5))\n",
    "print('Sample size is', DMV_ibu.size)"
   ]
  },
  {
   "cell_type": "markdown",
   "metadata": {},
   "source": [
    "It is clear that the mean, variance and sample size are different for all the three samples from the three groups. So, we chose to do one way ANOVA."
   ]
  },
  {
   "cell_type": "markdown",
   "metadata": {},
   "source": [
    "### Step 5: Calculate a test statistic"
   ]
  },
  {
   "cell_type": "code",
   "execution_count": 145,
   "metadata": {},
   "outputs": [],
   "source": [
    "## Note that all_data is a (20,4) numpy_ndarray\n",
    "# ss_total = ((all_data - overall_mean)**2).sum()\n",
    "\n",
    "## Function that calculates between group error\n",
    "def ss_between_groups(sample_list):\n",
    "    # Calculate the total variability in the response variable\n",
    "#     X_bar = np.stack(sample_list, axis=1).mean()\n",
    "    X_bar = np.concatenate((sample_list)).mean()\n",
    "    terms = [len(sample)*(sample.mean() - X_bar)**2 for sample in sample_list]\n",
    "    return np.sum(terms)\n",
    "# print(ss_between_groups([x1, x2, x3, x4]))\n",
    "def ss_within_groups(sample_list):\n",
    "    terms = [(sample - sample.mean())**2 for sample in sample_list]\n",
    "    return np.sum(terms)"
   ]
  },
  {
   "cell_type": "code",
   "execution_count": 174,
   "metadata": {},
   "outputs": [
    {
     "name": "stdout",
     "output_type": "stream",
     "text": [
      "2.5044605046266124\n",
      "0.08529868911260605\n"
     ]
    }
   ],
   "source": [
    "## Or we can apply directly scipy.stats's f_oneway method \n",
    "n1, n2, n3 = 51, 46, 49\n",
    "k = 3\n",
    "import scipy.stats\n",
    "\n",
    "# scipy.stats.f_oneway(WA_ibu, MN_ibu, DMV_ibu)\n",
    "t_anova, p_value = scipy.stats.f_oneway(WA_ibu, MN_ibu, DMV_ibu)\n",
    "print(t_anova)\n",
    "print(p_value)"
   ]
  },
  {
   "cell_type": "code",
   "execution_count": 192,
   "metadata": {},
   "outputs": [],
   "source": [
    "import numpy\n",
    "import scipy.stats as stats\n",
    "dfn = k - 1\n",
    "dfd = n1 + n2 + n3 \n",
    "\n",
    "def f_distribution(dfn, dfd, t_anova, p_anova, alpha=0.05,):\n",
    "    fig, ax = plt.subplots(1, 1)\n",
    "    \n",
    "    x = np.linspace(stats.f.ppf(0.01, dfn, dfd), stats.f.ppf(0.99, dfn, dfd), 100)\n",
    "    t_crit = stats.f.ppf((1-alpha), dfn, dfd)\n",
    "    y = stats.f.pdf(x, dfn, dfd)\n",
    "    \n",
    "    ax.plot(x, y, 'r-', lw=5, alpha=alpha, label='f pdf')\n",
    "    ax.axvline(t_anova, color='red', linestyle='--', lw=2, label='t-anova ')\n",
    "    ax.axvline(t_crit, color='green', linestyle='--', lw=2, label='t- critical')\n",
    "    ax.fill_betweenx(y, x, t_crit, where=x > t_crit, color='#376cb0', alpha=0.7)\n",
    "    rv = stats.f(dfn, dfd)\n",
    "    ax.plot(x, rv.pdf(x), 'k-', lw=2, label='frozen pdf')\n",
    "    plt.title('F-PDF (one-sided test at alpha = {})'. format(alpha), size=20)\n",
    "    plt.xlabel('Value of F', size=25)\n",
    "    plt.ylabel('Probability Density', size =15)\n",
    "    \n",
    "    t_anova, p_value = scipy.stats.f_oneway(WA_ibu, MN_ibu, DMV_ibu)\n",
    "    \n",
    "    # hypothesis testing    \n",
    "    if (t_anova > t_crit and p_anova < alpha):\n",
    "\n",
    "        print(\"\"\"Null hypohesis rejected. Results are statistically significant\n",
    "         with t-statistic = \"\"\", round(t_anova, 4), \", critical t-value = \",\n",
    "              round(t_crit, 4), \"and p-value = \", round(p_anova, 4))\n",
    "    else:\n",
    "        print('Null hypothesis is True with t-statistic = ',\n",
    "              round(t_anova, 4), \", critical t-value = \",\n",
    "              round(t_crit, 4), 'and p-value = ', round(p_anova, 4))\n",
    "\n",
    "    ax.legend(loc='best', frameon=False)\n",
    "    "
   ]
  },
  {
   "cell_type": "code",
   "execution_count": 193,
   "metadata": {},
   "outputs": [
    {
     "data": {
      "image/png": "[encoded data removed]",
      "text/plain": [
       "<Figure size 864x720 with 1 Axes>"
      ]
     },
     "metadata": {},
     "output_type": "display_data"
    }
   ],
   "source": [
    "f_distribution(3, 10)"
   ]
  },
  {
   "cell_type": "code",
   "execution_count": 183,
   "metadata": {},
   "outputs": [
    {
     "data": {
      "text/plain": [
       "<matplotlib.legend.Legend at 0x1a20c08c88>"
      ]
     },
     "execution_count": 183,
     "metadata": {},
     "output_type": "execute_result"
    },
    {
     "data": {
      "image/png": "[encoded data removed]",
      "text/plain": [
       "<Figure size 864x720 with 1 Axes>"
      ]
     },
     "metadata": {},
     "output_type": "display_data"
    }
   ],
   "source": [
    "fig, ax = plt.subplots(1, 1)\n",
    "dfn, dfd = 3, 30\n",
    "\n",
    "\n",
    "x = np.linspace(stats.f.ppf(0.01, dfn, dfd),\n",
    "                stats.f.ppf(0.99, dfn, dfd), 100)\n",
    "t_crit = stats.f.ppf(0.95, dfn, dfd)\n",
    "y = stats.f.pdf(x, dfn, dfd)\n",
    "\n",
    "# ax.plot(x, stats.f.pdf(x, dfn, dfd),\n",
    "#        'r-', lw=5, alpha=0.5, label='f pdf')\n",
    "ax.plot(x, y, 'r-', lw=5, alpha=0.5, label='f pdf')\n",
    "ax.axvline(t_anova, color='red', linestyle='--', lw=2, label='t-anova ')\n",
    "ax.axvline(t_crit, color='green', linestyle='--', lw=2, label='t- critical')\n",
    "ax.fill_betweenx(y, x, t_crit, where=x > t_crit, color='#376cb0', alpha=0.7)\n",
    "rv = stats.f(dfn, dfd)\n",
    "ax.plot(x, rv.pdf(x), 'k-', lw=2, label='frozen pdf')\n",
    "\n",
    "ax.legend(loc='best', frameon=False)"
   ]
  },
  {
   "cell_type": "markdown",
   "metadata": {},
   "source": [
    "### Step 6: Construct Acceptance / Rejection regions"
   ]
  },
  {
   "cell_type": "markdown",
   "metadata": {},
   "source": [
    "### Step 7: Based on steps 5 and 6, draw a conclusion about $H_{0}$\n"
   ]
  },
  {
   "cell_type": "code",
   "execution_count": null,
   "metadata": {},
   "outputs": [],
   "source": []
  },
  {
   "cell_type": "code",
   "execution_count": null,
   "metadata": {},
   "outputs": [],
   "source": []
  },
  {
   "cell_type": "code",
   "execution_count": null,
   "metadata": {},
   "outputs": [],
   "source": []
  },
  {
   "cell_type": "code",
   "execution_count": null,
   "metadata": {},
   "outputs": [],
   "source": []
  },
  {
   "cell_type": "markdown",
   "metadata": {},
   "source": [
    "### Playground "
   ]
  },
  {
   "cell_type": "markdown",
   "metadata": {},
   "source": []
  },
  {
   "cell_type": "code",
   "execution_count": null,
   "metadata": {},
   "outputs": [],
   "source": [
    "ipa_lst = np.array([(i - ipa_sampling.mean())/ipa_sampling.std() for i in ipa_sampling])\n",
    "pilsener_lst = np.array([(p - pilsener_sampling.mean())/pilsener_sampling.std() for p in pilsener_sampling])\n",
    "\n",
    "print('This is after standerdization of the 50 samples')\n",
    "print('---------------------------')\n",
    "print('American-Style Pilsener mean:',round(pilsener_lst.mean(),3))\n",
    "print('American-Style Pilsener standard divation:', round(pilsener_lst.std(),3))\n",
    "print('American-Style Pilsener size', len(pilsener_lst))\n",
    "print('American-Style India Pale Ale mean', round(ipa_lst.mean(),3))\n",
    "print('American-Style India Pale Ale standard divation:', round(ipa_lst.std(),3))\n",
    "print('American-Style India Pale Ale size', len(ipa_lst))\n",
    "\n",
    "# Draw a plot showing overlapping of distribution means and sds for incpection\n",
    "sns.set(color_codes=True)\n",
    "sns.set(rc={'figure.figsize':(10,5)})\n",
    "sns.distplot(pilsener_lst, hist=False)\n",
    "sns.distplot(ipa_lst, hist=False)"
   ]
  },
  {
   "cell_type": "code",
   "execution_count": null,
   "metadata": {},
   "outputs": [],
   "source": [
    "## Take 50 sample from American-Style  and Belgian-Style Pale Ale\n",
    "import numpy as np\n",
    "np.random.seed(2019)\n",
    "American_PA_abv_sample = np.random.choice(American_PA_abv, size=50)\n",
    "Belgian_PA_abv_sample = np.random.choice(Belgian_PA_abv, size=50)\n",
    "print('Mean ABV for American-Style Pale Ale', round(American_PA_abv_sample.mean(),2))\n",
    "print('Mean ABV for Belgian-Style Pale Ale', round(Belgian_PA_abv_sample.mean(),2))"
   ]
  },
  {
   "cell_type": "code",
   "execution_count": null,
   "metadata": {},
   "outputs": [],
   "source": [
    "## import the two sample t statistc module\n",
    "# import test_moduls as hyp_test\n",
    "alpha = 0.05\n",
    "\n",
    "## Calculate the t statsits\n",
    "t_stat = twosample_tstatistic(American_PA_abv_sample, Belgian_PA_abv_sample)\n",
    "\n",
    "print('t-statistic value:', t_stat)\n",
    "t_crit = stats.t.ppf(q=1-0.05, df=98)\n",
    "print('t-critial value:', t_crit)"
   ]
  },
  {
   "cell_type": "code",
   "execution_count": null,
   "metadata": {},
   "outputs": [],
   "source": [
    "## copied the same thing for ibu \n",
    "# print('Beer style count:', beers.style_name.value_counts())\n",
    "pilsener_ibu = beers[beers['style_name'] == 'American-Style Pilsener']['ibu'] # 40672\n",
    "pilsener_ibu = np.array(pilsener_ibu[pilsener_ibu.notnull()])\n",
    "print('>> There are {} American-Style Pilsener records in the dataset.'.format(len(pilsener_ibu)))\n",
    "# ipa == India Pale Ale\n",
    "ipa_ibu = beers[beers['style_name'] == 'American-Style India Pale Ale']['ibu'] # 40672\n",
    "ipa_ibu = np.array(ipa_ibu[ipa_ibu.notnull()])\n",
    "print('>> There are {} American-Style IPA records in the dataset.'.format(len(ipa_ibu)))\n",
    "\n",
    "# IBU comparision\n",
    "print('\\n' +'IBU metrix for American-Style Pilsener and India Pale Ale (IPA)')\n",
    "print('--------------')\n",
    "print('American-Style Pilsener mean:',round(pilsener_ibu.mean(),3))\n",
    "print('American-Style Pilsener standard divation:', round(pilsener_ibu.std(),3))\n",
    "print('American-Style Pilsener size:', len(pilsener_ibu))\n",
    "print('American-Style India Pale Ale mean:', round(ipa_ibu.mean(),3))\n",
    "print('American-Style India Pale Ale standard divation:', round(ipa_ibu.std(),3))\n",
    "print('American-Style India Pale Ale size:', len(ipa_ibu))"
   ]
  },
  {
   "cell_type": "code",
   "execution_count": null,
   "metadata": {},
   "outputs": [],
   "source": [
    "def boxplot(dataset):\n",
    "    \"\"\"Make a box plot for each column of ``x``.\n",
    "\n",
    "    Parameters\n",
    "    ----------\n",
    "    X : Array or a sequence of vectors\n",
    "\n",
    "    \"\"\"\n",
    "    fig, axs = plt.subplots(nrows=1, ncols=3, figsize=(10, 5), sharey=False)\n",
    "\n",
    "    axs[0].boxplot(dataset.abv, labels=['ABV'], notch=True, showmeans=True)\n",
    "    axs[0].set_title('Alcohol By Volume')\n",
    "    axs[1].boxplot(dataset.gravity, labels=['OG'], notch=True, showmeans=True)\n",
    "    axs[1].set_title('Original Gravity')\n",
    "    axs[2].boxplot(dataset.ibu, labels=['IBU'], notch=True, showmeans=True)\n",
    "    axs[2].set_title('International Bitterness Units')"
   ]
  },
  {
   "cell_type": "code",
   "execution_count": 218,
   "metadata": {},
   "outputs": [],
   "source": [
    "# load packages\n",
    "import pandas as pd\n",
    "# load data file\n",
    "d = pd.read_csv(\"https://reneshbedre.github.io/myfiles/anova/onewayanova.txt\", sep=\"\\t\")\n",
    "# generate a boxplot to see the data distribution by treatments. Using boxplot, we can easily detect the differences \n",
    "# between different treatments"
   ]
  },
  {
   "cell_type": "code",
   "execution_count": 219,
   "metadata": {},
   "outputs": [
    {
     "data": {
      "text/html": [
       "<div>\n",
       "<style scoped>\n",
       "    .dataframe tbody tr th:only-of-type {\n",
       "        vertical-align: middle;\n",
       "    }\n",
       "\n",
       "    .dataframe tbody tr th {\n",
       "        vertical-align: top;\n",
       "    }\n",
       "\n",
       "    .dataframe thead th {\n",
       "        text-align: right;\n",
       "    }\n",
       "</style>\n",
       "<table border=\"1\" class=\"dataframe\">\n",
       "  <thead>\n",
       "    <tr style=\"text-align: right;\">\n",
       "      <th></th>\n",
       "      <th>A</th>\n",
       "      <th>B</th>\n",
       "      <th>C</th>\n",
       "      <th>D</th>\n",
       "    </tr>\n",
       "  </thead>\n",
       "  <tbody>\n",
       "    <tr>\n",
       "      <th>0</th>\n",
       "      <td>25</td>\n",
       "      <td>45</td>\n",
       "      <td>30</td>\n",
       "      <td>54</td>\n",
       "    </tr>\n",
       "    <tr>\n",
       "      <th>1</th>\n",
       "      <td>30</td>\n",
       "      <td>55</td>\n",
       "      <td>29</td>\n",
       "      <td>60</td>\n",
       "    </tr>\n",
       "    <tr>\n",
       "      <th>2</th>\n",
       "      <td>28</td>\n",
       "      <td>29</td>\n",
       "      <td>33</td>\n",
       "      <td>51</td>\n",
       "    </tr>\n",
       "    <tr>\n",
       "      <th>3</th>\n",
       "      <td>36</td>\n",
       "      <td>56</td>\n",
       "      <td>37</td>\n",
       "      <td>62</td>\n",
       "    </tr>\n",
       "    <tr>\n",
       "      <th>4</th>\n",
       "      <td>29</td>\n",
       "      <td>40</td>\n",
       "      <td>27</td>\n",
       "      <td>73</td>\n",
       "    </tr>\n",
       "  </tbody>\n",
       "</table>\n",
       "</div>"
      ],
      "text/plain": [
       "    A   B   C   D\n",
       "0  25  45  30  54\n",
       "1  30  55  29  60\n",
       "2  28  29  33  51\n",
       "3  36  56  37  62\n",
       "4  29  40  27  73"
      ]
     },
     "execution_count": 219,
     "metadata": {},
     "output_type": "execute_result"
    }
   ],
   "source": [
    "d"
   ]
  },
  {
   "cell_type": "code",
   "execution_count": 220,
   "metadata": {},
   "outputs": [
    {
     "name": "stdout",
     "output_type": "stream",
     "text": [
      "17.492810457516338 2.639241146210922e-05\n"
     ]
    }
   ],
   "source": [
    "# # load packages\n",
    "# import scipy.stats as stats\n",
    "# # stats f_oneway functions takes the groups as input and returns F and P-value\n",
    "fvalue, pvalue = stats.f_oneway(d['A'], d['B'], d['C'], d['D'])\n",
    "print(fvalue, pvalue)\n",
    "# 17.492810457516338 2.639241146210922e-05"
   ]
  },
  {
   "cell_type": "code",
   "execution_count": 222,
   "metadata": {},
   "outputs": [
    {
     "data": {
      "text/plain": [
       "list"
      ]
     },
     "execution_count": 222,
     "metadata": {},
     "output_type": "execute_result"
    }
   ],
   "source": [
    "d.reset_index"
   ]
  },
  {
   "cell_type": "code",
   "execution_count": 226,
   "metadata": {},
   "outputs": [
    {
     "data": {
      "text/html": [
       "<div>\n",
       "<style scoped>\n",
       "    .dataframe tbody tr th:only-of-type {\n",
       "        vertical-align: middle;\n",
       "    }\n",
       "\n",
       "    .dataframe tbody tr th {\n",
       "        vertical-align: top;\n",
       "    }\n",
       "\n",
       "    .dataframe thead th {\n",
       "        text-align: right;\n",
       "    }\n",
       "</style>\n",
       "<table border=\"1\" class=\"dataframe\">\n",
       "  <thead>\n",
       "    <tr style=\"text-align: right;\">\n",
       "      <th></th>\n",
       "      <th>sum_sq</th>\n",
       "      <th>df</th>\n",
       "      <th>F</th>\n",
       "      <th>PR(&gt;F)</th>\n",
       "    </tr>\n",
       "  </thead>\n",
       "  <tbody>\n",
       "    <tr>\n",
       "      <th>C(treatments)</th>\n",
       "      <td>3010.95</td>\n",
       "      <td>3.0</td>\n",
       "      <td>17.49281</td>\n",
       "      <td>0.000026</td>\n",
       "    </tr>\n",
       "    <tr>\n",
       "      <th>Residual</th>\n",
       "      <td>918.00</td>\n",
       "      <td>16.0</td>\n",
       "      <td>NaN</td>\n",
       "      <td>NaN</td>\n",
       "    </tr>\n",
       "  </tbody>\n",
       "</table>\n",
       "</div>"
      ],
      "text/plain": [
       "                sum_sq    df         F    PR(>F)\n",
       "C(treatments)  3010.95   3.0  17.49281  0.000026\n",
       "Residual        918.00  16.0       NaN       NaN"
      ]
     },
     "execution_count": 226,
     "metadata": {},
     "output_type": "execute_result"
    }
   ],
   "source": [
    "# get ANOVA table as R like output\n",
    "import statsmodels.api as sm\n",
    "from statsmodels.formula.api import ols\n",
    "# reshape the d dataframe suitable for statsmodels package \n",
    "d_melt = pd.melt(d.reset_index(), id_vars=['index'], value_vars=['A', 'B', 'C', 'D'])\n",
    "# replace column names\n",
    "d_melt.columns = ['index', 'treatments', 'value']\n",
    "# Ordinary Least Squares (OLS) model\n",
    "model = ols('value ~ C(treatments)', data=d_melt).fit()\n",
    "anova_table = sm.stats.anova_lm(model, typ=2)\n",
    "anova_table"
   ]
  },
  {
   "cell_type": "code",
   "execution_count": 224,
   "metadata": {},
   "outputs": [
    {
     "data": {
      "text/html": [
       "<div>\n",
       "<style scoped>\n",
       "    .dataframe tbody tr th:only-of-type {\n",
       "        vertical-align: middle;\n",
       "    }\n",
       "\n",
       "    .dataframe tbody tr th {\n",
       "        vertical-align: top;\n",
       "    }\n",
       "\n",
       "    .dataframe thead th {\n",
       "        text-align: right;\n",
       "    }\n",
       "</style>\n",
       "<table border=\"1\" class=\"dataframe\">\n",
       "  <thead>\n",
       "    <tr style=\"text-align: right;\">\n",
       "      <th></th>\n",
       "      <th>index</th>\n",
       "      <th>variable</th>\n",
       "      <th>value</th>\n",
       "    </tr>\n",
       "  </thead>\n",
       "  <tbody>\n",
       "    <tr>\n",
       "      <th>0</th>\n",
       "      <td>0</td>\n",
       "      <td>A</td>\n",
       "      <td>25</td>\n",
       "    </tr>\n",
       "    <tr>\n",
       "      <th>1</th>\n",
       "      <td>1</td>\n",
       "      <td>A</td>\n",
       "      <td>30</td>\n",
       "    </tr>\n",
       "    <tr>\n",
       "      <th>2</th>\n",
       "      <td>2</td>\n",
       "      <td>A</td>\n",
       "      <td>28</td>\n",
       "    </tr>\n",
       "    <tr>\n",
       "      <th>3</th>\n",
       "      <td>3</td>\n",
       "      <td>A</td>\n",
       "      <td>36</td>\n",
       "    </tr>\n",
       "    <tr>\n",
       "      <th>4</th>\n",
       "      <td>4</td>\n",
       "      <td>A</td>\n",
       "      <td>29</td>\n",
       "    </tr>\n",
       "    <tr>\n",
       "      <th>5</th>\n",
       "      <td>0</td>\n",
       "      <td>B</td>\n",
       "      <td>45</td>\n",
       "    </tr>\n",
       "    <tr>\n",
       "      <th>6</th>\n",
       "      <td>1</td>\n",
       "      <td>B</td>\n",
       "      <td>55</td>\n",
       "    </tr>\n",
       "    <tr>\n",
       "      <th>7</th>\n",
       "      <td>2</td>\n",
       "      <td>B</td>\n",
       "      <td>29</td>\n",
       "    </tr>\n",
       "    <tr>\n",
       "      <th>8</th>\n",
       "      <td>3</td>\n",
       "      <td>B</td>\n",
       "      <td>56</td>\n",
       "    </tr>\n",
       "    <tr>\n",
       "      <th>9</th>\n",
       "      <td>4</td>\n",
       "      <td>B</td>\n",
       "      <td>40</td>\n",
       "    </tr>\n",
       "    <tr>\n",
       "      <th>10</th>\n",
       "      <td>0</td>\n",
       "      <td>C</td>\n",
       "      <td>30</td>\n",
       "    </tr>\n",
       "    <tr>\n",
       "      <th>11</th>\n",
       "      <td>1</td>\n",
       "      <td>C</td>\n",
       "      <td>29</td>\n",
       "    </tr>\n",
       "    <tr>\n",
       "      <th>12</th>\n",
       "      <td>2</td>\n",
       "      <td>C</td>\n",
       "      <td>33</td>\n",
       "    </tr>\n",
       "    <tr>\n",
       "      <th>13</th>\n",
       "      <td>3</td>\n",
       "      <td>C</td>\n",
       "      <td>37</td>\n",
       "    </tr>\n",
       "    <tr>\n",
       "      <th>14</th>\n",
       "      <td>4</td>\n",
       "      <td>C</td>\n",
       "      <td>27</td>\n",
       "    </tr>\n",
       "    <tr>\n",
       "      <th>15</th>\n",
       "      <td>0</td>\n",
       "      <td>D</td>\n",
       "      <td>54</td>\n",
       "    </tr>\n",
       "    <tr>\n",
       "      <th>16</th>\n",
       "      <td>1</td>\n",
       "      <td>D</td>\n",
       "      <td>60</td>\n",
       "    </tr>\n",
       "    <tr>\n",
       "      <th>17</th>\n",
       "      <td>2</td>\n",
       "      <td>D</td>\n",
       "      <td>51</td>\n",
       "    </tr>\n",
       "    <tr>\n",
       "      <th>18</th>\n",
       "      <td>3</td>\n",
       "      <td>D</td>\n",
       "      <td>62</td>\n",
       "    </tr>\n",
       "    <tr>\n",
       "      <th>19</th>\n",
       "      <td>4</td>\n",
       "      <td>D</td>\n",
       "      <td>73</td>\n",
       "    </tr>\n",
       "  </tbody>\n",
       "</table>\n",
       "</div>"
      ],
      "text/plain": [
       "    index variable  value\n",
       "0       0        A     25\n",
       "1       1        A     30\n",
       "2       2        A     28\n",
       "3       3        A     36\n",
       "4       4        A     29\n",
       "5       0        B     45\n",
       "6       1        B     55\n",
       "7       2        B     29\n",
       "8       3        B     56\n",
       "9       4        B     40\n",
       "10      0        C     30\n",
       "11      1        C     29\n",
       "12      2        C     33\n",
       "13      3        C     37\n",
       "14      4        C     27\n",
       "15      0        D     54\n",
       "16      1        D     60\n",
       "17      2        D     51\n",
       "18      3        D     62\n",
       "19      4        D     73"
      ]
     },
     "execution_count": 224,
     "metadata": {},
     "output_type": "execute_result"
    }
   ],
   "source": [
    "d_melt"
   ]
  },
  {
   "cell_type": "code",
   "execution_count": null,
   "metadata": {},
   "outputs": [],
   "source": []
  }
 ],
 "metadata": {
  "kernelspec": {
   "display_name": "learn-env",
   "language": "python",
   "name": "learn-env"
  },
  "language_info": {
   "codemirror_mode": {
    "name": "ipython",
    "version": 3
   },
   "file_extension": ".py",
   "mimetype": "text/x-python",
   "name": "python",
   "nbconvert_exporter": "python",
   "pygments_lexer": "ipython3",
   "version": "3.6.6"
  }
 },
 "nbformat": 4,
 "nbformat_minor": 2
}
